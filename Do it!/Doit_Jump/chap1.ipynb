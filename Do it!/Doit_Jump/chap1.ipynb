{
 "cells": [
  {
   "attachments": {},
   "cell_type": "markdown",
   "metadata": {},
   "source": [
    "### 파이썬이란 무엇인가?"
   ]
  },
  {
   "attachments": {},
   "cell_type": "markdown",
   "metadata": {},
   "source": [
    "##### 01-1 파이썬이란?"
   ]
  },
  {
   "attachments": {},
   "cell_type": "markdown",
   "metadata": {},
   "source": [
    "- 인터프리터 언어 (한 줄씩 소스 코드를 해석해서 그때그때 실행해 결과를 바로 확인)\n",
    "- Python (파이썬 대화형 인터프리터를 간단히 부르는 명칭)"
   ]
  },
  {
   "attachments": {},
   "cell_type": "markdown",
   "metadata": {},
   "source": [
    "- IDLE (Integrated Development and Learing Environment) \n",
    "- 시작 -> 모든 프로그램 -> Python 3.7 -> IDLE\n",
    "    - IDLE 셸 창 (Shell Window)는 IDLE 에디터에서 실행한 프로그램의 결과가 표시되는 창으로서 파이썬 셸과 동일한 기능 수행\n",
    "    - IDLE 에디터 창 (Editor Window)는 IDLE 에디터가 실행되는 창으로 프로그램은 IDLE 에디터 창에서 작성\n",
    "        - File -> New File\n",
    "        - Run -> Run Module (단축키 F5)\n",
    "        - 프로그램 실행하면 파일을 먼저 저장하라는 대화상자 나옴 (파일 이름의 확장자 이름은 항상 py)"
   ]
  },
  {
   "attachments": {},
   "cell_type": "markdown",
   "metadata": {},
   "source": [
    "- 주석문이 여러 줄이라면 큰따옴표 세 개를 연속으로 사용한 \"\"\" 기호 사이에 주석문을 작성\n",
    "- 작은따옴표 세 개를 연속으로 사용해도 됨"
   ]
  },
  {
   "attachments": {},
   "cell_type": "markdown",
   "metadata": {},
   "source": [
    "- 명령 프롬프트 창 (윈도우 + R 누르고 cmd 입력)\n",
    "- cd (change directory) 명령어는 바로 다음에 나오는 디렉터리로 프롬프트를 옮김"
   ]
  },
  {
   "attachments": {},
   "cell_type": "markdown",
   "metadata": {},
   "source": [
    "- 비주얼 스튜디오 코드 (Visual Studio Code)는 파이선 Extension 설치 필요\n",
    "- 파이참 (PyCharm)은 별도의 Extension 설치 필요 없음"
   ]
  }
 ],
 "metadata": {
  "kernelspec": {
   "display_name": "Python 3",
   "language": "python",
   "name": "python3"
  },
  "language_info": {
   "codemirror_mode": {
    "name": "ipython",
    "version": 3
   },
   "file_extension": ".py",
   "mimetype": "text/x-python",
   "name": "python",
   "nbconvert_exporter": "python",
   "pygments_lexer": "ipython3",
   "version": "3.11.1 (tags/v3.11.1:a7a450f, Dec  6 2022, 19:58:39) [MSC v.1934 64 bit (AMD64)]"
  },
  "orig_nbformat": 4,
  "vscode": {
   "interpreter": {
    "hash": "afffc98ef2e14478aefd6c9936db4a8482b7a0abefe81264c0b83ced56e60f5e"
   }
  }
 },
 "nbformat": 4,
 "nbformat_minor": 2
}
