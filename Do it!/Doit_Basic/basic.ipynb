{
 "cells": [
  {
   "cell_type": "code",
   "execution_count": 1,
   "metadata": {},
   "outputs": [
    {
     "name": "stdout",
     "output_type": "stream",
     "text": [
      "당신은 Jeesu Lee이고 27살입니다.\n",
      "당신은 Jeesu Lee 이고  27 살입니다.\n",
      "당신은 Jeesu Lee이고, 27살입니다.\n"
     ]
    }
   ],
   "source": [
    "이름 = input('당신의 이름은?')\n",
    "나이 = int(input('당신의 나이는?'))\n",
    "\n",
    "print('당신은 ' + 이름 + '이고 ' + str(나이) + '살입니다.')\n",
    "print('당신은', 이름, '이고 ', 나이, '살입니다.')\n",
    "print('당신은 {}이고, {}살입니다.'.format(이름, 나이))"
   ]
  },
  {
   "cell_type": "code",
   "execution_count": 4,
   "metadata": {},
   "outputs": [
    {
     "name": "stdout",
     "output_type": "stream",
     "text": [
      "TV를 보며 편안하게 쉬세요.\n"
     ]
    }
   ],
   "source": [
    "등수 = input('몇 등인가요(1 또는 2)?')\n",
    "\n",
    "if 등수 == '1':\n",
    "    print('TV를 보며 편안하게 쉬세요.')\n",
    "else:\n",
    "    print('설거지 당첨!')"
   ]
  },
  {
   "cell_type": "code",
   "execution_count": 5,
   "metadata": {},
   "outputs": [
    {
     "name": "stdout",
     "output_type": "stream",
     "text": [
      "햄버거를 드세요.\n"
     ]
    }
   ],
   "source": [
    "학년 = int(input('몇 학년인가요(1~6)?'))\n",
    "\n",
    "if 학년 >= 2 and 학년 <= 4:\n",
    "    print('햄버거를 드세요.')\n",
    "else:\n",
    "    print('김밥을 드세요.')"
   ]
  },
  {
   "cell_type": "code",
   "execution_count": 6,
   "metadata": {},
   "outputs": [
    {
     "name": "stdout",
     "output_type": "stream",
     "text": [
      "편의점에서 라면을 먹자\n"
     ]
    }
   ],
   "source": [
    "피자가게 = input('피자 가게가 열렸나요(예/아니오)?')\n",
    "치킨가게 = input('치킨 가게가 열렸나요(예/아니오)?')\n",
    "\n",
    "if 피자가게 == '예':\n",
    "    print('피자 가게로 가자')\n",
    "elif 치킨가게 == '예':\n",
    "    print('치킨 가게로 가자')\n",
    "else:\n",
    "    print('편의점에서 라면을 먹자')"
   ]
  },
  {
   "cell_type": "code",
   "execution_count": 1,
   "metadata": {},
   "outputs": [
    {
     "name": "stdout",
     "output_type": "stream",
     "text": [
      "[식권] 번호: 1\n",
      "[식권] 번호: 2\n",
      "[식권] 번호: 3\n"
     ]
    }
   ],
   "source": [
    "전체식권수 = int(input('식권이 몇 장 필요한가요?'))\n",
    "\n",
    "for 출력식권 in range(1, 전체식권수 +1):\n",
    "    print('[식권] 번호:', 출력식권)"
   ]
  },
  {
   "cell_type": "code",
   "execution_count": 5,
   "metadata": {},
   "outputs": [
    {
     "name": "stdout",
     "output_type": "stream",
     "text": [
      "3x1 = 3\n",
      "3x2 = 6\n",
      "3x3 = 9\n",
      "3x4 = 12\n",
      "3x5 = 15\n",
      "3x6 = 18\n",
      "3x7 = 21\n",
      "3x8 = 24\n",
      "3x9 = 27\n",
      "4x1 = 4\n",
      "4x2 = 8\n",
      "4x3 = 12\n",
      "4x4 = 16\n",
      "4x5 = 20\n",
      "4x6 = 24\n",
      "4x7 = 28\n",
      "4x8 = 32\n",
      "4x9 = 36\n",
      "5x1 = 5\n",
      "5x2 = 10\n",
      "5x3 = 15\n",
      "5x4 = 20\n",
      "5x5 = 25\n",
      "5x6 = 30\n",
      "5x7 = 35\n",
      "5x8 = 40\n",
      "5x9 = 45\n",
      "\n"
     ]
    }
   ],
   "source": [
    "시작단 = int(input('구구단 시작 단을 입력하세요(1~9):'))\n",
    "끝단 = int(input('구구단 끝 단을 입력하세요(1~9)'))\n",
    "\n",
    "출력값 = ''\n",
    "\n",
    "for 앞수 in range(시작단, 끝단 + 1):\n",
    "    for 뒷수 in range(1,10):\n",
    "        지금값 = '{}x{} = {}\\n'.format(앞수, 뒷수, 앞수*뒷수)\n",
    "        출력값 = 출력값 + 지금값\n",
    "\n",
    "print(출력값)"
   ]
  },
  {
   "cell_type": "code",
   "execution_count": 7,
   "metadata": {},
   "outputs": [
    {
     "name": "stdout",
     "output_type": "stream",
     "text": [
      "3x1 = 3\n",
      "3x2 = 6\n",
      "3x3 = 9\n",
      "3x4 = 12\n",
      "3x5 = 15\n",
      "3x6 = 18\n",
      "3x7 = 21\n",
      "3x8 = 24\n",
      "3x9 = 27\n",
      "**********\n",
      "4x1 = 4\n",
      "4x2 = 8\n",
      "4x3 = 12\n",
      "4x4 = 16\n",
      "4x5 = 20\n",
      "4x6 = 24\n",
      "4x7 = 28\n",
      "4x8 = 32\n",
      "4x9 = 36\n",
      "**********\n",
      "5x1 = 5\n",
      "5x2 = 10\n",
      "5x3 = 15\n",
      "5x4 = 20\n",
      "5x5 = 25\n",
      "5x6 = 30\n",
      "5x7 = 35\n",
      "5x8 = 40\n",
      "5x9 = 45\n",
      "**********\n",
      "\n"
     ]
    }
   ],
   "source": [
    "시작단 = int(input('구구단 시작 단을 입력하세요(1~9):'))\n",
    "끝단 = int(input('구구단 끝 단을 입력하세요(1~9)'))\n",
    "\n",
    "출력값 = ''\n",
    "\n",
    "for 앞수 in range(시작단, 끝단 + 1):\n",
    "    for 뒷수 in range(1,10):\n",
    "        지금값 = '{}x{} = {}\\n'.format(앞수, 뒷수, 앞수*뒷수)\n",
    "        출력값 = 출력값 + 지금값\n",
    "    출력값 = 출력값 + '**********\\n'\n",
    "\n",
    "print(출력값)"
   ]
  },
  {
   "cell_type": "code",
   "execution_count": 9,
   "metadata": {},
   "outputs": [
    {
     "name": "stdout",
     "output_type": "stream",
     "text": [
      "3x1 = 3\n",
      "3x2 = 6\n",
      "3x3 = 9\n",
      "3x4 = 12\n",
      "3x5 = 15\n",
      "3x6 = 18\n",
      "3x7 = 21\n",
      "3x8 = 24\n",
      "3x9 = 27\n",
      "**********\n",
      "4x1 = 4\n",
      "4x2 = 8\n",
      "4x3 = 12\n",
      "4x4 = 16\n",
      "4x5 = 20\n",
      "4x6 = 24\n",
      "4x7 = 28\n",
      "4x8 = 32\n",
      "4x9 = 36\n",
      "**********\n",
      "5x1 = 5\n",
      "5x2 = 10\n",
      "5x3 = 15\n",
      "5x4 = 20\n",
      "5x5 = 25\n",
      "5x6 = 30\n",
      "5x7 = 35\n",
      "5x8 = 40\n",
      "5x9 = 45\n",
      "\n"
     ]
    }
   ],
   "source": [
    "시작단 = int(input('구구단 시작 단을 입력하세요(1~9):'))\n",
    "끝단 = int(input('구구단 끝 단을 입력하세요(1~9)'))\n",
    "\n",
    "출력값 = ''\n",
    "\n",
    "for 앞수 in range(시작단, 끝단 + 1):\n",
    "    for 뒷수 in range(1,10):\n",
    "        지금값 = '{}x{} = {}\\n'.format(앞수, 뒷수, 앞수*뒷수)\n",
    "        출력값 = 출력값 + 지금값\n",
    "\n",
    "    if 앞수 == 끝단:\n",
    "        pass\n",
    "    else:\n",
    "        출력값 = 출력값 + '**********\\n'\n",
    "\n",
    "print(출력값)"
   ]
  },
  {
   "cell_type": "code",
   "execution_count": 10,
   "metadata": {},
   "outputs": [
    {
     "name": "stdout",
     "output_type": "stream",
     "text": [
      "3x1 = 3\n",
      "3x2 = 6\n",
      "3x3 = 9\n",
      "3x4 = 12\n",
      "3x5 = 15\n",
      "3x6 = 18\n",
      "3x7 = 21\n",
      "3x8 = 24\n",
      "3x9 = 27\n",
      "**********\n",
      "4x1 = 4\n",
      "4x2 = 8\n",
      "4x3 = 12\n",
      "4x4 = 16\n",
      "4x5 = 20\n",
      "4x6 = 24\n",
      "4x7 = 28\n",
      "4x8 = 32\n",
      "4x9 = 36\n",
      "**********\n",
      "5x1 = 5\n",
      "5x2 = 10\n",
      "5x3 = 15\n",
      "5x4 = 20\n",
      "5x5 = 25\n",
      "5x6 = 30\n",
      "5x7 = 35\n",
      "5x8 = 40\n",
      "5x9 = 45\n",
      "\n"
     ]
    }
   ],
   "source": [
    "시작단 = int(input('구구단 시작 단을 입력하세요(1~9):'))\n",
    "끝단 = int(input('구구단 끝 단을 입력하세요(1~9)'))\n",
    "\n",
    "출력값 = ''\n",
    "\n",
    "for 앞수 in range(시작단, 끝단 + 1):\n",
    "    for 뒷수 in range(1,10):\n",
    "        지금값 = '{}x{} = {}\\n'.format(앞수, 뒷수, 앞수*뒷수)\n",
    "        출력값 = 출력값 + 지금값\n",
    "\n",
    "    if 앞수 != 끝단:\n",
    "        출력값 = 출력값 + '**********\\n' \n",
    "\n",
    "print(출력값)"
   ]
  },
  {
   "cell_type": "code",
   "execution_count": 11,
   "metadata": {},
   "outputs": [
    {
     "name": "stdout",
     "output_type": "stream",
     "text": [
      "3x1 = 3\n",
      "3x2 = 6\n",
      "3x3 = 9\n",
      "3x4 = 12\n",
      "3x5 = 15\n",
      "3x6 = 18\n",
      "3x7 = 21\n",
      "3x8 = 24\n",
      "3x9 = 27\n",
      "**********\n",
      "4x1 = 4\n",
      "4x2 = 8\n",
      "4x3 = 12\n",
      "4x4 = 16\n",
      "4x5 = 20\n",
      "4x6 = 24\n",
      "4x7 = 28\n",
      "4x8 = 32\n",
      "4x9 = 36\n",
      "**********\n",
      "5x1 = 5\n",
      "5x2 = 10\n",
      "5x3 = 15\n",
      "5x4 = 20\n",
      "5x5 = 25\n",
      "5x6 = 30\n",
      "5x7 = 35\n",
      "5x8 = 40\n",
      "5x9 = 45\n",
      "\n"
     ]
    }
   ],
   "source": [
    "시작단 = int(input('구구단 시작 단을 입력하세요(1~9):'))\n",
    "끝단 = int(input('구구단 끝 단을 입력하세요(1~9)'))\n",
    "\n",
    "출력값 = ''\n",
    "\n",
    "for 앞수 in range(시작단, 끝단 + 1):\n",
    "    for 뒷수 in range(1,10):\n",
    "        지금값 = '{}x{} = {}\\n'.format(앞수, 뒷수, 앞수*뒷수)\n",
    "        출력값 = 출력값 + 지금값\n",
    "\n",
    "    if 앞수 != 끝단:\n",
    "        출력값 += '**********\\n' \n",
    "\n",
    "print(출력값)"
   ]
  },
  {
   "cell_type": "code",
   "execution_count": 13,
   "metadata": {},
   "outputs": [
    {
     "name": "stdout",
     "output_type": "stream",
     "text": [
      "첫 코딩!첫 코딩!첫 코딩!첫 코딩!\n"
     ]
    }
   ],
   "source": [
    "문장 = input('아무 글이나 입력하세요:')\n",
    "\n",
    "글자수 = 0\n",
    "\n",
    "for 한글자 in 문장:\n",
    "    if 한글자 != ' ':\n",
    "        글자수 += 1\n",
    "\n",
    "print(문장 * 글자수)"
   ]
  },
  {
   "cell_type": "code",
   "execution_count": 15,
   "metadata": {},
   "outputs": [
    {
     "name": "stdout",
     "output_type": "stream",
     "text": [
      "--- 입력된 값 ---\n",
      "0번 학생의 성적: 5.0\n",
      "1번 학생의 성적: 80.0\n",
      "2번 학생의 성적: 70.0\n",
      "3번 학생의 성적: 60.0\n",
      "4번 학생의 성적: 80.0\n"
     ]
    }
   ],
   "source": [
    "성적 = [0.0] * 5 # 비어있는 리스트 5개를 만들어두고 값을 채우는 목적으로 생성\n",
    "\n",
    "for 번호 in range(5):\n",
    "    성적[번호] = float(input('{}번 학생의 성적을 입력하세요:'.format(번호)))\n",
    "\n",
    "print('--- 입력된 값 ---')\n",
    "\n",
    "for 번호 in range(5):\n",
    "    print('{}번 학생의 성적: {}'.format(번호, 성적[번호]))"
   ]
  },
  {
   "cell_type": "code",
   "execution_count": 16,
   "metadata": {},
   "outputs": [
    {
     "name": "stdout",
     "output_type": "stream",
     "text": [
      "60\n",
      "결석\n",
      "60\n",
      "70\n"
     ]
    }
   ],
   "source": [
    "성적 = [60, '결석', 60, 70]\n",
    "\n",
    "for 안의값 in 성적:\n",
    "    print(안의값)"
   ]
  },
  {
   "cell_type": "code",
   "execution_count": 17,
   "metadata": {},
   "outputs": [
    {
     "name": "stdout",
     "output_type": "stream",
     "text": [
      "70\n",
      "60\n",
      "결석\n"
     ]
    }
   ],
   "source": [
    "성적 = set([60, '결석', 60, 70])\n",
    "\n",
    "for 안의값 in 성적:\n",
    "    print(안의값)"
   ]
  },
  {
   "cell_type": "code",
   "execution_count": 19,
   "metadata": {},
   "outputs": [
    {
     "name": "stdout",
     "output_type": "stream",
     "text": [
      "결석\n",
      "승준\n",
      "은희\n",
      "태호\n",
      "지영\n"
     ]
    }
   ],
   "source": [
    "성적 = {'승준' : 60, '은희' : '결석', '태호' : 60, '지영' :70}\n",
    "\n",
    "print(성적['은희'])\n",
    "\n",
    "for 안의값 in 성적:\n",
    "    print(안의값)"
   ]
  },
  {
   "cell_type": "code",
   "execution_count": 20,
   "metadata": {},
   "outputs": [
    {
     "name": "stdout",
     "output_type": "stream",
     "text": [
      "60\n",
      "결석\n",
      "60\n",
      "70\n"
     ]
    }
   ],
   "source": [
    "성적 = {'승준' : 60, '은희' : '결석', '태호' : 60, '지영' :70}\n",
    "\n",
    "for 안의값 in 성적.values():\n",
    "    print(안의값)"
   ]
  },
  {
   "cell_type": "code",
   "execution_count": 21,
   "metadata": {},
   "outputs": [
    {
     "name": "stdout",
     "output_type": "stream",
     "text": [
      "140719040294472\n",
      "140719040294792\n"
     ]
    }
   ],
   "source": [
    "숫자 = 90\n",
    "print(id(숫자))\n",
    "\n",
    "숫자 = 100\n",
    "print(id(숫자))"
   ]
  },
  {
   "cell_type": "code",
   "execution_count": 22,
   "metadata": {},
   "outputs": [
    {
     "name": "stdout",
     "output_type": "stream",
     "text": [
      "[1, 2, 3]\n",
      "2221307647424\n",
      "[1, 2, 6]\n",
      "2221307647424\n"
     ]
    }
   ],
   "source": [
    "리스트 = [1, 2, 3]\n",
    "print(리스트)\n",
    "print(id(리스트))\n",
    "\n",
    "리스트[2] = 6\n",
    "print(리스트)\n",
    "print(id(리스트))"
   ]
  },
  {
   "cell_type": "code",
   "execution_count": 3,
   "metadata": {},
   "outputs": [
    {
     "name": "stdout",
     "output_type": "stream",
     "text": [
      "세면도구 01호 내용물\n",
      "치약: 1\n",
      "샴푸: 2\n",
      "비누: 0\n",
      "세면도구 03호 내용물\n",
      "치약: 4\n",
      "샴푸: 2\n",
      "비누: 2\n"
     ]
    }
   ],
   "source": [
    "class 세면도구:\n",
    "    치약 = 0\n",
    "    샴푸 = 0\n",
    "    비누 = 0\n",
    "\n",
    "    def 내용물출력(self, 세트이름):\n",
    "        print(세트이름)\n",
    "        print('치약:', self.치약)\n",
    "        print('샴푸:', self.샴푸)\n",
    "        print('비누:', self.비누)\n",
    "\n",
    "세01호 = 세면도구()\n",
    "세01호.치약 = 1\n",
    "세01호.샴푸 = 2\n",
    "세01호.비뉴 = 3\n",
    "\n",
    "세03호 = 세면도구()\n",
    "세03호.치약 = 4\n",
    "세03호.샴푸 = 2\n",
    "세03호.비누 = 2\n",
    "\n",
    "세01호.내용물출력('세면도구 01호 내용물')\n",
    "세03호.내용물출력('세면도구 03호 내용물')"
   ]
  },
  {
   "cell_type": "code",
   "execution_count": 4,
   "metadata": {},
   "outputs": [
    {
     "name": "stdout",
     "output_type": "stream",
     "text": [
      "세면도구세트 01호 내용물\n",
      "치약: 1\n",
      "샴푸: 2\n",
      "비누: 3\n",
      "새면도구세트 03호 내용물\n",
      "치약: 4\n",
      "샴푸: 2\n",
      "비누: 2\n"
     ]
    }
   ],
   "source": [
    "class 세면도구:\n",
    "    \n",
    "    def __init__(self, 치약, 샴푸, 비누):\n",
    "        self.치약 = 치약\n",
    "        self.샴푸 = 샴푸\n",
    "        self.비누 = 비누\n",
    "\n",
    "    def 내용물출력(self, 세트이름):\n",
    "        print(세트이름)\n",
    "        print('치약:', self.치약)\n",
    "        print('샴푸:', self.샴푸)\n",
    "        print('비누:', self.비누)\n",
    "\n",
    "세01호 = 세면도구(1, 2, 3)\n",
    "세03호 = 세면도구(4, 2, 2)\n",
    "\n",
    "세01호.내용물출력('세면도구세트 01호 내용물')\n",
    "세03호.내용물출력('새면도구세트 03호 내용물')"
   ]
  },
  {
   "cell_type": "code",
   "execution_count": 8,
   "metadata": {},
   "outputs": [
    {
     "name": "stdout",
     "output_type": "stream",
     "text": [
      "명절 특별세트 01호\n",
      "치약: 1\n",
      "샴푸: 2\n",
      "비누: 3\n"
     ]
    }
   ],
   "source": [
    "class 세면도구:\n",
    "\n",
    "    def __init__(self, 치약, 샴푸, 비누):\n",
    "        self.치약 = 치약\n",
    "        self.샴푸 = 샴푸\n",
    "        self.비누 = 비누\n",
    "\n",
    "    def 내용물출력(self, 세트이름):\n",
    "        print(세트이름)\n",
    "        print('치약:', self.치약)\n",
    "        print('샴푸:', self.샴푸)\n",
    "        print('비누:', self.비누)\n",
    "\n",
    "class 특별세트(세면도구):\n",
    "    \n",
    "    def __init__(self, 치약, 샴푸, 비누, 면도기):\n",
    "        super().__init__(치약, 샴푸, 비누)\n",
    "        self.면도기 = 면도기\n",
    "\n",
    "특01호 = 특별세트(1, 2, 3, 1)\n",
    "특01호.내용물출력('명절 특별세트 01호')"
   ]
  },
  {
   "cell_type": "code",
   "execution_count": 9,
   "metadata": {},
   "outputs": [
    {
     "name": "stdout",
     "output_type": "stream",
     "text": [
      "명절 특별세트 01호\n",
      "치약: 1\n",
      "샴푸: 2\n",
      "비누: 3\n",
      "면도기 1\n"
     ]
    }
   ],
   "source": [
    "class 세면도구:\n",
    "\n",
    "    def __init__(self, 치약, 샴푸, 비누):\n",
    "        self.치약 = 치약\n",
    "        self.샴푸 = 샴푸\n",
    "        self.비누 = 비누\n",
    "\n",
    "    def 내용물출력(self, 세트이름):\n",
    "        print(세트이름)\n",
    "        print('치약:', self.치약)\n",
    "        print('샴푸:', self.샴푸)\n",
    "        print('비누:', self.비누)\n",
    "\n",
    "class 특별세트(세면도구):\n",
    "    \n",
    "    def __init__(self, 치약, 샴푸, 비누, 면도기):\n",
    "        super().__init__(치약, 샴푸, 비누)\n",
    "        self.면도기 = 면도기\n",
    "\n",
    "    def 내용물출력(self, 세트이름):\n",
    "        super().내용물출력(세트이름)\n",
    "        print('면도기', self.면도기)\n",
    "\n",
    "특01호 = 특별세트(1, 2, 3, 1)\n",
    "특01호.내용물출력('명절 특별세트 01호')"
   ]
  },
  {
   "cell_type": "code",
   "execution_count": 14,
   "metadata": {},
   "outputs": [
    {
     "name": "stdout",
     "output_type": "stream",
     "text": [
      "- 키:  이름\n",
      "- 키:  나이\n",
      "- 값: 첫코딩\n",
      "- 값: 3\n",
      "{'이름': '첫코딩', '나이': 3, '주소': '서울시'}\n",
      "{'이름': '첫코딩', '주소': '서울시'}\n"
     ]
    }
   ],
   "source": [
    "이름 = input('이름: ')\n",
    "나이 = int(input('나이 '))\n",
    "\n",
    "개인정보 = {'이름' : 이름, '나이' : 나이}\n",
    "\n",
    "for keys in 개인정보.keys():\n",
    "    print('- 키: ', keys)\n",
    "\n",
    "for values in 개인정보.values():\n",
    "    print('- 값:', values)\n",
    "\n",
    "주소 = input('주소: ')\n",
    "개인정보['주소'] = 주소\n",
    "print(개인정보)\n",
    "\n",
    "삭제할키 = input('삭제할 키: ')\n",
    "개인정보.pop(삭제할키)\n",
    "print(개인정보)\n"
   ]
  },
  {
   "cell_type": "code",
   "execution_count": null,
   "metadata": {},
   "outputs": [],
   "source": []
  }
 ],
 "metadata": {
  "kernelspec": {
   "display_name": "Python 3",
   "language": "python",
   "name": "python3"
  },
  "language_info": {
   "codemirror_mode": {
    "name": "ipython",
    "version": 3
   },
   "file_extension": ".py",
   "mimetype": "text/x-python",
   "name": "python",
   "nbconvert_exporter": "python",
   "pygments_lexer": "ipython3",
   "version": "3.11.1"
  },
  "orig_nbformat": 4,
  "vscode": {
   "interpreter": {
    "hash": "afffc98ef2e14478aefd6c9936db4a8482b7a0abefe81264c0b83ced56e60f5e"
   }
  }
 },
 "nbformat": 4,
 "nbformat_minor": 2
}
