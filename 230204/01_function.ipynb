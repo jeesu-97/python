{
 "cells": [
  {
   "attachments": {},
   "cell_type": "markdown",
   "metadata": {},
   "source": [
    "### 함수"
   ]
  },
  {
   "cell_type": "code",
   "execution_count": 2,
   "metadata": {},
   "outputs": [
    {
     "name": "stdout",
     "output_type": "stream",
     "text": [
      "1 2 3 4\n",
      "4 3 2 1\n"
     ]
    }
   ],
   "source": [
    "## 함수 생성\n",
    "def func_1(a, b, c, d):\n",
    "    print(a, b, c, d)\n",
    "\n",
    "## 함수 호출 (매개변수의 개수와 인자의 개수를 동일하게)\n",
    "func_1(1, 2, 3, 4)\n",
    "func_1(4, 3, 2, 1)"
   ]
  },
  {
   "cell_type": "code",
   "execution_count": 3,
   "metadata": {},
   "outputs": [
    {
     "name": "stdout",
     "output_type": "stream",
     "text": [
      "1 2 3 4\n",
      "1 2 5 6\n"
     ]
    }
   ],
   "source": [
    "## 매개변수에 기본값 지정하여 함수 생성\n",
    "def func_2(a, b, c=3, d=4):\n",
    "    print(a, b, c, d)\n",
    "\n",
    "## 함수 호출\n",
    "func_2(1, 2)\n",
    "func_2(1, 2, 5, 6)"
   ]
  }
 ],
 "metadata": {
  "kernelspec": {
   "display_name": "Python 3",
   "language": "python",
   "name": "python3"
  },
  "language_info": {
   "codemirror_mode": {
    "name": "ipython",
    "version": 3
   },
   "file_extension": ".py",
   "mimetype": "text/x-python",
   "name": "python",
   "nbconvert_exporter": "python",
   "pygments_lexer": "ipython3",
   "version": "3.11.1 (tags/v3.11.1:a7a450f, Dec  6 2022, 19:58:39) [MSC v.1934 64 bit (AMD64)]"
  },
  "orig_nbformat": 4,
  "vscode": {
   "interpreter": {
    "hash": "afffc98ef2e14478aefd6c9936db4a8482b7a0abefe81264c0b83ced56e60f5e"
   }
  }
 },
 "nbformat": 4,
 "nbformat_minor": 2
}
