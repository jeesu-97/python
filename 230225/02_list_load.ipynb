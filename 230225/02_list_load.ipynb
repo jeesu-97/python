{
 "cells": [
  {
   "cell_type": "code",
   "execution_count": 1,
   "metadata": {},
   "outputs": [],
   "source": [
    "import os"
   ]
  },
  {
   "cell_type": "code",
   "execution_count": 15,
   "metadata": {},
   "outputs": [],
   "source": [
    "## 파일 리스트 생성\n",
    "file_list = os.listdir(\"../csv/2017\")"
   ]
  },
  {
   "attachments": {},
   "cell_type": "markdown",
   "metadata": {},
   "source": [
    "1. 반복문을 이용해서 파일명들을 각각 print \n",
    "2. 각각 파일들을 pandas를 이용해서 파일을 로드하여 하나의 데이터프레임으로 결합\n",
    "    - hint : read_csv(파일의 경로 + 파일의 이름)\n",
    "3. 결합은 유니언 결합(concat)을 사용하여 결합\n",
    "    - hint : 비어있는 데이터프레임을 생성하고 반복문에서 read_csv -> pd.concat()"
   ]
  },
  {
   "cell_type": "code",
   "execution_count": 22,
   "metadata": {},
   "outputs": [
    {
     "name": "stdout",
     "output_type": "stream",
     "text": [
      "201701_expense_list.csv\n",
      "201702_expense_list.csv\n",
      "201703_expense_list.csv\n",
      "201704_expense_list.csv\n",
      "201705_expense_list.csv\n",
      "201706_expense_list.csv\n",
      "201707_expense_list.csv\n",
      "201708_expense_list.csv\n",
      "201709_expense_list.csv\n",
      "201710_expense_list.csv\n",
      "201711_expense_list.csv\n",
      "201712_expense_list.csv\n"
     ]
    }
   ],
   "source": [
    "## 반복문을 이용해서 파일명들을 각각 print \n",
    "\n",
    "## case1 (range 사용)\n",
    "for i in range(0, 12, 1):\n",
    "    print(file_list[i])"
   ]
  },
  {
   "cell_type": "code",
   "execution_count": 20,
   "metadata": {},
   "outputs": [
    {
     "name": "stdout",
     "output_type": "stream",
     "text": [
      "201701_expense_list.csv\n",
      "201702_expense_list.csv\n",
      "201703_expense_list.csv\n",
      "201704_expense_list.csv\n",
      "201705_expense_list.csv\n",
      "201706_expense_list.csv\n",
      "201707_expense_list.csv\n",
      "201708_expense_list.csv\n",
      "201709_expense_list.csv\n",
      "201710_expense_list.csv\n",
      "201711_expense_list.csv\n",
      "201712_expense_list.csv\n"
     ]
    }
   ],
   "source": [
    "for i in range(0, len(file_list), 1):\n",
    "    print(file_list[i])"
   ]
  },
  {
   "cell_type": "code",
   "execution_count": 21,
   "metadata": {},
   "outputs": [
    {
     "name": "stdout",
     "output_type": "stream",
     "text": [
      "201701_expense_list.csv\n",
      "201702_expense_list.csv\n",
      "201703_expense_list.csv\n",
      "201704_expense_list.csv\n",
      "201705_expense_list.csv\n",
      "201706_expense_list.csv\n",
      "201707_expense_list.csv\n",
      "201708_expense_list.csv\n",
      "201709_expense_list.csv\n",
      "201710_expense_list.csv\n",
      "201711_expense_list.csv\n",
      "201712_expense_list.csv\n"
     ]
    }
   ],
   "source": [
    "## case2 (list 사용)\n",
    "for i in file_list :\n",
    "    print(i)"
   ]
  },
  {
   "cell_type": "code",
   "execution_count": 46,
   "metadata": {},
   "outputs": [
    {
     "name": "stdout",
     "output_type": "stream",
     "text": [
      "../csv/2017/201712_expense_list.csv\n"
     ]
    }
   ],
   "source": [
    "## 각각 파일들을 pandas를 이용해서 파일을 로드하여 하나의 데이터프레임으로 결합\n",
    "## hint : read_csv(파일의 경로 + 파일의 이름)\n",
    "print('../csv/2017/' + '201712_expense_list.csv')"
   ]
  },
  {
   "cell_type": "code",
   "execution_count": 47,
   "metadata": {},
   "outputs": [],
   "source": [
    "import pandas as pd"
   ]
  },
  {
   "cell_type": "code",
   "execution_count": 44,
   "metadata": {},
   "outputs": [
    {
     "name": "stdout",
     "output_type": "stream",
     "text": [
      "../csv/2017/201701_expense_list.csv\n",
      "../csv/2017/201702_expense_list.csv\n",
      "../csv/2017/201703_expense_list.csv\n",
      "../csv/2017/201704_expense_list.csv\n",
      "../csv/2017/201705_expense_list.csv\n",
      "../csv/2017/201706_expense_list.csv\n",
      "../csv/2017/201707_expense_list.csv\n",
      "../csv/2017/201708_expense_list.csv\n",
      "../csv/2017/201709_expense_list.csv\n",
      "../csv/2017/201710_expense_list.csv\n",
      "../csv/2017/201711_expense_list.csv\n",
      "../csv/2017/201712_expense_list.csv\n"
     ]
    }
   ],
   "source": [
    "file_path = \"../csv/2017/\" ## 문자열을 변수에 담아준다\n",
    "\n",
    "total_df = pd.DataFrame() ## 비어있는 데이터프레임을 total_df에 저장\n",
    "\n",
    "for i in file_list: ## file_list를 반복 -> 리스트 항목 하나하나씩 i에 넣어서\n",
    "    print(file_path + i) ## file_path 문자열과 i의 값을 출력\n",
    "    df = pd.read_csv(file_path + i) \n",
    "    ## file_path와 i를 합친 문자열 (상대주소)의 csv파일을 \n",
    "    ## 데이터프레임화하여 df라는 변수에 저장\n",
    "\n",
    "    total_df = pd.concat([total_df, df], axis='rows')\\\n",
    "    .reset_index(drop=True)"
   ]
  },
  {
   "cell_type": "code",
   "execution_count": 45,
   "metadata": {},
   "outputs": [
    {
     "name": "stdout",
     "output_type": "stream",
     "text": [
      "<class 'pandas.core.frame.DataFrame'>\n",
      "RangeIndex: 70132 entries, 0 to 70131\n",
      "Data columns (total 20 columns):\n",
      " #   Column             Non-Null Count  Dtype  \n",
      "---  ------             --------------  -----  \n",
      " 0   nid                70132 non-null  int64  \n",
      " 1   title              70132 non-null  object \n",
      " 2   url                70132 non-null  object \n",
      " 3   dept_nm_lvl_1      70132 non-null  object \n",
      " 4   dept_nm_lvl_2      70074 non-null  object \n",
      " 5   dept_nm_lvl_3      61262 non-null  object \n",
      " 6   dept_nm_lvl_4      17939 non-null  object \n",
      " 7   dept_nm_lvl_5      3474 non-null   object \n",
      " 8   exec_yr            70132 non-null  int64  \n",
      " 9   exec_month         70132 non-null  int64  \n",
      " 10  expense_budget     3108 non-null   float64\n",
      " 11  expense_execution  2805 non-null   float64\n",
      " 12  category           1259 non-null   object \n",
      " 13  dept_nm_full       70053 non-null  object \n",
      " 14  exec_dt            70132 non-null  object \n",
      " 15  exec_loc           69360 non-null  object \n",
      " 16  exec_purpose       70110 non-null  object \n",
      " 17  target_nm          69597 non-null  object \n",
      " 18  payment_method     69929 non-null  object \n",
      " 19  exec_amount        70132 non-null  int64  \n",
      "dtypes: float64(2), int64(4), object(14)\n",
      "memory usage: 10.7+ MB\n"
     ]
    }
   ],
   "source": [
    "total_df.info()"
   ]
  },
  {
   "cell_type": "code",
   "execution_count": 62,
   "metadata": {},
   "outputs": [
    {
     "data": {
      "text/plain": [
       "['202101_expense_list.csv',\n",
       " '202101_expense_list.json',\n",
       " '202101_expense_list.xlsx',\n",
       " '202101_expense_list.xml',\n",
       " '202102_expense_list.csv',\n",
       " '202102_expense_list.json',\n",
       " '202102_expense_list.xlsx',\n",
       " '202102_expense_list.xml',\n",
       " '202103_expense_list.csv',\n",
       " '202103_expense_list.json',\n",
       " '202103_expense_list.xlsx',\n",
       " '202103_expense_list.xml',\n",
       " '202104_expense_list.csv',\n",
       " '202104_expense_list.json',\n",
       " '202104_expense_list.xlsx',\n",
       " '202104_expense_list.xml',\n",
       " '202105_expense_list.csv',\n",
       " '202105_expense_list.json',\n",
       " '202105_expense_list.xlsx',\n",
       " '202105_expense_list.xml',\n",
       " '202106_expense_list.csv',\n",
       " '202106_expense_list.json',\n",
       " '202106_expense_list.xlsx',\n",
       " '202106_expense_list.xml',\n",
       " '202107_expense_list.csv',\n",
       " '202107_expense_list.json',\n",
       " '202107_expense_list.xlsx',\n",
       " '202107_expense_list.xml',\n",
       " '202108_expense_list.csv',\n",
       " '202108_expense_list.json',\n",
       " '202108_expense_list.xlsx',\n",
       " '202108_expense_list.xml',\n",
       " '202109_expense_list.csv',\n",
       " '202109_expense_list.json',\n",
       " '202109_expense_list.xlsx',\n",
       " '202109_expense_list.xml',\n",
       " '202110_expense_list.csv',\n",
       " '202110_expense_list.json',\n",
       " '202110_expense_list.xlsx',\n",
       " '202110_expense_list.xml',\n",
       " '202111_expense_list.csv',\n",
       " '202111_expense_list.json',\n",
       " '202111_expense_list.xlsx',\n",
       " '202111_expense_list.xml',\n",
       " '202112_expense_list.csv',\n",
       " '202112_expense_list.json',\n",
       " '202112_expense_list.xlsx',\n",
       " '202112_expense_list.xml']"
      ]
     },
     "execution_count": 62,
     "metadata": {},
     "output_type": "execute_result"
    }
   ],
   "source": [
    "file_list_2 = os.listdir('../csv/2021/')\n",
    "file_list_2"
   ]
  },
  {
   "cell_type": "code",
   "execution_count": 64,
   "metadata": {},
   "outputs": [
    {
     "name": "stdout",
     "output_type": "stream",
     "text": [
      "202101_expense_list.csv\n",
      "202102_expense_list.csv\n",
      "202103_expense_list.csv\n",
      "202104_expense_list.csv\n",
      "202105_expense_list.csv\n",
      "202106_expense_list.csv\n",
      "202107_expense_list.csv\n",
      "202108_expense_list.csv\n",
      "202109_expense_list.csv\n",
      "202110_expense_list.csv\n",
      "202111_expense_list.csv\n",
      "202112_expense_list.csv\n"
     ]
    }
   ],
   "source": [
    "for i in range(len(file_list_2)):\n",
    "    if file_list_2[i][-3:] == \"csv\":\n",
    "        print(file_list_2[i])"
   ]
  },
  {
   "cell_type": "code",
   "execution_count": 67,
   "metadata": {},
   "outputs": [
    {
     "name": "stdout",
     "output_type": "stream",
     "text": [
      "202101_expense_list.csv\n",
      "202102_expense_list.csv\n",
      "202103_expense_list.csv\n",
      "202104_expense_list.csv\n",
      "202105_expense_list.csv\n",
      "202106_expense_list.csv\n",
      "202107_expense_list.csv\n",
      "202108_expense_list.csv\n",
      "202109_expense_list.csv\n",
      "202110_expense_list.csv\n",
      "202111_expense_list.csv\n",
      "202112_expense_list.csv\n"
     ]
    }
   ],
   "source": [
    "for i in file_list_2:\n",
    "    if i[-3:] == \"csv\":\n",
    "        print(i)"
   ]
  },
  {
   "cell_type": "code",
   "execution_count": 71,
   "metadata": {},
   "outputs": [
    {
     "name": "stdout",
     "output_type": "stream",
     "text": [
      "202101_expense_list.csv\n",
      "202102_expense_list.csv\n",
      "202103_expense_list.csv\n",
      "202104_expense_list.csv\n",
      "202105_expense_list.csv\n",
      "202106_expense_list.csv\n",
      "202107_expense_list.csv\n",
      "202108_expense_list.csv\n",
      "202109_expense_list.csv\n",
      "202110_expense_list.csv\n",
      "202111_expense_list.csv\n",
      "202112_expense_list.csv\n"
     ]
    }
   ],
   "source": [
    "for i in file_list_2:\n",
    "    if i.endswith('.csv'):\n",
    "        print(i)"
   ]
  },
  {
   "cell_type": "code",
   "execution_count": 99,
   "metadata": {},
   "outputs": [],
   "source": [
    "## 함수 생성\n",
    "## 매개변수 2개 path, end_string\n",
    "def list_df(path, end_string):\n",
    "    ## file_list 생성\n",
    "    file_list = os.listdir(path)\n",
    "\n",
    "    ## 확장자가 end_string과 같은 경우의 리스트만 추출\n",
    "    ## case1\n",
    "    file_list_2 = []\n",
    "    for i in file_list:\n",
    "        if i.endswith(end_string):\n",
    "            file_list_2.append(i)\n",
    "\n",
    "\n",
    "    ## case2\n",
    "    file_list_3 = [i for i in file_list if i.endswith(end_string)]\n",
    "    print(file_list_2 == file_list_3)\n",
    "\n",
    "    ## file_list_2의 리스트 항목들을 데이터프레이모하 하여\n",
    "    ## 하나의 데이터프레임으로 결합\n",
    "\n",
    "    ## 비어있는 데이터프레임 생성\n",
    "    total_df = pd.DataFrame()\n",
    "\n",
    "    ## file_list_2의 항목을 가지고 반복문 실행\n",
    "    for i in file_list_2:\n",
    "        ## path는 매개변수, i는 file_list_2 항목의 값\n",
    "        if end_string == '.csv':\n",
    "            df = pd.read_csv(path + i)\n",
    "        elif end_string == '.json':\n",
    "            df = pd.read_json(path + i)\n",
    "        elif (end_string == '.xlsx') | (end_string == '.xls'):\n",
    "            df = pd.read_excel(path +i)\n",
    "        else:\n",
    "            return '확장자가 잘못 입력 되었습니다.'\n",
    "        ## 불러온 데이터프레임을 total_df에 단순한 행 결합\n",
    "        total_df = pd.concat([total_df, df], axis=0, ignore_index=True)\n",
    "    \n",
    "    ## 합쳐진 데이터프레임을 리턴    \n",
    "    return total_df"
   ]
  },
  {
   "cell_type": "code",
   "execution_count": 96,
   "metadata": {},
   "outputs": [
    {
     "name": "stdout",
     "output_type": "stream",
     "text": [
      "True\n",
      "<class 'pandas.core.frame.DataFrame'>\n",
      "RangeIndex: 70132 entries, 0 to 70131\n",
      "Data columns (total 20 columns):\n",
      " #   Column             Non-Null Count  Dtype  \n",
      "---  ------             --------------  -----  \n",
      " 0   nid                70132 non-null  int64  \n",
      " 1   title              70132 non-null  object \n",
      " 2   url                70132 non-null  object \n",
      " 3   dept_nm_lvl_1      70132 non-null  object \n",
      " 4   dept_nm_lvl_2      70074 non-null  object \n",
      " 5   dept_nm_lvl_3      61262 non-null  object \n",
      " 6   dept_nm_lvl_4      17939 non-null  object \n",
      " 7   dept_nm_lvl_5      3474 non-null   object \n",
      " 8   exec_yr            70132 non-null  int64  \n",
      " 9   exec_month         70132 non-null  int64  \n",
      " 10  expense_budget     3108 non-null   float64\n",
      " 11  expense_execution  2805 non-null   float64\n",
      " 12  category           1259 non-null   object \n",
      " 13  dept_nm_full       70053 non-null  object \n",
      " 14  exec_dt            70132 non-null  object \n",
      " 15  exec_loc           69360 non-null  object \n",
      " 16  exec_purpose       70110 non-null  object \n",
      " 17  target_nm          69597 non-null  object \n",
      " 18  payment_method     69929 non-null  object \n",
      " 19  exec_amount        70132 non-null  int64  \n",
      "dtypes: float64(2), int64(4), object(14)\n",
      "memory usage: 10.7+ MB\n"
     ]
    }
   ],
   "source": [
    "list_df('../csv/2017/', '.csv').info()"
   ]
  },
  {
   "cell_type": "code",
   "execution_count": 97,
   "metadata": {},
   "outputs": [
    {
     "name": "stdout",
     "output_type": "stream",
     "text": [
      "True\n",
      "True\n"
     ]
    }
   ],
   "source": [
    "df_2017 = list_df('../csv/2017/', '.csv')\n",
    "df_2018 = list_df('../csv/2018/', '.csv')"
   ]
  },
  {
   "cell_type": "code",
   "execution_count": 92,
   "metadata": {},
   "outputs": [
    {
     "name": "stdout",
     "output_type": "stream",
     "text": [
      "<class 'pandas.core.frame.DataFrame'>\n",
      "RangeIndex: 6392 entries, 0 to 6391\n",
      "Data columns (total 20 columns):\n",
      " #   Column             Non-Null Count  Dtype  \n",
      "---  ------             --------------  -----  \n",
      " 0   nid                6392 non-null   int64  \n",
      " 1   title              6392 non-null   object \n",
      " 2   url                6392 non-null   object \n",
      " 3   dept_nm_lvl_1      6392 non-null   object \n",
      " 4   dept_nm_lvl_2      6392 non-null   object \n",
      " 5   dept_nm_lvl_3      6392 non-null   object \n",
      " 6   dept_nm_lvl_4      6392 non-null   object \n",
      " 7   dept_nm_lvl_5      6392 non-null   object \n",
      " 8   exec_yr            6392 non-null   int64  \n",
      " 9   exec_month         6392 non-null   int64  \n",
      " 10  expense_budget     318 non-null    float64\n",
      " 11  expense_execution  306 non-null    float64\n",
      " 12  category           6392 non-null   object \n",
      " 13  dept_nm_full       6392 non-null   object \n",
      " 14  exec_dt            6392 non-null   object \n",
      " 15  exec_loc           6392 non-null   object \n",
      " 16  exec_purpose       6392 non-null   object \n",
      " 17  target_nm          6392 non-null   object \n",
      " 18  payment_method     6392 non-null   object \n",
      " 19  exec_amount        6392 non-null   int64  \n",
      "dtypes: float64(2), int64(4), object(14)\n",
      "memory usage: 998.9+ KB\n"
     ]
    }
   ],
   "source": [
    "## json 데이터를 데이터프레임으로 로드\n",
    "json_data = pd.read_json(\"../csv/2019/201901_expense_list.json\")\n",
    "json_data.info()"
   ]
  },
  {
   "cell_type": "code",
   "execution_count": 94,
   "metadata": {},
   "outputs": [
    {
     "name": "stdout",
     "output_type": "stream",
     "text": [
      "Requirement already satisfied: openpyxl in c:\\users\\intco\\appdata\\local\\programs\\python\\python311\\lib\\site-packages (3.1.1)\n",
      "Requirement already satisfied: et-xmlfile in c:\\users\\intco\\appdata\\local\\programs\\python\\python311\\lib\\site-packages (from openpyxl) (1.1.0)\n"
     ]
    },
    {
     "name": "stderr",
     "output_type": "stream",
     "text": [
      "\n",
      "[notice] A new release of pip available: 22.3.1 -> 23.0.1\n",
      "[notice] To update, run: python.exe -m pip install --upgrade pip\n"
     ]
    }
   ],
   "source": [
    "## xlsx 파일을 로드하기 위한 엔진 라이브러리를 설치\n",
    "!pip install openpyxl"
   ]
  },
  {
   "cell_type": "code",
   "execution_count": 93,
   "metadata": {},
   "outputs": [
    {
     "name": "stdout",
     "output_type": "stream",
     "text": [
      "<class 'pandas.core.frame.DataFrame'>\n",
      "RangeIndex: 5282 entries, 0 to 5281\n",
      "Data columns (total 20 columns):\n",
      " #   Column             Non-Null Count  Dtype  \n",
      "---  ------             --------------  -----  \n",
      " 0   nid                5282 non-null   int64  \n",
      " 1   title              5282 non-null   object \n",
      " 2   url                5282 non-null   object \n",
      " 3   dept_nm_lvl_1      5282 non-null   object \n",
      " 4   dept_nm_lvl_2      5282 non-null   object \n",
      " 5   dept_nm_lvl_3      4198 non-null   object \n",
      " 6   dept_nm_lvl_4      1272 non-null   object \n",
      " 7   dept_nm_lvl_5      81 non-null     object \n",
      " 8   exec_yr            5282 non-null   int64  \n",
      " 9   exec_month         5282 non-null   int64  \n",
      " 10  expense_budget     355 non-null    float64\n",
      " 11  expense_execution  276 non-null    float64\n",
      " 12  category           224 non-null    object \n",
      " 13  dept_nm_full       5282 non-null   object \n",
      " 14  exec_dt            5282 non-null   object \n",
      " 15  exec_loc           5236 non-null   object \n",
      " 16  exec_purpose       5282 non-null   object \n",
      " 17  target_nm          5257 non-null   object \n",
      " 18  payment_method     5282 non-null   object \n",
      " 19  exec_amount        5282 non-null   int64  \n",
      "dtypes: float64(2), int64(4), object(14)\n",
      "memory usage: 825.4+ KB\n"
     ]
    }
   ],
   "source": [
    "## 엑셀 데이터를 데이터프레임으로 로드\n",
    "excel_data = pd.read_excel(\"../csv/2020/202001_expense_list.xlsx\")\n",
    "excel_data.info()"
   ]
  },
  {
   "cell_type": "code",
   "execution_count": 101,
   "metadata": {},
   "outputs": [
    {
     "name": "stdout",
     "output_type": "stream",
     "text": [
      "True\n",
      "True\n"
     ]
    }
   ],
   "source": [
    "df_2019 = list_df('../csv/2019/', '.json')\n",
    "df_2020 = list_df('../csv/2020/', '.xlsx')"
   ]
  },
  {
   "cell_type": "code",
   "execution_count": 103,
   "metadata": {},
   "outputs": [],
   "source": [
    "## 모듈 로드 \n",
    "import list_pandas"
   ]
  },
  {
   "cell_type": "code",
   "execution_count": null,
   "metadata": {},
   "outputs": [],
   "source": [
    "list_pandas.list_df('../csv/2017/', '.csv')"
   ]
  },
  {
   "cell_type": "code",
   "execution_count": 108,
   "metadata": {},
   "outputs": [
    {
     "data": {
      "text/plain": [
       "<module 'list_pandas' from 'c:\\\\Users\\\\intco\\\\Documents\\\\GitHub\\\\python\\\\230225\\\\list_pandas.py'>"
      ]
     },
     "execution_count": 108,
     "metadata": {},
     "output_type": "execute_result"
    }
   ],
   "source": [
    "## 파일 수정 시 \n",
    "import imp\n",
    "imp.reload(list_pandas)\n"
   ]
  }
 ],
 "metadata": {
  "kernelspec": {
   "display_name": "Python 3",
   "language": "python",
   "name": "python3"
  },
  "language_info": {
   "codemirror_mode": {
    "name": "ipython",
    "version": 3
   },
   "file_extension": ".py",
   "mimetype": "text/x-python",
   "name": "python",
   "nbconvert_exporter": "python",
   "pygments_lexer": "ipython3",
   "version": "3.11.1"
  },
  "orig_nbformat": 4,
  "vscode": {
   "interpreter": {
    "hash": "afffc98ef2e14478aefd6c9936db4a8482b7a0abefe81264c0b83ced56e60f5e"
   }
  }
 },
 "nbformat": 4,
 "nbformat_minor": 2
}
