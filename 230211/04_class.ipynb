{
 "cells": [
  {
   "attachments": {},
   "cell_type": "markdown",
   "metadata": {},
   "source": [
    "### Class (B1)\n",
    "1. User 클래스 생성\n",
    "    - 생성자 함수는 유저 정보 입력 (이름, 휴대폰번호, 생년월일)\n",
    "    - info()함수를 생성 : 유저의 정보를 출력\n",
    "2. Wallet 클래스 생성\n",
    "    - User를 상속\n",
    "    - 생성자 함수는 소유자의 정보, 지갑 브랜드, 지갑의 가치, 잔액(0) 입력\n",
    "    - work() 함수를 생성 : 일의 종류는 'TM', \"Alba', \"Serving'이고 TM을 하는 경우 지갑의 잔액이 5000 증가, Alba를 하는 경우 잔액 10000 증가, Serving을 하는 경우 잔액이 15000 증가\n",
    "    - wallet_info() 함수를 생성 : 지갑의 소유자 정보와 잔액을 출력"
   ]
  },
  {
   "cell_type": "code",
   "execution_count": 83,
   "metadata": {},
   "outputs": [],
   "source": [
    "## User 클래스 생성 (B2)\n",
    "class User:\n",
    "    ## 생성자 함수인 __init__ 생성\n",
    "    def __init__(self, _name, _phone, _birth):\n",
    "        self.name = _name\n",
    "        self.phone = _phone\n",
    "        self.birth = _birth\n",
    "\n",
    "    ## 유저의 정보를 출력하는 함수\n",
    "    def info(self):\n",
    "        self.result = [self.name, self.phone, self.birth]\n",
    "        return self.result\n"
   ]
  },
  {
   "cell_type": "code",
   "execution_count": 84,
   "metadata": {},
   "outputs": [],
   "source": [
    "user1 = User('test', '01012345678', '800101')\n",
    "user2 = User('test2', '01098765432', '850101')"
   ]
  },
  {
   "cell_type": "code",
   "execution_count": 85,
   "metadata": {},
   "outputs": [
    {
     "name": "stdout",
     "output_type": "stream",
     "text": [
      "['test', '01012345678', '800101']\n",
      "['test2', '01098765432', '850101']\n"
     ]
    }
   ],
   "source": [
    "print(user1. info()) # user1 이라는 주소가 self\n",
    "print(user2.info()) # user2 이라는 주소가 self"
   ]
  },
  {
   "cell_type": "code",
   "execution_count": 86,
   "metadata": {},
   "outputs": [],
   "source": [
    "## Wallet 클래스 선언\n",
    "class Wallet(User):\n",
    "    ## 생성자 함수 생성\n",
    "    def __init__(self, _name, _phone, _birth, _brand, _value, _balance = 0):\n",
    "        ## 부모 클래스의 생성자 함수를 실행\n",
    "        super().__init__(_name, _phone, _birth)\n",
    "        self.brand = _brand\n",
    "        self.value = _value\n",
    "        self.balance = _balance\n",
    "\n",
    "    ## work() 함수 생성 -> 일의 종류 \n",
    "    def work(self, _work_type):\n",
    "        if _work_type == 'TM':\n",
    "            self.cost = 5000\n",
    "        elif _work_type == 'Alba':\n",
    "            self.cost = 10000\n",
    "        elif _work_type == 'Serving':\n",
    "            self.cost = 15000\n",
    "        else:\n",
    "            return 'work_type이 맞지 않습니다'\n",
    "\n",
    "        ## 잔액 변경\n",
    "        self.balance += self.cost\n",
    "        return f\"{_work_type} 일을 성공하였습니다. 현재 잔액은 {self.balance}입니다.\"\n",
    "\n",
    "        ## 지갑의 정보를 출력 하는 함수\n",
    "    def wallet_info(self):\n",
    "        print(f\"지갑의 소유자는 {self.name}.\") # f = find 이고 {} 안에 변수를 찾아 넣겠다는 의미\n",
    "        print(f\"현재 잔액은 {self.balance}.\") # f = find {} 안에 변수를 찾아 넣겠다는 의미\n",
    "\n",
    "        ## 오버라이딩 - 부모 클래스의 기능을 변경하여 사용\n",
    "    def info(self):\n",
    "        print(f\"소유자의 이름은 {self.name}.\")\n",
    "        print(f\"지갑의 브랜드는 {self.brand}.\")\n",
    "        print(f\"지갑의 가치는 {self.value}.\")"
   ]
  },
  {
   "cell_type": "code",
   "execution_count": 87,
   "metadata": {},
   "outputs": [],
   "source": [
    "wallet1 = Wallet('test', '01012345678', '800101', 'gucci', 1000000)\n",
    "wallet2 = Wallet('test2', '01098765432', '850101', 'chanel', 5000000)"
   ]
  },
  {
   "cell_type": "code",
   "execution_count": 88,
   "metadata": {},
   "outputs": [
    {
     "name": "stdout",
     "output_type": "stream",
     "text": [
      "지갑의 소유자는 test.\n",
      "현재 잔액은 0.\n"
     ]
    }
   ],
   "source": [
    "wallet1.wallet_info()"
   ]
  },
  {
   "cell_type": "code",
   "execution_count": 89,
   "metadata": {},
   "outputs": [
    {
     "name": "stdout",
     "output_type": "stream",
     "text": [
      "지갑의 소유자는 test2.\n",
      "현재 잔액은 0.\n"
     ]
    }
   ],
   "source": [
    "wallet2.wallet_info()"
   ]
  },
  {
   "cell_type": "code",
   "execution_count": 90,
   "metadata": {},
   "outputs": [
    {
     "data": {
      "text/plain": [
       "'work_type이 맞지 않습니다'"
      ]
     },
     "execution_count": 90,
     "metadata": {},
     "output_type": "execute_result"
    }
   ],
   "source": [
    "wallet1.work('TM')\n",
    "wallet1.work('Alba')\n",
    "wallet1.work('Serving')\n",
    "wallet1.work('teaching')"
   ]
  },
  {
   "cell_type": "code",
   "execution_count": 91,
   "metadata": {},
   "outputs": [
    {
     "name": "stdout",
     "output_type": "stream",
     "text": [
      "지갑의 소유자는 test.\n",
      "현재 잔액은 30000.\n"
     ]
    }
   ],
   "source": [
    "wallet1.wallet_info()"
   ]
  },
  {
   "cell_type": "code",
   "execution_count": 92,
   "metadata": {},
   "outputs": [
    {
     "name": "stdout",
     "output_type": "stream",
     "text": [
      "지갑의 소유자는 test2.\n",
      "현재 잔액은 0.\n"
     ]
    }
   ],
   "source": [
    "wallet2.wallet_info()"
   ]
  },
  {
   "cell_type": "code",
   "execution_count": 93,
   "metadata": {},
   "outputs": [
    {
     "data": {
      "text/plain": [
       "'TM 일을 성공하였습니다. 현재 잔액은 5000입니다.'"
      ]
     },
     "execution_count": 93,
     "metadata": {},
     "output_type": "execute_result"
    }
   ],
   "source": [
    "wallet2.work(\"TM\")"
   ]
  },
  {
   "cell_type": "code",
   "execution_count": 94,
   "metadata": {},
   "outputs": [
    {
     "name": "stdout",
     "output_type": "stream",
     "text": [
      "소유자의 이름은 test.\n",
      "지갑의 브랜드는 gucci.\n",
      "지갑의 가치는 1000000.\n"
     ]
    }
   ],
   "source": [
    "wallet1.info() # 부모 클래스의 함수를 오버라이드 함"
   ]
  },
  {
   "cell_type": "code",
   "execution_count": 97,
   "metadata": {},
   "outputs": [
    {
     "data": {
      "text/plain": [
       "['test2', '01098765432', '850101']"
      ]
     },
     "execution_count": 97,
     "metadata": {},
     "output_type": "execute_result"
    }
   ],
   "source": [
    "user2.info() # user에 있는 기능은 상실되지 않음"
   ]
  }
 ],
 "metadata": {
  "kernelspec": {
   "display_name": "Python 3",
   "language": "python",
   "name": "python3"
  },
  "language_info": {
   "codemirror_mode": {
    "name": "ipython",
    "version": 3
   },
   "file_extension": ".py",
   "mimetype": "text/x-python",
   "name": "python",
   "nbconvert_exporter": "python",
   "pygments_lexer": "ipython3",
   "version": "3.11.1 (tags/v3.11.1:a7a450f, Dec  6 2022, 19:58:39) [MSC v.1934 64 bit (AMD64)]"
  },
  "orig_nbformat": 4,
  "vscode": {
   "interpreter": {
    "hash": "afffc98ef2e14478aefd6c9936db4a8482b7a0abefe81264c0b83ced56e60f5e"
   }
  }
 },
 "nbformat": 4,
 "nbformat_minor": 2
}
