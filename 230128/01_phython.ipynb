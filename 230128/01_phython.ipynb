{
 "cells": [
  {
   "cell_type": "code",
   "execution_count": 1,
   "metadata": {},
   "outputs": [
    {
     "name": "stdout",
     "output_type": "stream",
     "text": [
      "10\n",
      "<class 'int'>\n",
      "test\n",
      "<class 'str'>\n"
     ]
    }
   ],
   "source": [
    "# 변수 선언\n",
    "a = 10 \n",
    "b = \"test\"\n",
    "\n",
    "## 변수 출력\n",
    "print(a)\n",
    "print(type(a))\n",
    "\n",
    "print(b)\n",
    "print(type(b))"
   ]
  },
  {
   "cell_type": "code",
   "execution_count": 3,
   "metadata": {},
   "outputs": [
    {
     "name": "stdout",
     "output_type": "stream",
     "text": [
      "test2\n"
     ]
    }
   ],
   "source": [
    "a = 'test2'\n",
    "print(a)"
   ]
  },
  {
   "cell_type": "code",
   "execution_count": 4,
   "metadata": {},
   "outputs": [
    {
     "name": "stdout",
     "output_type": "stream",
     "text": [
      "<class 'bool'>\n"
     ]
    }
   ],
   "source": [
    "## 불형 데이터\n",
    "## 참과 거짓의 형태\n",
    "a = True\n",
    "print(type(a))"
   ]
  },
  {
   "cell_type": "code",
   "execution_count": 5,
   "metadata": {},
   "outputs": [
    {
     "name": "stdout",
     "output_type": "stream",
     "text": [
      "True False True\n"
     ]
    }
   ],
   "source": [
    "b = (100 > 10)\n",
    "c = (100 < 10)\n",
    "d = (100 == 100)\n",
    "print(b, c, d)"
   ]
  },
  {
   "cell_type": "code",
   "execution_count": 6,
   "metadata": {},
   "outputs": [
    {
     "name": "stdout",
     "output_type": "stream",
     "text": [
      "10 4 21 2.3333333333333335 2 1 343\n"
     ]
    }
   ],
   "source": [
    "## 산술 연산자\n",
    "## 기본적인 사칙연산\n",
    "a = 7 \n",
    "b = 3\n",
    "\n",
    "print(a+b, a-b, a*b, a/b, a//b, a%b, a**b)"
   ]
  },
  {
   "cell_type": "code",
   "execution_count": 8,
   "metadata": {},
   "outputs": [
    {
     "name": "stdout",
     "output_type": "stream",
     "text": [
      "13\n",
      "20\n"
     ]
    }
   ],
   "source": [
    "c = 2\n",
    "print(a+b*c)\n",
    "print((a+b)*c)"
   ]
  },
  {
   "cell_type": "code",
   "execution_count": 9,
   "metadata": {},
   "outputs": [
    {
     "name": "stdout",
     "output_type": "stream",
     "text": [
      "12\n"
     ]
    }
   ],
   "source": [
    "## 대입연산자\n",
    "a += 5\n",
    "# a = a + 5\n",
    "print(a)"
   ]
  },
  {
   "attachments": {},
   "cell_type": "markdown",
   "metadata": {},
   "source": [
    "### 조건문\n",
    "- if문"
   ]
  },
  {
   "cell_type": "code",
   "execution_count": 14,
   "metadata": {},
   "outputs": [],
   "source": [
    "a = 11\n",
    "\n",
    "if a < 10:\n",
    "    print(\"a는 10보다 작다\")\n"
   ]
  },
  {
   "cell_type": "code",
   "execution_count": 15,
   "metadata": {},
   "outputs": [
    {
     "name": "stdout",
     "output_type": "stream",
     "text": [
      "a는 10보다 크거나 같다\n"
     ]
    }
   ],
   "source": [
    "## if ~ else문\n",
    "a = 20\n",
    "\n",
    "if a < 10:\n",
    "    print(\"a는 10보다 작다\")\n",
    "else:\n",
    "    print(\"a는 10보다 크거나 같다\")"
   ]
  },
  {
   "cell_type": "code",
   "execution_count": 7,
   "metadata": {},
   "outputs": [],
   "source": [
    "## if ~ elif ~ else문\n",
    "score = int(input(\"점수를 입력하세요:\"))\n",
    "print(score)\n",
    "print(type(score))\n",
    "if score >= 90:\n",
    "    print(\"A\")\n",
    "elif score >= 80:\n",
    "    print(\"B\")\n",
    "elif score >= 70:\n",
    "    print(\"C\")\n",
    "else:\n",
    "    print(\"F\")\n",
    "\n",
    "print(\"프로그램 종료\")"
   ]
  },
  {
   "cell_type": "code",
   "execution_count": 1,
   "metadata": {},
   "outputs": [
    {
     "name": "stdout",
     "output_type": "stream",
     "text": [
      "0 번째 반복\n",
      "1 번째 반복\n",
      "2 번째 반복\n",
      "3 번째 반복\n",
      "4 번째 반복\n",
      "5 번째 반복\n",
      "6 번째 반복\n",
      "7 번째 반복\n",
      "8 번째 반복\n",
      "9 번째 반복\n"
     ]
    }
   ],
   "source": [
    "## 반복문\n",
    "## for문\n",
    "for i in range(0, 10, 1):\n",
    "    print(\"%d 번째 반복\" %i)"
   ]
  },
  {
   "cell_type": "code",
   "execution_count": 1,
   "metadata": {},
   "outputs": [
    {
     "name": "stdout",
     "output_type": "stream",
     "text": [
      "0 번째 반복\n",
      "1 번째 반복\n",
      "2 번째 반복\n",
      "3 번째 반복\n",
      "4 번째 반복\n",
      "5 번째 반복\n",
      "6 번째 반복\n",
      "7 번째 반복\n",
      "8 번째 반복\n",
      "9 번째 반복\n"
     ]
    }
   ],
   "source": [
    "for i in range(10):\n",
    "    print(\"%d 번째 반복\" %i)"
   ]
  },
  {
   "cell_type": "code",
   "execution_count": 2,
   "metadata": {},
   "outputs": [
    {
     "name": "stdout",
     "output_type": "stream",
     "text": [
      "55\n"
     ]
    }
   ],
   "source": [
    "## 1부터 10까지의 합계\n",
    "## for문\n",
    "\n",
    "## 합계 변수 생성\n",
    "sum = 0\n",
    "\n",
    "for a in range(1, 11, 1):\n",
    "    sum += a\n",
    "    # sum = sum + a\n",
    "\n",
    "print(sum)"
   ]
  },
  {
   "cell_type": "code",
   "execution_count": 3,
   "metadata": {},
   "outputs": [
    {
     "name": "stdout",
     "output_type": "stream",
     "text": [
      "2단\n",
      "2 X 1 = 2\n",
      "2 X 2 = 4\n",
      "2 X 3 = 6\n",
      "2 X 4 = 8\n",
      "2 X 5 = 10\n",
      "2 X 6 = 12\n",
      "2 X 7 = 14\n",
      "2 X 8 = 16\n",
      "2 X 9 = 18\n",
      "3단\n",
      "3 X 1 = 3\n",
      "3 X 2 = 6\n",
      "3 X 3 = 9\n",
      "3 X 4 = 12\n",
      "3 X 5 = 15\n",
      "3 X 6 = 18\n",
      "3 X 7 = 21\n",
      "3 X 8 = 24\n",
      "3 X 9 = 27\n",
      "4단\n",
      "4 X 1 = 4\n",
      "4 X 2 = 8\n",
      "4 X 3 = 12\n",
      "4 X 4 = 16\n",
      "4 X 5 = 20\n",
      "4 X 6 = 24\n",
      "4 X 7 = 28\n",
      "4 X 8 = 32\n",
      "4 X 9 = 36\n",
      "5단\n",
      "5 X 1 = 5\n",
      "5 X 2 = 10\n",
      "5 X 3 = 15\n",
      "5 X 4 = 20\n",
      "5 X 5 = 25\n",
      "5 X 6 = 30\n",
      "5 X 7 = 35\n",
      "5 X 8 = 40\n",
      "5 X 9 = 45\n",
      "6단\n",
      "6 X 1 = 6\n",
      "6 X 2 = 12\n",
      "6 X 3 = 18\n",
      "6 X 4 = 24\n",
      "6 X 5 = 30\n",
      "6 X 6 = 36\n",
      "6 X 7 = 42\n",
      "6 X 8 = 48\n",
      "6 X 9 = 54\n",
      "7단\n",
      "7 X 1 = 7\n",
      "7 X 2 = 14\n",
      "7 X 3 = 21\n",
      "7 X 4 = 28\n",
      "7 X 5 = 35\n",
      "7 X 6 = 42\n",
      "7 X 7 = 49\n",
      "7 X 8 = 56\n",
      "7 X 9 = 63\n",
      "8단\n",
      "8 X 1 = 8\n",
      "8 X 2 = 16\n",
      "8 X 3 = 24\n",
      "8 X 4 = 32\n",
      "8 X 5 = 40\n",
      "8 X 6 = 48\n",
      "8 X 7 = 56\n",
      "8 X 8 = 64\n",
      "8 X 9 = 72\n",
      "9단\n",
      "9 X 1 = 9\n",
      "9 X 2 = 18\n",
      "9 X 3 = 27\n",
      "9 X 4 = 36\n",
      "9 X 5 = 45\n",
      "9 X 6 = 54\n",
      "9 X 7 = 63\n",
      "9 X 8 = 72\n",
      "9 X 9 = 81\n"
     ]
    }
   ],
   "source": [
    "## 다중 for문\n",
    "## 구구단\n",
    "\n",
    "for i in range(2, 10, 1):\n",
    "    print(\"%d단\" %i)\n",
    "    # print(str(i)+\"단\")\n",
    "    for j in range(1, 10, 1):\n",
    "        print(\"%d X %d = %d\" %(i, j, i*j))\n",
    "        # print(str(i) + \"X\" + str(j) + \"=\" + str(i*j))"
   ]
  },
  {
   "cell_type": "code",
   "execution_count": 5,
   "metadata": {},
   "outputs": [
    {
     "name": "stdout",
     "output_type": "stream",
     "text": [
      "2단\n",
      "2X1=2\n",
      "2X2=4\n",
      "2X3=6\n",
      "2X4=8\n",
      "2X5=10\n",
      "2X6=12\n",
      "2X7=14\n",
      "2X8=16\n",
      "2X9=18\n",
      "3단\n",
      "3X1=3\n",
      "3X2=6\n",
      "3X3=9\n",
      "3X4=12\n",
      "3X5=15\n",
      "3X6=18\n",
      "3X7=21\n",
      "3X8=24\n",
      "3X9=27\n",
      "4단\n",
      "4X1=4\n",
      "4X2=8\n",
      "4X3=12\n",
      "4X4=16\n",
      "4X5=20\n",
      "4X6=24\n",
      "4X7=28\n",
      "4X8=32\n",
      "4X9=36\n",
      "5단\n",
      "5X1=5\n",
      "5X2=10\n",
      "5X3=15\n",
      "5X4=20\n",
      "5X5=25\n",
      "5X6=30\n",
      "5X7=35\n",
      "5X8=40\n",
      "5X9=45\n",
      "6단\n",
      "6X1=6\n",
      "6X2=12\n",
      "6X3=18\n",
      "6X4=24\n",
      "6X5=30\n",
      "6X6=36\n",
      "6X7=42\n",
      "6X8=48\n",
      "6X9=54\n",
      "7단\n",
      "7X1=7\n",
      "7X2=14\n",
      "7X3=21\n",
      "7X4=28\n",
      "7X5=35\n",
      "7X6=42\n",
      "7X7=49\n",
      "7X8=56\n",
      "7X9=63\n",
      "8단\n",
      "8X1=8\n",
      "8X2=16\n",
      "8X3=24\n",
      "8X4=32\n",
      "8X5=40\n",
      "8X6=48\n",
      "8X7=56\n",
      "8X8=64\n",
      "8X9=72\n",
      "9단\n",
      "9X1=9\n",
      "9X2=18\n",
      "9X3=27\n",
      "9X4=36\n",
      "9X5=45\n",
      "9X6=54\n",
      "9X7=63\n",
      "9X8=72\n",
      "9X9=81\n"
     ]
    }
   ],
   "source": [
    "for i in range(2, 10, 1):\n",
    "    print(str(i)+\"단\")\n",
    "    for j in range(1, 10, 1):\n",
    "        print(str(i) + \"X\" + str(j) + \"=\" + str(i*j))"
   ]
  },
  {
   "cell_type": "code",
   "execution_count": 21,
   "metadata": {},
   "outputs": [
    {
     "ename": "IndentationError",
     "evalue": "expected an indented block after 'if' statement on line 10 (3132398866.py, line 12)",
     "output_type": "error",
     "traceback": [
      "\u001b[1;36m  Cell \u001b[1;32mIn[21], line 12\u001b[1;36m\u001b[0m\n\u001b[1;33m    print(sum)\u001b[0m\n\u001b[1;37m              ^\u001b[0m\n\u001b[1;31mIndentationError\u001b[0m\u001b[1;31m:\u001b[0m expected an indented block after 'if' statement on line 10\n"
     ]
    }
   ],
   "source": [
    "## for문\n",
    "## 1부터 100까지의 숫자중에 짝수의 합계\n",
    "## hint : 1부터 100까지 반복\n",
    "## if 조건식을 사용해서 짝수인 경우에만 +\n",
    "\n",
    "## 나의답안\n",
    "\n",
    "sum = 0\n",
    "\n",
    "for i in range(1, 100, 1):\n",
    "    sum += i\n",
    "    if i%2 == 0:\n",
    "    \n",
    "print(sum)"
   ]
  },
  {
   "cell_type": "code",
   "execution_count": 23,
   "metadata": {},
   "outputs": [
    {
     "name": "stdout",
     "output_type": "stream",
     "text": [
      "2550\n"
     ]
    }
   ],
   "source": [
    "## 풀이방법(1)\n",
    "\n",
    "## 합계 변수 생성\n",
    "sum = 0\n",
    "\n",
    "## 반복문 생성\n",
    "for i in range(1, 101, 1):\n",
    "    if i % 2 == 0:\n",
    "        sum += i\n",
    "    \n",
    "print(sum)"
   ]
  },
  {
   "cell_type": "code",
   "execution_count": 25,
   "metadata": {},
   "outputs": [
    {
     "name": "stdout",
     "output_type": "stream",
     "text": [
      "2550\n"
     ]
    }
   ],
   "source": [
    "## 풀이방법(2)\n",
    "\n",
    "sum = 0\n",
    "\n",
    "for i in range(2, 101, 2):\n",
    "    sum += i\n",
    "\n",
    "print(sum)"
   ]
  },
  {
   "cell_type": "code",
   "execution_count": 26,
   "metadata": {},
   "outputs": [
    {
     "name": "stdout",
     "output_type": "stream",
     "text": [
      "1 4\n",
      "2 3\n",
      "3 2\n",
      "4 1\n"
     ]
    }
   ],
   "source": [
    "## 다중 for문\n",
    "## 2개의 주사위를 굴려서 두 주사위의 합이 5가 되는 주사위의 값\n",
    "\n",
    "## 풀이방법\n",
    "\n",
    "for i in range(1,7,1):\n",
    "    for j in range(1, 7, 1):\n",
    "        if i + j == 5:\n",
    "            print(i, j)"
   ]
  },
  {
   "cell_type": "code",
   "execution_count": 27,
   "metadata": {},
   "outputs": [
    {
     "name": "stdout",
     "output_type": "stream",
     "text": [
      "0\n",
      "1\n",
      "2\n",
      "3\n",
      "4\n",
      "5\n",
      "6\n",
      "7\n",
      "8\n",
      "9\n"
     ]
    }
   ],
   "source": [
    "## while문\n",
    "\n",
    "## 초기값 지정\n",
    "i = 0\n",
    "\n",
    "## while문 시작\n",
    "while i < 10:\n",
    "    print(i)\n",
    "    i += 1\n"
   ]
  },
  {
   "cell_type": "code",
   "execution_count": 28,
   "metadata": {},
   "outputs": [
    {
     "name": "stdout",
     "output_type": "stream",
     "text": [
      "1\n",
      "2\n",
      "3\n",
      "4\n",
      "5\n",
      "6\n",
      "7\n",
      "8\n",
      "9\n",
      "10\n"
     ]
    }
   ],
   "source": [
    "## 초기값 지정\n",
    "i = 0\n",
    "\n",
    "## while문 시작\n",
    "while i < 10:\n",
    "    i += 1\n",
    "    print(i)"
   ]
  },
  {
   "cell_type": "code",
   "execution_count": 29,
   "metadata": {},
   "outputs": [
    {
     "name": "stdout",
     "output_type": "stream",
     "text": [
      "1 번째 반복\n",
      "2 번째 반복\n",
      "3 번째 반복\n",
      "4 번째 반복\n",
      "5 번째 반복\n"
     ]
    }
   ],
   "source": [
    "## break문\n",
    "\n",
    "for i in range(1, 101, 1):\n",
    "    print(\"%d 번째 반복\" %i)\n",
    "    if i == 5:\n",
    "        break"
   ]
  },
  {
   "cell_type": "code",
   "execution_count": 30,
   "metadata": {},
   "outputs": [
    {
     "name": "stdout",
     "output_type": "stream",
     "text": [
      "1 번째 반복\n",
      "2 번째 반복\n",
      "3 번째 반복\n",
      "4 번째 반복\n"
     ]
    }
   ],
   "source": [
    "for i in range(1, 101, 1):\n",
    "    if i == 5:\n",
    "        break\n",
    "    print(\"%d 번째 반복\" %i)"
   ]
  },
  {
   "cell_type": "code",
   "execution_count": 33,
   "metadata": {},
   "outputs": [
    {
     "name": "stdout",
     "output_type": "stream",
     "text": [
      "합계가 500 이상이 되는 범위의 숫자 32 합계는 528\n"
     ]
    }
   ],
   "source": [
    "## 1부터 100까지 합계를 구하는중 \n",
    "## 합계가 500이 넘어가는 숫자와 합계의 값\n",
    "\n",
    "sum = 0\n",
    "\n",
    "for i in range(1, 101, 1):\n",
    "    sum += i\n",
    "    if sum >= 500:\n",
    "        break\n",
    "\n",
    "print('합계가 500 이상이 되는 범위의 숫자', i, '합계는', sum)"
   ]
  },
  {
   "cell_type": "code",
   "execution_count": 45,
   "metadata": {},
   "outputs": [
    {
     "name": "stdout",
     "output_type": "stream",
     "text": [
      "합계가 500 이상이 되는 범위의 숫자 101 합계는 0\n"
     ]
    }
   ],
   "source": [
    "## 나의답안\n",
    "\n",
    "sum = 0\n",
    "\n",
    "i = 0\n",
    "\n",
    "while i <= 100:\n",
    "    i += 1\n",
    "    if sum >= 500:\n",
    "        break\n",
    "    \n",
    "\n",
    "print('합계가 500 이상이 되는 범위의 숫자', i, '합계는', sum)"
   ]
  },
  {
   "cell_type": "code",
   "execution_count": 44,
   "metadata": {},
   "outputs": [
    {
     "name": "stdout",
     "output_type": "stream",
     "text": [
      "합계가 500 이상이 되는 범위의 숫자 32 합계는 528\n"
     ]
    }
   ],
   "source": [
    "## 모범답안\n",
    "\n",
    "sum = 0\n",
    "\n",
    "i = 1\n",
    "\n",
    "while i <= 100:\n",
    "    sum += i\n",
    "    if sum >= 500:\n",
    "        break\n",
    "    i += 1\n",
    "\n",
    "print('합계가 500 이상이 되는 범위의 숫자', i, '합계는', sum)"
   ]
  },
  {
   "cell_type": "code",
   "execution_count": 46,
   "metadata": {},
   "outputs": [
    {
     "name": "stdout",
     "output_type": "stream",
     "text": [
      "4 번째 반복\n",
      "5 번째 반복\n",
      "6 번째 반복\n",
      "7 번째 반복\n",
      "8 번째 반복\n",
      "9 번째 반복\n"
     ]
    }
   ],
   "source": [
    "## continue문\n",
    "\n",
    "for i in range(1, 10, 1):\n",
    "    if i <= 3:\n",
    "        continue\n",
    "    print(\"%d 번째 반복\" %i)"
   ]
  },
  {
   "cell_type": "code",
   "execution_count": 47,
   "metadata": {},
   "outputs": [
    {
     "name": "stdout",
     "output_type": "stream",
     "text": [
      "2550\n"
     ]
    }
   ],
   "source": [
    "## 1부터 100까지의 짝수의 합계\n",
    "\n",
    "sum = 0\n",
    "\n",
    "for i in range(1, 101, 1):\n",
    "    if i%2 == 1:\n",
    "        continue\n",
    "    sum += i\n",
    "\n",
    "print(sum)"
   ]
  },
  {
   "cell_type": "code",
   "execution_count": 48,
   "metadata": {},
   "outputs": [
    {
     "name": "stdout",
     "output_type": "stream",
     "text": [
      "(1, 'Hello') (3, 3.14) (1, 'Hello', 3, 3.14) (1, 'Hello', 1, 'Hello', 1, 'Hello') Hello\n"
     ]
    }
   ],
   "source": [
    "### 튜플\n",
    "a = (1, 'Hello')\n",
    "b = (3, 3.14)\n",
    "c = a + b\n",
    "d = a * 3\n",
    "e = a[1]\n",
    "\n",
    "print(a, b, c, d, e)"
   ]
  },
  {
   "cell_type": "code",
   "execution_count": 49,
   "metadata": {},
   "outputs": [
    {
     "name": "stdout",
     "output_type": "stream",
     "text": [
      "1\n"
     ]
    }
   ],
   "source": [
    "## 숫자 1만 출력하고 싶으면?\n",
    "\n",
    "print(a[0])"
   ]
  },
  {
   "cell_type": "code",
   "execution_count": 50,
   "metadata": {},
   "outputs": [],
   "source": [
    "a = (10, 20, 30, 40)"
   ]
  },
  {
   "cell_type": "code",
   "execution_count": 51,
   "metadata": {},
   "outputs": [
    {
     "name": "stdout",
     "output_type": "stream",
     "text": [
      "(20, 30)\n"
     ]
    }
   ],
   "source": [
    "## 20, 30 을 출력하려면?\n",
    "\n",
    "print(a[1:3])\n",
    "# 2번째부터 4번째 전까지"
   ]
  },
  {
   "cell_type": "code",
   "execution_count": 52,
   "metadata": {},
   "outputs": [
    {
     "name": "stdout",
     "output_type": "stream",
     "text": [
      "(30, 40)\n"
     ]
    }
   ],
   "source": [
    "## 30, 40 을 출력하려면?\n",
    "\n",
    "print(a[2:])"
   ]
  },
  {
   "cell_type": "code",
   "execution_count": 53,
   "metadata": {},
   "outputs": [],
   "source": [
    "## list 형태 데이터\n",
    "\n",
    "a = [20, 10, 50, 5]\n",
    "b = [10, 20, 30, 40]"
   ]
  },
  {
   "cell_type": "code",
   "execution_count": 55,
   "metadata": {},
   "outputs": [
    {
     "name": "stdout",
     "output_type": "stream",
     "text": [
      "[5, 10, 20, 50]\n"
     ]
    }
   ],
   "source": [
    "## sort() -> 오름차순 정렬로 변경\n",
    "\n",
    "a.sort()\n",
    "print(a)"
   ]
  },
  {
   "cell_type": "code",
   "execution_count": 56,
   "metadata": {},
   "outputs": [
    {
     "name": "stdout",
     "output_type": "stream",
     "text": [
      "[40, 30, 20, 10]\n"
     ]
    }
   ],
   "source": [
    "## reverse() -> 역순으로 정렬을 변경\n",
    "\n",
    "b.reverse()\n",
    "print(b)"
   ]
  },
  {
   "cell_type": "code",
   "execution_count": 102,
   "metadata": {},
   "outputs": [
    {
     "name": "stdout",
     "output_type": "stream",
     "text": [
      "[20, 10, 50, 5, 22]\n"
     ]
    }
   ],
   "source": [
    "## append() -> 리스트의 마지막에 항목 추가\n",
    "\n",
    "a = [20, 10, 50, 5]\n",
    "\n",
    "a.append(22)\n",
    "print(a)"
   ]
  },
  {
   "cell_type": "code",
   "execution_count": 63,
   "metadata": {},
   "outputs": [
    {
     "name": "stdout",
     "output_type": "stream",
     "text": [
      "[]\n",
      "[10]\n"
     ]
    }
   ],
   "source": [
    "## 리스트의 특징\n",
    "\n",
    "a = []\n",
    "print(a)\n",
    "a.append(10)\n",
    "print(a)"
   ]
  },
  {
   "cell_type": "code",
   "execution_count": 88,
   "metadata": {},
   "outputs": [
    {
     "name": "stdout",
     "output_type": "stream",
     "text": [
      "[3]\n",
      "[3, 6]\n",
      "[3, 6, 9]\n",
      "[3, 6, 9, 12]\n",
      "[3, 6, 9, 12, 15]\n",
      "[3, 6, 9, 12, 15, 18]\n",
      "[3, 6, 9, 12, 15, 18, 21]\n",
      "[3, 6, 9, 12, 15, 18, 21, 24]\n",
      "[3, 6, 9, 12, 15, 18, 21, 24, 27]\n",
      "[3, 6, 9, 12, 15, 18, 21, 24, 27, 30]\n",
      "[3, 6, 9, 12, 15, 18, 21, 24, 27, 30, 33]\n",
      "[3, 6, 9, 12, 15, 18, 21, 24, 27, 30, 33, 36]\n",
      "[3, 6, 9, 12, 15, 18, 21, 24, 27, 30, 33, 36, 39]\n",
      "[3, 6, 9, 12, 15, 18, 21, 24, 27, 30, 33, 36, 39, 42]\n",
      "[3, 6, 9, 12, 15, 18, 21, 24, 27, 30, 33, 36, 39, 42, 45]\n",
      "[3, 6, 9, 12, 15, 18, 21, 24, 27, 30, 33, 36, 39, 42, 45, 48]\n",
      "[3, 6, 9, 12, 15, 18, 21, 24, 27, 30, 33, 36, 39, 42, 45, 48, 51]\n",
      "[3, 6, 9, 12, 15, 18, 21, 24, 27, 30, 33, 36, 39, 42, 45, 48, 51, 54]\n",
      "[3, 6, 9, 12, 15, 18, 21, 24, 27, 30, 33, 36, 39, 42, 45, 48, 51, 54, 57]\n",
      "[3, 6, 9, 12, 15, 18, 21, 24, 27, 30, 33, 36, 39, 42, 45, 48, 51, 54, 57, 60]\n",
      "[3, 6, 9, 12, 15, 18, 21, 24, 27, 30, 33, 36, 39, 42, 45, 48, 51, 54, 57, 60, 63]\n",
      "[3, 6, 9, 12, 15, 18, 21, 24, 27, 30, 33, 36, 39, 42, 45, 48, 51, 54, 57, 60, 63, 66]\n",
      "[3, 6, 9, 12, 15, 18, 21, 24, 27, 30, 33, 36, 39, 42, 45, 48, 51, 54, 57, 60, 63, 66, 69]\n"
     ]
    }
   ],
   "source": [
    "## 1부터 70까지 숫자들중에 3의 배수를 리스트로 만들어서 출력\n",
    "\n",
    "# 나의 답안\n",
    "a = []\n",
    "\n",
    "for i in range(1, 71, 1):\n",
    "    if i % 3 == 0:\n",
    "        a.append(i)\n",
    "        print(a)\n"
   ]
  },
  {
   "cell_type": "code",
   "execution_count": 99,
   "metadata": {},
   "outputs": [
    {
     "name": "stdout",
     "output_type": "stream",
     "text": [
      "[3, 6, 9, 12, 15, 18, 21, 24, 27, 30, 33, 36, 39, 42, 45, 48, 51, 54, 57, 60, 63, 66, 69]\n"
     ]
    }
   ],
   "source": [
    "# 모범 답안\n",
    "\n",
    "## 비어있는 리스트 생성\n",
    "l = []\n",
    "\n",
    "## 1부터 70까지 반복\n",
    "for i in range(1, 71,1):\n",
    "    ## 3의 배수 조건식\n",
    "    if i % 3 == 0:\n",
    "        l.append(i)\n",
    "\n",
    "print(l)\n"
   ]
  },
  {
   "cell_type": "code",
   "execution_count": 84,
   "metadata": {},
   "outputs": [
    {
     "name": "stdout",
     "output_type": "stream",
     "text": [
      "5\n",
      "7\n",
      "10\n"
     ]
    }
   ],
   "source": [
    "for i in [5, 7, 10]:\n",
    "    print(i)\n"
   ]
  },
  {
   "cell_type": "code",
   "execution_count": 100,
   "metadata": {},
   "outputs": [
    {
     "data": {
      "text/plain": [
       "[3,\n",
       " 6,\n",
       " 9,\n",
       " 12,\n",
       " 15,\n",
       " 18,\n",
       " 21,\n",
       " 24,\n",
       " 27,\n",
       " 30,\n",
       " 33,\n",
       " 36,\n",
       " 39,\n",
       " 42,\n",
       " 45,\n",
       " 48,\n",
       " 51,\n",
       " 54,\n",
       " 57,\n",
       " 60,\n",
       " 63,\n",
       " 66,\n",
       " 69]"
      ]
     },
     "execution_count": 100,
     "metadata": {},
     "output_type": "execute_result"
    }
   ],
   "source": [
    "l"
   ]
  },
  {
   "cell_type": "code",
   "execution_count": 103,
   "metadata": {},
   "outputs": [
    {
     "ename": "TypeError",
     "evalue": "'int' object is not callable",
     "output_type": "error",
     "traceback": [
      "\u001b[1;31m---------------------------------------------------------------------------\u001b[0m",
      "\u001b[1;31mTypeError\u001b[0m                                 Traceback (most recent call last)",
      "Cell \u001b[1;32mIn[103], line 8\u001b[0m\n\u001b[0;32m      5\u001b[0m \u001b[39msum\u001b[39m \u001b[39m=\u001b[39m \u001b[39m0\u001b[39m\n\u001b[0;32m      7\u001b[0m \u001b[39mfor\u001b[39;00m l \u001b[39min\u001b[39;00m [l]:\n\u001b[1;32m----> 8\u001b[0m     \u001b[39msum\u001b[39;49m(l)\n\u001b[0;32m     10\u001b[0m \u001b[39mprint\u001b[39m(l)\n",
      "\u001b[1;31mTypeError\u001b[0m: 'int' object is not callable"
     ]
    }
   ],
   "source": [
    "## 리스트 l의 합계\n",
    "\n",
    "# 나의답안\n",
    "\n",
    "sum = 0\n",
    "\n",
    "for l in [l]:\n",
    "    sum(l)\n",
    "\n",
    "print(l)"
   ]
  },
  {
   "cell_type": "code",
   "execution_count": 104,
   "metadata": {},
   "outputs": [
    {
     "name": "stdout",
     "output_type": "stream",
     "text": [
      "828\n"
     ]
    }
   ],
   "source": [
    "# 모범답안\n",
    "\n",
    "sum = 0\n",
    "\n",
    "for i in l:\n",
    "    sum += i\n",
    "\n",
    "print(sum)\n"
   ]
  },
  {
   "cell_type": "code",
   "execution_count": 110,
   "metadata": {},
   "outputs": [],
   "source": [
    "## 딕셔너리\n",
    "## 사전형 데이터\n",
    "## {key1 : value1, key2 : value2, ...}\n",
    "\n",
    "dict = {\n",
    "    \"name\" : \"test\",\n",
    "    \"age\" : 20,\n",
    "    \"phone\" : \"01012345678)\"\n",
    "}\n"
   ]
  },
  {
   "cell_type": "code",
   "execution_count": 111,
   "metadata": {},
   "outputs": [
    {
     "name": "stdout",
     "output_type": "stream",
     "text": [
      "test\n"
     ]
    }
   ],
   "source": [
    "print(dict[\"name\"])"
   ]
  },
  {
   "cell_type": "code",
   "execution_count": 114,
   "metadata": {},
   "outputs": [],
   "source": [
    "## 새로운 key : value 를 대입\n",
    "\n",
    "dict['area'] = \"seoul\""
   ]
  },
  {
   "cell_type": "code",
   "execution_count": 119,
   "metadata": {},
   "outputs": [
    {
     "name": "stdout",
     "output_type": "stream",
     "text": [
      "{'name': 'test', 'age': 20, 'phone': '01012345678)', 'area': 'seoul'}\n"
     ]
    }
   ],
   "source": [
    "print(dict)"
   ]
  },
  {
   "cell_type": "code",
   "execution_count": 116,
   "metadata": {},
   "outputs": [],
   "source": [
    "## Database에서 데이터를 받아올 때 데이터의 형태\n",
    "## [ {}, {}, {} ]\n",
    "\n",
    "test_data = [\n",
    "    {\n",
    "        \"name\" : \"test1\",\n",
    "        \"age\" : 20\n",
    "    },\n",
    "    {\n",
    "        \"name\" : \"test2\",\n",
    "        \"age\" : 30\n",
    "    },\n",
    "    {\n",
    "        \"name\" : \"test3\",\n",
    "        \"age\" : 40\n",
    "    }\n",
    "\n",
    "]"
   ]
  },
  {
   "cell_type": "code",
   "execution_count": 125,
   "metadata": {},
   "outputs": [
    {
     "name": "stdout",
     "output_type": "stream",
     "text": [
      "{'name': 'test1', 'age': 20}\n",
      "test1\n"
     ]
    }
   ],
   "source": [
    "## test_data에서 test1 값만 출력\n",
    "\n",
    "# 모범답안\n",
    "\n",
    "# 대괄호 제거 (리스트)\n",
    "print(test_data[0])\n",
    "\n",
    "# 중괄호 제거 (dict)\n",
    "print(test_data[0]['name'])"
   ]
  },
  {
   "cell_type": "code",
   "execution_count": 127,
   "metadata": {},
   "outputs": [
    {
     "name": "stdout",
     "output_type": "stream",
     "text": [
      "['test1', 'test2', 'test3']\n"
     ]
    }
   ],
   "source": [
    "## test_data에서 name의 값들만 리스트의 형태로 출력\n",
    "\n",
    "name_list = []\n",
    "\n",
    "for i in test_data:\n",
    "    name_list.append(i[\"name\"])\n",
    "\n",
    "print(name_list)"
   ]
  },
  {
   "cell_type": "code",
   "execution_count": 129,
   "metadata": {},
   "outputs": [
    {
     "name": "stdout",
     "output_type": "stream",
     "text": [
      "['test1', 'test2', 'test3']\n"
     ]
    }
   ],
   "source": [
    "name_list = []\n",
    "\n",
    "for i in range(0, 3, 1):\n",
    "    name_list.append(test_data[i]['name'])\n",
    "\n",
    "print(name_list)"
   ]
  },
  {
   "cell_type": "code",
   "execution_count": 130,
   "metadata": {},
   "outputs": [
    {
     "name": "stdout",
     "output_type": "stream",
     "text": [
      "['test1', 'test2', 'test3']\n"
     ]
    }
   ],
   "source": [
    "name_list = []\n",
    "\n",
    "for i in range(0, len(test_data), 1):\n",
    "    # len () -> 리스트 길이\n",
    "    name_list.append(test_data[i]['name'])\n",
    "\n",
    "print(name_list)"
   ]
  },
  {
   "cell_type": "code",
   "execution_count": 131,
   "metadata": {},
   "outputs": [
    {
     "name": "stdout",
     "output_type": "stream",
     "text": [
      "HELLO WORLD\n",
      "hello world\n"
     ]
    }
   ],
   "source": [
    "## 문자열 내장 함수\n",
    "\n",
    "## 대문자, 소문자 변환\n",
    "## upper(), lower()\n",
    "\n",
    "text = \"Hello World\"\n",
    "print(text.upper())\n",
    "print(text.lower())"
   ]
  },
  {
   "cell_type": "code",
   "execution_count": 132,
   "metadata": {},
   "outputs": [
    {
     "name": "stdout",
     "output_type": "stream",
     "text": [
      "   Hello World   \n"
     ]
    }
   ],
   "source": [
    "text = \"   Hello World   \"\n",
    "print(text)"
   ]
  },
  {
   "cell_type": "code",
   "execution_count": 135,
   "metadata": {},
   "outputs": [
    {
     "name": "stdout",
     "output_type": "stream",
     "text": [
      "Hello World   \n",
      "   Hello World\n",
      "Hello World\n"
     ]
    }
   ],
   "source": [
    "## 공백 제거 함수\n",
    "## strip() : 양쪽의 공백 제거\n",
    "## lstrip() : 왼쪽의 공백을 제거\n",
    "## rstrip() : 오른쪽의 공백을 제거\n",
    "\n",
    "print(text.lstrip())\n",
    "print(text.rstrip())\n",
    "print(text.strip())"
   ]
  },
  {
   "cell_type": "code",
   "execution_count": 136,
   "metadata": {},
   "outputs": [
    {
     "data": {
      "text/plain": [
       "'HelloWorld'"
      ]
     },
     "execution_count": 136,
     "metadata": {},
     "output_type": "execute_result"
    }
   ],
   "source": [
    "## replace()\n",
    "## 선택한 문자열을 변경\n",
    "## 공백을 제거하는데도 사용이 가능\n",
    "\n",
    "text.replace(\" \", \"\")"
   ]
  },
  {
   "cell_type": "code",
   "execution_count": 137,
   "metadata": {},
   "outputs": [
    {
     "data": {
      "text/plain": [
       "'   Hi World   '"
      ]
     },
     "execution_count": 137,
     "metadata": {},
     "output_type": "execute_result"
    }
   ],
   "source": [
    "text.replace(\"Hello\", 'Hi')"
   ]
  },
  {
   "cell_type": "code",
   "execution_count": 138,
   "metadata": {},
   "outputs": [
    {
     "name": "stdout",
     "output_type": "stream",
     "text": [
      "a, b, c, d, e\n"
     ]
    }
   ],
   "source": [
    "### split()\n",
    "## 기준이 되는 문자열이나 , . / 와 같은\n",
    "## 특수문자열을 기준으로 문자열을 나눠주는 역할\n",
    "\n",
    "a = \"a, b, c, d, e\"\n",
    "print(a)"
   ]
  },
  {
   "cell_type": "code",
   "execution_count": 140,
   "metadata": {},
   "outputs": [
    {
     "data": {
      "text/plain": [
       "['a', ' b', ' c', ' d', ' e']"
      ]
     },
     "execution_count": 140,
     "metadata": {},
     "output_type": "execute_result"
    }
   ],
   "source": [
    "a.split(\",\")"
   ]
  },
  {
   "cell_type": "code",
   "execution_count": 141,
   "metadata": {},
   "outputs": [],
   "source": [
    "## 함수\n",
    "\n",
    "def func_1():\n",
    "    return \"Hello World\""
   ]
  },
  {
   "cell_type": "code",
   "execution_count": 142,
   "metadata": {},
   "outputs": [
    {
     "name": "stdout",
     "output_type": "stream",
     "text": [
      "Hello World\n",
      "Hello World\n",
      "Hello World\n"
     ]
    }
   ],
   "source": [
    "print(func_1())\n",
    "print(func_1())\n",
    "print(func_1())"
   ]
  },
  {
   "cell_type": "code",
   "execution_count": 143,
   "metadata": {},
   "outputs": [],
   "source": [
    "## 매개변수가 존재하는 함수 생성\n",
    "\n",
    "def func_2(x, y):\n",
    "    result = x + y\n",
    "    return result"
   ]
  },
  {
   "cell_type": "code",
   "execution_count": 144,
   "metadata": {},
   "outputs": [
    {
     "name": "stdout",
     "output_type": "stream",
     "text": [
      "8\n",
      "4\n",
      "14\n"
     ]
    }
   ],
   "source": [
    "print(func_2(5, 3))\n",
    "print(func_2(1,3))\n",
    "print(func_2(10, 4))"
   ]
  },
  {
   "cell_type": "code",
   "execution_count": 145,
   "metadata": {},
   "outputs": [
    {
     "ename": "TypeError",
     "evalue": "func_2() missing 1 required positional argument: 'y'",
     "output_type": "error",
     "traceback": [
      "\u001b[1;31m---------------------------------------------------------------------------\u001b[0m",
      "\u001b[1;31mTypeError\u001b[0m                                 Traceback (most recent call last)",
      "Cell \u001b[1;32mIn[145], line 1\u001b[0m\n\u001b[1;32m----> 1\u001b[0m func_2(\u001b[39m1\u001b[39;49m)\n",
      "\u001b[1;31mTypeError\u001b[0m: func_2() missing 1 required positional argument: 'y'"
     ]
    }
   ],
   "source": [
    "func_2(1)"
   ]
  },
  {
   "cell_type": "code",
   "execution_count": 152,
   "metadata": {},
   "outputs": [
    {
     "name": "stdout",
     "output_type": "stream",
     "text": [
      "6\n",
      "6\n"
     ]
    }
   ],
   "source": [
    "### 매개변수에 기본값을 정의\n",
    "\n",
    "def func_3(x, y = 3):\n",
    "    result = x + y\n",
    "    return result\n",
    "\n",
    "print(func_3(5,1))\n",
    "print(func_3(3))"
   ]
  },
  {
   "cell_type": "code",
   "execution_count": null,
   "metadata": {},
   "outputs": [],
   "source": [
    "## 매개변수의 기본값은 뒤에서부터 정의\n",
    "\n",
    "def func_4(x = 3, y):\n",
    "    result = \n",
    "\n",
    "## 매개변수의 기본값을 앞에서부터 정의하려면\n",
    "## if문을 사용"
   ]
  },
  {
   "cell_type": "code",
   "execution_count": 157,
   "metadata": {},
   "outputs": [
    {
     "name": "stdout",
     "output_type": "stream",
     "text": [
      "25\n",
      "32\n"
     ]
    }
   ],
   "source": [
    "def func_4(x, y):\n",
    "    result = x ** y\n",
    "    return result\n",
    "\n",
    "print(func_4(5,2))\n",
    "print(func_4(y=5, x=2))"
   ]
  },
  {
   "attachments": {},
   "cell_type": "markdown",
   "metadata": {},
   "source": [
    "1. 함수를 하나 생성 매개변수 2개 (x, y)\n",
    "2. 함수가 하는 행동 (a부터 b까지의 합을 리턴) - for/while문\n",
    "3. x보다 y가 작은 경우에는 x부터 y까지의 합, 반대인 경우에는 y부터 x까지의 합"
   ]
  },
  {
   "cell_type": "code",
   "execution_count": 192,
   "metadata": {},
   "outputs": [
    {
     "name": "stdout",
     "output_type": "stream",
     "text": [
      "55\n"
     ]
    }
   ],
   "source": [
    "## 함수를 하나 생성하는 매개변수 2개 (x,y)\n",
    "## 함수가 하는 행동 (a부터 b까지의 합을 리턴) - for/while문\n",
    "\n",
    "# 나의답안\n",
    "\n",
    "sum = 0\n",
    "\n",
    "def func5_(x, y):\n",
    "    for i in range(x, y+1, 1):\n",
    "        sum += i\n",
    "    result \n",
    "    return sum\n",
    "\n",
    "print(func_5(1,10))\n"
   ]
  },
  {
   "cell_type": "code",
   "execution_count": 190,
   "metadata": {},
   "outputs": [
    {
     "name": "stdout",
     "output_type": "stream",
     "text": [
      "55\n",
      "0\n"
     ]
    }
   ],
   "source": [
    "# 모범답안 (2)\n",
    "\n",
    "def func_5(x, y):\n",
    "    sum = 0\n",
    "    for i in range(x, y+1, 1):\n",
    "        sum += i\n",
    "    return sum\n",
    "\n",
    "print(func_5(1,10))\n",
    "print(func_5(10,1))"
   ]
  },
  {
   "cell_type": "code",
   "execution_count": 189,
   "metadata": {},
   "outputs": [
    {
     "name": "stdout",
     "output_type": "stream",
     "text": [
      "55\n"
     ]
    },
    {
     "ename": "NameError",
     "evalue": "name 'f_sum' is not defined",
     "output_type": "error",
     "traceback": [
      "\u001b[1;31m---------------------------------------------------------------------------\u001b[0m",
      "\u001b[1;31mNameError\u001b[0m                                 Traceback (most recent call last)",
      "Cell \u001b[1;32mIn[189], line 10\u001b[0m\n\u001b[0;32m      7\u001b[0m     \u001b[39mreturn\u001b[39;00m f_sum\n\u001b[0;32m      9\u001b[0m \u001b[39mprint\u001b[39m(func_5(\u001b[39m1\u001b[39m,\u001b[39m10\u001b[39m))\n\u001b[1;32m---> 10\u001b[0m \u001b[39mprint\u001b[39m(f_sum) \u001b[39m# f_sum은 전역함수가 아닌 지역함수 이므로 들여쓰기 밖에서는 정의 불가\u001b[39;00m\n\u001b[0;32m     12\u001b[0m \u001b[39mprint\u001b[39m(func_5(\u001b[39m10\u001b[39m,\u001b[39m1\u001b[39m))\n",
      "\u001b[1;31mNameError\u001b[0m: name 'f_sum' is not defined"
     ]
    }
   ],
   "source": [
    "def func_5(x, y):\n",
    "    f_sum = 0\n",
    "    for i in range(x, y+1, 1):\n",
    "        f_sum += i\n",
    "    return f_sum\n",
    "\n",
    "print(func_5(1,10))\n",
    "print(f_sum) # f_sum은 전역함수가 아닌 지역함수 이므로 들여쓰기 밖에서는 정의 불가"
   ]
  },
  {
   "cell_type": "code",
   "execution_count": 201,
   "metadata": {},
   "outputs": [
    {
     "name": "stdout",
     "output_type": "stream",
     "text": [
      "55\n",
      "0\n"
     ]
    }
   ],
   "source": [
    "# 모범답안 (3)\n",
    "\n",
    "def func_6(x, y):\n",
    "    f_sum = 0\n",
    "    while x <= y:\n",
    "        f_sum += x\n",
    "        x += 1\n",
    "    return f_sum\n",
    "\n",
    "print(func_6(1,10))\n",
    "print(func_6(10,1))"
   ]
  },
  {
   "cell_type": "code",
   "execution_count": 211,
   "metadata": {},
   "outputs": [
    {
     "name": "stdout",
     "output_type": "stream",
     "text": [
      "55\n",
      "0\n"
     ]
    }
   ],
   "source": [
    "## x보다 y가 작은 경우에는 x부터 y까지의 합, 반대인 경우에는 y부터 x까지의 합\n",
    "\n",
    "# 나의답안\n",
    "\n",
    "def func_7(x, y):\n",
    "    sum = 0 \n",
    "    if x < y:\n",
    "        for i in range(x, y+1, 1):\n",
    "            sum += i\n",
    "        else:\n",
    "        # 들여쓰기 해야 함\n",
    "            for l in range(y, x+1, 1):\n",
    "                sum += l\n",
    "    return sum\n",
    "\n",
    "print(func_7(1,10))\n",
    "print(func_7(10,1))"
   ]
  },
  {
   "cell_type": "code",
   "execution_count": 205,
   "metadata": {},
   "outputs": [
    {
     "name": "stdout",
     "output_type": "stream",
     "text": [
      "55\n",
      "55\n"
     ]
    }
   ],
   "source": [
    "# 모범답안 (1)\n",
    "\n",
    "def func_7(x, y):\n",
    "    f_sum = 0\n",
    "    ## x가 y보다 작은 경우 \n",
    "    if x < y:\n",
    "        for i in range(x, y+1, 1):\n",
    "            f_sum += i\n",
    "        ## x가 y보다 큰 경우\n",
    "    else:\n",
    "            for i in range(y, x+1, 1):\n",
    "                f_sum += i\n",
    "    return f_sum\n",
    "\n",
    "print(func_7(1,10))\n",
    "print(func_7(10,1))"
   ]
  },
  {
   "cell_type": "code",
   "execution_count": 209,
   "metadata": {},
   "outputs": [
    {
     "name": "stdout",
     "output_type": "stream",
     "text": [
      "55\n",
      "55\n"
     ]
    }
   ],
   "source": [
    "# 모범답안 (2)\n",
    "\n",
    "def func_8(x, y):\n",
    "    f_sum = 0\n",
    "    for i in range(min(x, y), max(x, y)+1, 1):\n",
    "        f_sum += i\n",
    "    return f_sum\n",
    "\n",
    "print(func_8(1,10))\n",
    "print(func_8(10,1))   "
   ]
  },
  {
   "attachments": {},
   "cell_type": "markdown",
   "metadata": {},
   "source": [
    "1. 함수 생성 (매개변수 3개 x, y, z)\n",
    "2. z의 값이 '합' x+y 리턴\n",
    "3. z의 값이 '차' x-y 리턴\n",
    "4. z의 값이 둘다 아니면 '연산식이 잘못되었습니다' 리턴"
   ]
  },
  {
   "cell_type": "code",
   "execution_count": 229,
   "metadata": {},
   "outputs": [
    {
     "name": "stdout",
     "output_type": "stream",
     "text": [
      "4\n",
      "-2\n",
      "연산식이 잘못되었습니다\n"
     ]
    }
   ],
   "source": [
    "## 함수 생성 (매개변수 3개 x, y, z)\n",
    "## z의 값이 '합' x+y 리턴\n",
    "## z의 값이 '차' x-y 리턴\n",
    "\n",
    "# 나의답안\n",
    "\n",
    "def func_9(x, y, z):\n",
    "    if z == \"합\":\n",
    "        result = x + y\n",
    "    elif z == \"차\": \n",
    "        result = x - y\n",
    "    else:\n",
    "        result = '연산식이 잘못되었습니다'\n",
    "    return result\n",
    "\n",
    "print(func_9(1,3, '합'))\n",
    "print(func_9(1,3, '차'))\n",
    "print(func_9(1,3, '곱'))\n"
   ]
  },
  {
   "cell_type": "code",
   "execution_count": 230,
   "metadata": {},
   "outputs": [
    {
     "name": "stdout",
     "output_type": "stream",
     "text": [
      "4\n",
      "-2\n",
      "연산식이 잘못되었습니다\n"
     ]
    }
   ],
   "source": [
    "# 모범답안 (1)\n",
    "\n",
    "def func_9(x, y, z):\n",
    "    if z == \"합\":\n",
    "        return x + y\n",
    "    elif z == \"차\":\n",
    "        return x - y\n",
    "    else:\n",
    "        return \"연산식이 잘못되었습니다\"\n",
    "\n",
    "print(func_9(1,3, '합'))\n",
    "print(func_9(1,3, '차'))\n",
    "print(func_9(1,3, '곱'))"
   ]
  },
  {
   "cell_type": "code",
   "execution_count": 231,
   "metadata": {},
   "outputs": [
    {
     "name": "stdout",
     "output_type": "stream",
     "text": [
      "4\n",
      "-2\n",
      "연산식이 잘못되었습니다\n"
     ]
    }
   ],
   "source": [
    "# 모범답안 (2)\n",
    "\n",
    "def func_9(x, y, z):\n",
    "    if z == \"합\":\n",
    "        return x + y\n",
    "    if z == \"차\":\n",
    "        return x - y\n",
    "    \n",
    "    return \"연산식이 잘못되었습니다\"\n",
    "\n",
    "print(func_9(1,3, '합'))\n",
    "print(func_9(1,3, '차'))\n",
    "print(func_9(1,3, '곱'))"
   ]
  },
  {
   "cell_type": "code",
   "execution_count": 235,
   "metadata": {},
   "outputs": [
    {
     "name": "stdout",
     "output_type": "stream",
     "text": [
      "4\n",
      "-2\n",
      "연산식이 잘못되었습니다\n"
     ]
    }
   ],
   "source": [
    "# 모범답안 (3)\n",
    "\n",
    "def func_10(x, y, z):\n",
    "    if z == \"합\":\n",
    "        result = x + y\n",
    "    elif z == \"차\":\n",
    "        result = x - y\n",
    "    else:\n",
    "        result = \"연산식이 잘못되었습니다\"\n",
    "    return result\n",
    "\n",
    "print(func_10(1,3, '합'))\n",
    "print(func_10(1,3, '차'))\n",
    "print(func_10(1,3, '곱'))"
   ]
  },
  {
   "cell_type": "code",
   "execution_count": 236,
   "metadata": {},
   "outputs": [
    {
     "name": "stdout",
     "output_type": "stream",
     "text": [
      "[1, 4, 9, 16]\n"
     ]
    }
   ],
   "source": [
    "## map 함수 (적용 전)\n",
    "\n",
    "def func_11(x):\n",
    "    result = x ** 2 #지역변수\n",
    "    return result\n",
    "\n",
    "l = [1, 2, 3, 4]\n",
    "\n",
    "result = [] #전역변수\n",
    "\n",
    "for i in l:\n",
    "    result.append(func_11(i))\n",
    "print(result)"
   ]
  },
  {
   "cell_type": "code",
   "execution_count": 237,
   "metadata": {},
   "outputs": [
    {
     "name": "stdout",
     "output_type": "stream",
     "text": [
      "[1, 4, 9, 16]\n"
     ]
    }
   ],
   "source": [
    "## map 함수 (적용 후)\n",
    "\n",
    "result_2 = list(map(func_11, l))\n",
    "print(result_2)\n"
   ]
  },
  {
   "cell_type": "code",
   "execution_count": 238,
   "metadata": {},
   "outputs": [
    {
     "name": "stdout",
     "output_type": "stream",
     "text": [
      "16\n"
     ]
    }
   ],
   "source": [
    "## 람다 함수\n",
    "\n",
    "lamb = lambda x: x ** 2\n",
    "print(lamb(4))"
   ]
  },
  {
   "cell_type": "code",
   "execution_count": 239,
   "metadata": {},
   "outputs": [
    {
     "data": {
      "text/plain": [
       "[1, 4, 9, 16]"
      ]
     },
     "execution_count": 239,
     "metadata": {},
     "output_type": "execute_result"
    }
   ],
   "source": [
    "list(map(lamb, l))"
   ]
  }
 ],
 "metadata": {
  "kernelspec": {
   "display_name": "Python 3",
   "language": "python",
   "name": "python3"
  },
  "language_info": {
   "codemirror_mode": {
    "name": "ipython",
    "version": 3
   },
   "file_extension": ".py",
   "mimetype": "text/x-python",
   "name": "python",
   "nbconvert_exporter": "python",
   "pygments_lexer": "ipython3",
   "version": "3.11.1"
  },
  "orig_nbformat": 4,
  "vscode": {
   "interpreter": {
    "hash": "afffc98ef2e14478aefd6c9936db4a8482b7a0abefe81264c0b83ced56e60f5e"
   }
  }
 },
 "nbformat": 4,
 "nbformat_minor": 2
}
