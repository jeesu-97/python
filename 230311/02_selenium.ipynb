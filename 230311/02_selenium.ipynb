{
 "cells": [
  {
   "cell_type": "code",
   "execution_count": 8,
   "metadata": {},
   "outputs": [
    {
     "name": "stdout",
     "output_type": "stream",
     "text": [
      "Collecting selenium\n",
      "  Downloading selenium-4.8.2-py3-none-any.whl (6.9 MB)\n",
      "     ---------------------------------------- 6.9/6.9 MB 2.0 MB/s eta 0:00:00\n",
      "Requirement already satisfied: urllib3[socks]~=1.26 in c:\\users\\intco\\appdata\\local\\programs\\python\\python311\\lib\\site-packages (from selenium) (1.26.14)\n",
      "Collecting trio~=0.17\n",
      "  Downloading trio-0.22.0-py3-none-any.whl (384 kB)\n",
      "     -------------------------------------- 384.9/384.9 kB 1.8 MB/s eta 0:00:00\n",
      "Collecting trio-websocket~=0.9\n",
      "  Downloading trio_websocket-0.9.2-py3-none-any.whl (16 kB)\n",
      "Requirement already satisfied: certifi>=2021.10.8 in c:\\users\\intco\\appdata\\local\\programs\\python\\python311\\lib\\site-packages (from selenium) (2022.12.7)\n",
      "Requirement already satisfied: attrs>=19.2.0 in c:\\users\\intco\\appdata\\local\\programs\\python\\python311\\lib\\site-packages (from trio~=0.17->selenium) (22.2.0)\n",
      "Collecting sortedcontainers\n",
      "  Downloading sortedcontainers-2.4.0-py2.py3-none-any.whl (29 kB)\n",
      "Collecting async-generator>=1.9\n",
      "  Downloading async_generator-1.10-py3-none-any.whl (18 kB)\n",
      "Requirement already satisfied: idna in c:\\users\\intco\\appdata\\local\\programs\\python\\python311\\lib\\site-packages (from trio~=0.17->selenium) (3.4)\n",
      "Collecting outcome\n",
      "  Downloading outcome-1.2.0-py2.py3-none-any.whl (9.7 kB)\n",
      "Requirement already satisfied: sniffio in c:\\users\\intco\\appdata\\local\\programs\\python\\python311\\lib\\site-packages (from trio~=0.17->selenium) (1.3.0)\n",
      "Requirement already satisfied: cffi>=1.14 in c:\\users\\intco\\appdata\\local\\programs\\python\\python311\\lib\\site-packages (from trio~=0.17->selenium) (1.15.1)\n",
      "Collecting wsproto>=0.14\n",
      "  Downloading wsproto-1.2.0-py3-none-any.whl (24 kB)\n",
      "Collecting PySocks!=1.5.7,<2.0,>=1.5.6\n",
      "  Downloading PySocks-1.7.1-py3-none-any.whl (16 kB)\n",
      "Requirement already satisfied: pycparser in c:\\users\\intco\\appdata\\local\\programs\\python\\python311\\lib\\site-packages (from cffi>=1.14->trio~=0.17->selenium) (2.21)\n",
      "Collecting h11<1,>=0.9.0\n",
      "  Downloading h11-0.14.0-py3-none-any.whl (58 kB)\n",
      "     -------------------------------------- 58.3/58.3 kB 510.8 kB/s eta 0:00:00\n",
      "Installing collected packages: sortedcontainers, PySocks, outcome, h11, async-generator, wsproto, trio, trio-websocket, selenium\n",
      "Successfully installed PySocks-1.7.1 async-generator-1.10 h11-0.14.0 outcome-1.2.0 selenium-4.8.2 sortedcontainers-2.4.0 trio-0.22.0 trio-websocket-0.9.2 wsproto-1.2.0\n"
     ]
    },
    {
     "name": "stderr",
     "output_type": "stream",
     "text": [
      "\n",
      "[notice] A new release of pip available: 22.3.1 -> 23.0.1\n",
      "[notice] To update, run: python.exe -m pip install --upgrade pip\n"
     ]
    }
   ],
   "source": [
    "## 라이브러리 설치\n",
    "!pip install selenium"
   ]
  },
  {
   "attachments": {},
   "cell_type": "markdown",
   "metadata": {},
   "source": [
    "### selenium 라이브러리\n",
    "1. 웹 어플리케이션 테스트를 위한 라이브러리\n",
    "2. python을 이용하여 웹 블우저를 제어하는 기능\n",
    "3. 웹드라이버라는 별도의 프로그램 설치"
   ]
  },
  {
   "cell_type": "code",
   "execution_count": 9,
   "metadata": {},
   "outputs": [],
   "source": [
    "## 라이브러리 로드\n",
    "from selenium import webdriver"
   ]
  },
  {
   "cell_type": "code",
   "execution_count": 11,
   "metadata": {},
   "outputs": [],
   "source": [
    "## webdriver 파일의 위치를 지정\n",
    "## 상대 경로 \n",
    "path = '../chromdriver'\n",
    "\n",
    "## 절대경로\n",
    "path2 = 'C:\\\\Users\\\\intco\\\\Documents\\\\GitHub\\\\python\\\\chromedriver.exe'"
   ]
  },
  {
   "cell_type": "code",
   "execution_count": 20,
   "metadata": {},
   "outputs": [
    {
     "name": "stderr",
     "output_type": "stream",
     "text": [
      "C:\\Users\\intco\\AppData\\Local\\Temp\\ipykernel_48968\\3869304752.py:2: DeprecationWarning: executable_path has been deprecated, please pass in a Service object\n",
      "  driver = webdriver.Chrome(path)\n"
     ]
    }
   ],
   "source": [
    "## 웹드라이버 실행\n",
    "driver = webdriver.Chrome(path)\n",
    "\n",
    "## 웹드라이버에 주소창에 네이버에 요청\n",
    "driver.get('https://www.naver.com')"
   ]
  },
  {
   "cell_type": "code",
   "execution_count": 16,
   "metadata": {},
   "outputs": [],
   "source": [
    "from selenium.webdriver.common.by import By\n",
    "from selenium.webdriver.common.keys import Keys"
   ]
  },
  {
   "cell_type": "code",
   "execution_count": 22,
   "metadata": {},
   "outputs": [],
   "source": [
    "element = driver.find_element(By.ID, 'query')\n",
    "element.send_keys(\"하이디라오\")"
   ]
  },
  {
   "cell_type": "code",
   "execution_count": 24,
   "metadata": {},
   "outputs": [],
   "source": [
    "element.send_keys(Keys.ENTER)"
   ]
  },
  {
   "cell_type": "code",
   "execution_count": 25,
   "metadata": {},
   "outputs": [],
   "source": [
    "from bs4 import BeautifulSoup as bs"
   ]
  },
  {
   "cell_type": "code",
   "execution_count": null,
   "metadata": {},
   "outputs": [],
   "source": [
    "driver.page_source"
   ]
  },
  {
   "cell_type": "code",
   "execution_count": 29,
   "metadata": {},
   "outputs": [],
   "source": [
    "soup = bs(driver.page_source, 'html.parser')"
   ]
  },
  {
   "cell_type": "code",
   "execution_count": null,
   "metadata": {},
   "outputs": [],
   "source": [
    "soup"
   ]
  },
  {
   "cell_type": "code",
   "execution_count": 40,
   "metadata": {},
   "outputs": [
    {
     "data": {
      "text/plain": [
       "[<div class=\"question_group\"> <a class=\"api_txt_lines question_text\" href=\"https://kin.naver.com/qna/detail.naver?d1id=8&amp;dirId=8020603&amp;docId=440718964&amp;qb=7ZWY7J2065SU65287Jik&amp;enc=utf8&amp;section=kin.ext&amp;rank=1&amp;search_sort=0&amp;spq=0\" onclick=\"return goOtherCR(this,'a=kin*k.question&amp;r=1&amp;i=10000009_00001a44d674&amp;u='+urlencode(this.href));\" target=\"_blank\"><mark>하이디라오</mark> 매실 <mark>하이디라오</mark>에서 주는 매실 이거 맞나요?</a> </div>,\n",
       " <div class=\"question_group\"> <a class=\"api_txt_lines question_text\" href=\"https://kin.naver.com/qna/detail.naver?d1id=8&amp;dirId=8020604&amp;docId=436775032&amp;qb=7ZWY7J2065SU65287Jik&amp;enc=utf8&amp;section=kin.ext&amp;rank=2&amp;search_sort=0&amp;spq=0\" onclick=\"return goOtherCR(this,'a=kin*k.question&amp;r=2&amp;i=10000009_00001a08a878&amp;u='+urlencode(this.href));\" target=\"_blank\">북앤라이프 도서문화상품권 <mark>하이디라오</mark> 쓸 수 있나요?</a> </div>,\n",
       " <div class=\"question_group\"> <a class=\"api_txt_lines question_text\" href=\"https://kin.naver.com/qna/detail.naver?d1id=12&amp;dirId=120110&amp;docId=435955731&amp;qb=7ZWY7J2065SU65287Jik&amp;enc=utf8&amp;section=kin.ext&amp;rank=3&amp;search_sort=0&amp;spq=0\" onclick=\"return goOtherCR(this,'a=kin*k.question&amp;r=3&amp;i=10000009_000019fc2813&amp;u='+urlencode(this.href));\" target=\"_blank\">홍대 <mark>하이디라오</mark> 룸 예약할 때 최소인원이나 이용제한 시간 있나요?</a> </div>]"
      ]
     },
     "execution_count": 40,
     "metadata": {},
     "output_type": "execute_result"
    }
   ],
   "source": [
    "div_list = soup.find_all('div', attrs={\n",
    "    'class' : 'question_group'\n",
    "})\n",
    "\n",
    "div_list"
   ]
  },
  {
   "cell_type": "code",
   "execution_count": 41,
   "metadata": {},
   "outputs": [
    {
     "name": "stdout",
     "output_type": "stream",
     "text": [
      "하이디라오 매실 하이디라오에서 주는 매실 이거 맞나요?\n",
      "북앤라이프 도서문화상품권 하이디라오 쓸 수 있나요?\n",
      "홍대 하이디라오 룸 예약할 때 최소인원이나 이용제한 시간 있나요?\n"
     ]
    }
   ],
   "source": [
    "for i in div_list:\n",
    "    if i.find('a'):\n",
    "        print(i.find('a').get_text())"
   ]
  },
  {
   "cell_type": "code",
   "execution_count": 43,
   "metadata": {},
   "outputs": [
    {
     "data": {
      "text/plain": [
       "['하이디라오 매실 하이디라오에서 주는 매실 이거 맞나요?',\n",
       " '북앤라이프 도서문화상품권 하이디라오 쓸 수 있나요?',\n",
       " '홍대 하이디라오 룸 예약할 때 최소인원이나 이용제한 시간 있나요?']"
      ]
     },
     "execution_count": 43,
     "metadata": {},
     "output_type": "execute_result"
    }
   ],
   "source": [
    "## a 태그만 리스트의 형태로 출력\n",
    "a_list = []\n",
    "\n",
    "for i in div_list:\n",
    "    if i.find('a'):\n",
    "        ## print(i.find('a').get_text())\n",
    "        a_list.append(i.find('a').get_text())\n",
    "\n",
    "a_list"
   ]
  },
  {
   "attachments": {},
   "cell_type": "markdown",
   "metadata": {},
   "source": [
    "### 함수 생성\n",
    "- 검색어를 매개변수로 받아와서\n",
    "- 웹드라이버에서 검색을 하고 결과를 리스트의 형태로 리턴\n",
    "- 결과는 지식인의 타이틀을 리스트화 한 결과"
   ]
  },
  {
   "cell_type": "code",
   "execution_count": 52,
   "metadata": {},
   "outputs": [],
   "source": [
    "## 1. 함수 생성\n",
    "## 2. 웹드라이버에 검색어를 입력\n",
    "## 3. 웹드라이버에서 엔터키를 입력 & \n",
    "## 4. 페이지의 소스코드를 변수에 입력 \n",
    "## 5. bs를 이용하여 html parsing\n",
    "## 6. parsing된 데이터에서 지식인 부분 출력\n",
    "## 7. a태그 안에 text들을 리스트 형태로 저장\n",
    "## 8. text_lis를 리턴"
   ]
  },
  {
   "cell_type": "code",
   "execution_count": 57,
   "metadata": {},
   "outputs": [],
   "source": [
    "import time"
   ]
  },
  {
   "cell_type": "code",
   "execution_count": 68,
   "metadata": {},
   "outputs": [],
   "source": [
    "def search_text(_search):\n",
    "    element = driver.find_element(By.ID, 'query')\n",
    "    element.send_keys(_search)\n",
    "    element.send_keys(Keys.ENTER)\n",
    "    \n",
    "    ## 딜레이 1초\n",
    "    time.sleep(1)\n",
    "\n",
    "    data = bs(driver.page_source, 'html.parser')\n",
    "    div_list = data.find_all('div', attrs={\n",
    "        'class' : 'question_group'\n",
    "    })\n",
    "\n",
    "    search_list = []\n",
    "    \n",
    "    for i in div_list:\n",
    "        if i.find('a'):\n",
    "            search_list.append(i.find('a').get_text())\n",
    "    return search_list"
   ]
  },
  {
   "cell_type": "code",
   "execution_count": 72,
   "metadata": {},
   "outputs": [
    {
     "data": {
      "text/plain": [
       "['파이썬 파싱이 뮈에요? 파싱이 뭐죠? 예시도 보여주세요 ㅜㅜ',\n",
       " '프로그램 파싱이란 게 뭘까요?',\n",
       " '파싱 리튬 배터리 수리 가능한가요 파싱 FS-970N 배터리 물리적 충격으로 접합부쪽 뚜껑이 분리됐어요 ㅠㅠ 다시 닫아서 테이프로 감아봐도 안되던데, 수리가 가능한가요? 정식 수입 업체에서는 배터리 소모품이라 수리가 어렵다고해서 사설로 가능한지 알아보고싶은데 정보가 없네요 ..']"
      ]
     },
     "execution_count": 72,
     "metadata": {},
     "output_type": "execute_result"
    }
   ],
   "source": [
    "search_text('파싱')"
   ]
  },
  {
   "cell_type": "code",
   "execution_count": 88,
   "metadata": {},
   "outputs": [],
   "source": [
    "## 클래스 형태로 웹드라이버 제어\n",
    "\n",
    "## 클레스 선언\n",
    "class Web():\n",
    "    ## 생성자 함수 생성\n",
    "    def __init__(self, _url, _input):\n",
    "        self.url = _url\n",
    "        self.input = _input\n",
    "\n",
    "    ## 검색을 하는 함수\n",
    "    def search(self, _search):\n",
    "        ## 웹드라이버를 실행\n",
    "        self.path = \"../cromedriver\"\n",
    "        self.driver = webdriver.Chrome(self.path)\n",
    "        ## url 주소로 접속\n",
    "        self.driver.get(self.url)\n",
    "        time.sleep(1)\n",
    "        ## 검색어창 지정\n",
    "        self.element = self.driver.find_element(By.ID, self.input)\n",
    "        ## 검색어를 입력\n",
    "        self.element.send_keys(_search)\n",
    "        ## 엔터키를 입력\n",
    "        self.element.send_keys(Keys.ENTER)\n",
    "        time.sleep(1)\n",
    "        self.soup = bs(self.driver.page_source, 'html.parser')\n",
    "        ## 지식인 부분의 html 태그를 저장\n",
    "        self.div_list = self.soup.find_all('div', attrs={\n",
    "            'class' : 'question_group'\n",
    "        })\n",
    "        ## div_list에서 a태그의 title text만 리스트의 형태로 출력\n",
    "        self.result = []\n",
    "        for i in self.div_list:\n",
    "            if i.find('a'):\n",
    "                self.result.append(i.find('a').get_text())\n",
    "        self.driver.close()\n",
    "        return self.result\n"
   ]
  },
  {
   "cell_type": "code",
   "execution_count": 89,
   "metadata": {},
   "outputs": [],
   "source": [
    "test = Web('https://www.naver.com', 'query')"
   ]
  },
  {
   "cell_type": "code",
   "execution_count": 90,
   "metadata": {},
   "outputs": [
    {
     "name": "stderr",
     "output_type": "stream",
     "text": [
      "C:\\Users\\intco\\AppData\\Local\\Temp\\ipykernel_48968\\951065777.py:14: DeprecationWarning: executable_path has been deprecated, please pass in a Service object\n",
      "  self.driver = webdriver.Chrome(self.path)\n"
     ]
    },
    {
     "data": {
      "text/plain": [
       "['파이썬 파싱이 뮈에요? 파싱이 뭐죠? 예시도 보여주세요 ㅜㅜ',\n",
       " '프로그램 파싱이란 게 뭘까요?',\n",
       " '파싱 리튬 배터리 수리 가능한가요 파싱 FS-970N 배터리 물리적 충격으로 접합부쪽 뚜껑이 분리됐어요 ㅠㅠ 다시 닫아서 테이프로 감아봐도 안되던데, 수리가 가능한가요? 정식 수입 업체에서는 배터리 소모품이라 수리가 어렵다고해서 사설로 가능한지 알아보고싶은데 정보가 없네요 ..']"
      ]
     },
     "execution_count": 90,
     "metadata": {},
     "output_type": "execute_result"
    }
   ],
   "source": [
    "test.search('파싱')"
   ]
  }
 ],
 "metadata": {
  "kernelspec": {
   "display_name": "Python 3",
   "language": "python",
   "name": "python3"
  },
  "language_info": {
   "codemirror_mode": {
    "name": "ipython",
    "version": 3
   },
   "file_extension": ".py",
   "mimetype": "text/x-python",
   "name": "python",
   "nbconvert_exporter": "python",
   "pygments_lexer": "ipython3",
   "version": "3.11.1"
  },
  "orig_nbformat": 4,
  "vscode": {
   "interpreter": {
    "hash": "afffc98ef2e14478aefd6c9936db4a8482b7a0abefe81264c0b83ced56e60f5e"
   }
  }
 },
 "nbformat": 4,
 "nbformat_minor": 2
}
