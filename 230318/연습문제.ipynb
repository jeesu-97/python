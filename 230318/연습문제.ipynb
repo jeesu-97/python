{
 "cells": [
  {
   "cell_type": "code",
   "execution_count": 56,
   "metadata": {},
   "outputs": [],
   "source": [
    "import pandas as pd"
   ]
  },
  {
   "attachments": {},
   "cell_type": "markdown",
   "metadata": {},
   "source": [
    "# 페르마의 정리\n",
    "   > n이 2보다 큰 자연수인 경우에 a<sup>n</sup> + b<sup>n</sup> = c<sup>n</sup> 이 되는 자연수 a, b, c 는 존재하지 않는다  \n",
    "   > n이 3이고 a, b, c가 1부터 10까지 자연수 일 때 페르마의 마지막 정리가 사실임을 증명하시오  \n",
    "- (for문을 이용하여 증명하시오)"
   ]
  },
  {
   "cell_type": "code",
   "execution_count": 57,
   "metadata": {},
   "outputs": [
    {
     "name": "stdout",
     "output_type": "stream",
     "text": [
      "프로그램 종료\n"
     ]
    }
   ],
   "source": [
    "## a가 1부터 10까지 반복\n",
    "for a in range(1, 11, 1):\n",
    "    ## b가 1부터 10까지 반복\n",
    "    for b in range(1, 11, 1):\n",
    "        ## c가 1부터 10까지 반복\n",
    "        for c in range(1, 11, 1):\n",
    "            ## 페르마의 마지막 정리 수식이 참인지\n",
    "            if a**3 + b**3 == c**3:\n",
    "                print(a, b, c)\n",
    "\n",
    "print('프로그램 종료')\n"
   ]
  },
  {
   "attachments": {},
   "cell_type": "markdown",
   "metadata": {},
   "source": [
    "# max() 함수 만들기\n",
    "1. max() 함수는 개수가 가변인 인자의 값들을 비교하여 가장 큰 수를 돌려주는 함수이다. \n",
    "2. 이 함수와 같은 행동를 하는 함수를 생성\n",
    "    - 개수가 가변인 매개변수 생성\n",
    "    - for문과 if문을 이용하여 함수를 생성"
   ]
  },
  {
   "cell_type": "code",
   "execution_count": 58,
   "metadata": {},
   "outputs": [
    {
     "name": "stdout",
     "output_type": "stream",
     "text": [
      "(1, 2, 3)\n",
      "<class 'tuple'>\n"
     ]
    },
    {
     "data": {
      "text/plain": [
       "3"
      ]
     },
     "execution_count": 58,
     "metadata": {},
     "output_type": "execute_result"
    }
   ],
   "source": [
    "## max(1, 6, 2, 8, -1)\n",
    "\n",
    "## 매개변수의 개수가 가변일 때\n",
    "def custom_max(*_list):\n",
    "    print(_list)\n",
    "    print(type(_list))\n",
    "    ## 초기값 설정\n",
    "    result = _list[0]\n",
    "    ## 반복문 실행\n",
    "    for i in _list:\n",
    "        ## 초기값과 인자의 값을 비교\n",
    "        if result < i:\n",
    "            ## 인자의 값이 더 크면 result 변수의 값은 인자값을 변경\n",
    "            result = i\n",
    "    return result\n",
    "\n",
    "custom_max(1, 2, 3)\n",
    "    "
   ]
  },
  {
   "attachments": {},
   "cell_type": "markdown",
   "metadata": {},
   "source": [
    "# 카드 이용 내역\n",
    "\n",
    "- test_csv 폴더의 유통+업종 데이터를 로드하여 문제를 푸시오\n",
    "\n",
    "1. 각 컬럼의 이름을 변경 ['기준년월', '업종', '성별', '연령대', '총이용건수', '총이용금액']\n",
    "2. 기준년월을 시계열로 변경\n",
    "3. index를 기준년월 변경\n",
    "4. 데이터를 확인하여서 굉장히 이상한 데이터가 존재 체크\n",
    "5. 성별 컬럼의 데이터 값을 1은 남자, 2는 여자 변경\n",
    "6. 남, 녀 성별을 기준으로 연도별 건당 이용 금액의 평균이 몇인지 출력 & 시각화"
   ]
  },
  {
   "cell_type": "code",
   "execution_count": 59,
   "metadata": {},
   "outputs": [],
   "source": [
    "df = pd.read_csv(\"./test_csv/유통+업종(백화점,+할인점,+슈퍼마켓,+편의점)+카드소비트렌드+데이터_1901_2109.csv\",\n",
    "                 encoding='euc-kr')"
   ]
  },
  {
   "cell_type": "code",
   "execution_count": 60,
   "metadata": {},
   "outputs": [
    {
     "data": {
      "text/html": [
       "<div>\n",
       "<style scoped>\n",
       "    .dataframe tbody tr th:only-of-type {\n",
       "        vertical-align: middle;\n",
       "    }\n",
       "\n",
       "    .dataframe tbody tr th {\n",
       "        vertical-align: top;\n",
       "    }\n",
       "\n",
       "    .dataframe thead th {\n",
       "        text-align: right;\n",
       "    }\n",
       "</style>\n",
       "<table border=\"1\" class=\"dataframe\">\n",
       "  <thead>\n",
       "    <tr style=\"text-align: right;\">\n",
       "      <th></th>\n",
       "      <th>crym</th>\n",
       "      <th>tco_btc_nm</th>\n",
       "      <th>ma_fem_dc</th>\n",
       "      <th>agegrp_dc</th>\n",
       "      <th>tco_btc_u_ct</th>\n",
       "      <th>tco_btc_u_am</th>\n",
       "    </tr>\n",
       "  </thead>\n",
       "  <tbody>\n",
       "    <tr>\n",
       "      <th>0</th>\n",
       "      <td>201901</td>\n",
       "      <td>백화점</td>\n",
       "      <td>1</td>\n",
       "      <td>1</td>\n",
       "      <td>1</td>\n",
       "      <td>7600.0</td>\n",
       "    </tr>\n",
       "  </tbody>\n",
       "</table>\n",
       "</div>"
      ],
      "text/plain": [
       "     crym tco_btc_nm  ma_fem_dc  agegrp_dc  tco_btc_u_ct  tco_btc_u_am\n",
       "0  201901        백화점          1          1             1        7600.0"
      ]
     },
     "execution_count": 60,
     "metadata": {},
     "output_type": "execute_result"
    }
   ],
   "source": [
    "df.head(1)"
   ]
  },
  {
   "cell_type": "code",
   "execution_count": 61,
   "metadata": {},
   "outputs": [
    {
     "data": {
      "text/html": [
       "<div>\n",
       "<style scoped>\n",
       "    .dataframe tbody tr th:only-of-type {\n",
       "        vertical-align: middle;\n",
       "    }\n",
       "\n",
       "    .dataframe tbody tr th {\n",
       "        vertical-align: top;\n",
       "    }\n",
       "\n",
       "    .dataframe thead th {\n",
       "        text-align: right;\n",
       "    }\n",
       "</style>\n",
       "<table border=\"1\" class=\"dataframe\">\n",
       "  <thead>\n",
       "    <tr style=\"text-align: right;\">\n",
       "      <th></th>\n",
       "      <th>기준년월</th>\n",
       "      <th>업종</th>\n",
       "      <th>성별</th>\n",
       "      <th>연령대</th>\n",
       "      <th>총이용건수</th>\n",
       "      <th>총이용금액</th>\n",
       "    </tr>\n",
       "  </thead>\n",
       "  <tbody>\n",
       "    <tr>\n",
       "      <th>0</th>\n",
       "      <td>201901</td>\n",
       "      <td>백화점</td>\n",
       "      <td>1</td>\n",
       "      <td>1</td>\n",
       "      <td>1</td>\n",
       "      <td>7600.0</td>\n",
       "    </tr>\n",
       "  </tbody>\n",
       "</table>\n",
       "</div>"
      ],
      "text/plain": [
       "     기준년월   업종  성별  연령대  총이용건수   총이용금액\n",
       "0  201901  백화점   1    1      1  7600.0"
      ]
     },
     "execution_count": 61,
     "metadata": {},
     "output_type": "execute_result"
    }
   ],
   "source": [
    "## 컬럼의 이름을 변경\n",
    "df.columns = ['기준년월', \n",
    "              '업종', \n",
    "              '성별', \n",
    "              '연령대', \n",
    "              '총이용건수', \n",
    "              '총이용금액']\n",
    "df.head(1)"
   ]
  },
  {
   "cell_type": "code",
   "execution_count": 62,
   "metadata": {},
   "outputs": [],
   "source": [
    "## 시계열로 데이터 변환\n",
    "df['기준년월'] = pd.to_datetime(df['기준년월'], format = '%Y%m')\n"
   ]
  },
  {
   "cell_type": "code",
   "execution_count": 63,
   "metadata": {},
   "outputs": [],
   "source": [
    "## 기준년월 컬럼을\n",
    "df.set_index('기준년월', inplace = True)"
   ]
  },
  {
   "cell_type": "code",
   "execution_count": 64,
   "metadata": {},
   "outputs": [
    {
     "data": {
      "text/html": [
       "<div>\n",
       "<style scoped>\n",
       "    .dataframe tbody tr th:only-of-type {\n",
       "        vertical-align: middle;\n",
       "    }\n",
       "\n",
       "    .dataframe tbody tr th {\n",
       "        vertical-align: top;\n",
       "    }\n",
       "\n",
       "    .dataframe thead th {\n",
       "        text-align: right;\n",
       "    }\n",
       "</style>\n",
       "<table border=\"1\" class=\"dataframe\">\n",
       "  <thead>\n",
       "    <tr style=\"text-align: right;\">\n",
       "      <th></th>\n",
       "      <th>업종</th>\n",
       "      <th>성별</th>\n",
       "      <th>연령대</th>\n",
       "      <th>총이용건수</th>\n",
       "      <th>총이용금액</th>\n",
       "    </tr>\n",
       "    <tr>\n",
       "      <th>기준년월</th>\n",
       "      <th></th>\n",
       "      <th></th>\n",
       "      <th></th>\n",
       "      <th></th>\n",
       "      <th></th>\n",
       "    </tr>\n",
       "  </thead>\n",
       "  <tbody>\n",
       "    <tr>\n",
       "      <th>2019-01-01</th>\n",
       "      <td>백화점</td>\n",
       "      <td>1</td>\n",
       "      <td>1</td>\n",
       "      <td>1</td>\n",
       "      <td>7600.0</td>\n",
       "    </tr>\n",
       "    <tr>\n",
       "      <th>2019-01-01</th>\n",
       "      <td>백화점</td>\n",
       "      <td>1</td>\n",
       "      <td>10</td>\n",
       "      <td>379</td>\n",
       "      <td>19458720.0</td>\n",
       "    </tr>\n",
       "  </tbody>\n",
       "</table>\n",
       "</div>"
      ],
      "text/plain": [
       "             업종  성별  연령대  총이용건수       총이용금액\n",
       "기준년월                                       \n",
       "2019-01-01  백화점   1    1      1      7600.0\n",
       "2019-01-01  백화점   1   10    379  19458720.0"
      ]
     },
     "execution_count": 64,
     "metadata": {},
     "output_type": "execute_result"
    }
   ],
   "source": [
    "df.head(2)"
   ]
  },
  {
   "cell_type": "code",
   "execution_count": 65,
   "metadata": {},
   "outputs": [
    {
     "data": {
      "text/html": [
       "<div>\n",
       "<style scoped>\n",
       "    .dataframe tbody tr th:only-of-type {\n",
       "        vertical-align: middle;\n",
       "    }\n",
       "\n",
       "    .dataframe tbody tr th {\n",
       "        vertical-align: top;\n",
       "    }\n",
       "\n",
       "    .dataframe thead th {\n",
       "        text-align: right;\n",
       "    }\n",
       "</style>\n",
       "<table border=\"1\" class=\"dataframe\">\n",
       "  <thead>\n",
       "    <tr style=\"text-align: right;\">\n",
       "      <th></th>\n",
       "      <th>총이용건수</th>\n",
       "      <th>총이용금액</th>\n",
       "    </tr>\n",
       "    <tr>\n",
       "      <th>기준년월</th>\n",
       "      <th></th>\n",
       "      <th></th>\n",
       "    </tr>\n",
       "  </thead>\n",
       "  <tbody>\n",
       "    <tr>\n",
       "      <th>2019-01-01</th>\n",
       "      <td>False</td>\n",
       "      <td>False</td>\n",
       "    </tr>\n",
       "    <tr>\n",
       "      <th>2019-01-01</th>\n",
       "      <td>False</td>\n",
       "      <td>False</td>\n",
       "    </tr>\n",
       "    <tr>\n",
       "      <th>2019-01-01</th>\n",
       "      <td>False</td>\n",
       "      <td>False</td>\n",
       "    </tr>\n",
       "    <tr>\n",
       "      <th>2019-01-01</th>\n",
       "      <td>False</td>\n",
       "      <td>False</td>\n",
       "    </tr>\n",
       "    <tr>\n",
       "      <th>2019-01-01</th>\n",
       "      <td>False</td>\n",
       "      <td>False</td>\n",
       "    </tr>\n",
       "    <tr>\n",
       "      <th>...</th>\n",
       "      <td>...</td>\n",
       "      <td>...</td>\n",
       "    </tr>\n",
       "    <tr>\n",
       "      <th>2021-09-01</th>\n",
       "      <td>False</td>\n",
       "      <td>False</td>\n",
       "    </tr>\n",
       "    <tr>\n",
       "      <th>2021-09-01</th>\n",
       "      <td>False</td>\n",
       "      <td>False</td>\n",
       "    </tr>\n",
       "    <tr>\n",
       "      <th>2021-09-01</th>\n",
       "      <td>False</td>\n",
       "      <td>False</td>\n",
       "    </tr>\n",
       "    <tr>\n",
       "      <th>2021-09-01</th>\n",
       "      <td>False</td>\n",
       "      <td>False</td>\n",
       "    </tr>\n",
       "    <tr>\n",
       "      <th>2021-09-01</th>\n",
       "      <td>False</td>\n",
       "      <td>False</td>\n",
       "    </tr>\n",
       "  </tbody>\n",
       "</table>\n",
       "<p>2648 rows × 2 columns</p>\n",
       "</div>"
      ],
      "text/plain": [
       "            총이용건수  총이용금액\n",
       "기준년월                    \n",
       "2019-01-01  False  False\n",
       "2019-01-01  False  False\n",
       "2019-01-01  False  False\n",
       "2019-01-01  False  False\n",
       "2019-01-01  False  False\n",
       "...           ...    ...\n",
       "2021-09-01  False  False\n",
       "2021-09-01  False  False\n",
       "2021-09-01  False  False\n",
       "2021-09-01  False  False\n",
       "2021-09-01  False  False\n",
       "\n",
       "[2648 rows x 2 columns]"
      ]
     },
     "execution_count": 65,
     "metadata": {},
     "output_type": "execute_result"
    }
   ],
   "source": [
    "df[['총이용건수', '총이용금액']] < 0"
   ]
  },
  {
   "cell_type": "code",
   "execution_count": 66,
   "metadata": {},
   "outputs": [
    {
     "name": "stderr",
     "output_type": "stream",
     "text": [
      "C:\\Users\\intco\\AppData\\Local\\Temp\\ipykernel_57252\\3802458590.py:1: FutureWarning: In a future version of pandas all arguments of DataFrame.any and Series.any will be keyword-only.\n",
      "  (df[['총이용건수', '총이용금액']] < 0).any(0)\n"
     ]
    },
    {
     "data": {
      "text/plain": [
       "총이용건수    False\n",
       "총이용금액    False\n",
       "dtype: bool"
      ]
     },
     "execution_count": 66,
     "metadata": {},
     "output_type": "execute_result"
    }
   ],
   "source": [
    "(df[['총이용건수', '총이용금액']] < 0).any(0)"
   ]
  },
  {
   "cell_type": "code",
   "execution_count": 67,
   "metadata": {},
   "outputs": [
    {
     "data": {
      "text/plain": [
       "2    1336\n",
       "1    1312\n",
       "Name: 성별, dtype: int64"
      ]
     },
     "execution_count": 67,
     "metadata": {},
     "output_type": "execute_result"
    }
   ],
   "source": [
    "df['성별'].value_counts()"
   ]
  },
  {
   "cell_type": "code",
   "execution_count": 68,
   "metadata": {},
   "outputs": [
    {
     "data": {
      "text/plain": [
       "10    264\n",
       "20    264\n",
       "30    264\n",
       "40    264\n",
       "50    264\n",
       "60    264\n",
       "70    264\n",
       "80    264\n",
       "90    264\n",
       "0     233\n",
       "1      39\n",
       "Name: 연령대, dtype: int64"
      ]
     },
     "execution_count": 68,
     "metadata": {},
     "output_type": "execute_result"
    }
   ],
   "source": [
    "df['연령대'].value_counts()"
   ]
  },
  {
   "cell_type": "code",
   "execution_count": 72,
   "metadata": {},
   "outputs": [],
   "source": [
    "## 연령대가 0인 데이터를 제외\n",
    "df2 = df[~(df['연령대'] == 0)]"
   ]
  },
  {
   "cell_type": "code",
   "execution_count": 74,
   "metadata": {},
   "outputs": [
    {
     "name": "stderr",
     "output_type": "stream",
     "text": [
      "C:\\Users\\intco\\AppData\\Local\\Temp\\ipykernel_57252\\2470964075.py:1: SettingWithCopyWarning: \n",
      "A value is trying to be set on a copy of a slice from a DataFrame.\n",
      "Try using .loc[row_indexer,col_indexer] = value instead\n",
      "\n",
      "See the caveats in the documentation: https://pandas.pydata.org/pandas-docs/stable/user_guide/indexing.html#returning-a-view-versus-a-copy\n",
      "  df2['성별'] = df2['성별'].apply(lambda x : '남자' if x == 1 else '여자')\n"
     ]
    }
   ],
   "source": [
    "df2['성별'] = df2['성별'].apply(lambda x : '남자' if x == 1 else '여자')"
   ]
  },
  {
   "cell_type": "code",
   "execution_count": 75,
   "metadata": {},
   "outputs": [
    {
     "name": "stderr",
     "output_type": "stream",
     "text": [
      "C:\\Users\\intco\\AppData\\Local\\Temp\\ipykernel_57252\\4102416873.py:3: SettingWithCopyWarning: \n",
      "A value is trying to be set on a copy of a slice from a DataFrame.\n",
      "Try using .loc[row_indexer,col_indexer] = value instead\n",
      "\n",
      "See the caveats in the documentation: https://pandas.pydata.org/pandas-docs/stable/user_guide/indexing.html#returning-a-view-versus-a-copy\n",
      "  df2['연도'] = df2.index.strftime(\"%Y\")\n"
     ]
    }
   ],
   "source": [
    "## 연도별 남, 녀 건당 이용 평균 금액을 출력 및 시각화\n",
    "## 연도 컬럼을 생성\n",
    "df2['연도'] = df2.index.strftime(\"%Y\")"
   ]
  },
  {
   "cell_type": "code",
   "execution_count": 78,
   "metadata": {},
   "outputs": [
    {
     "name": "stderr",
     "output_type": "stream",
     "text": [
      "C:\\Users\\intco\\AppData\\Local\\Temp\\ipykernel_57252\\1316957605.py:2: SettingWithCopyWarning: \n",
      "A value is trying to be set on a copy of a slice from a DataFrame.\n",
      "Try using .loc[row_indexer,col_indexer] = value instead\n",
      "\n",
      "See the caveats in the documentation: https://pandas.pydata.org/pandas-docs/stable/user_guide/indexing.html#returning-a-view-versus-a-copy\n",
      "  df2['건당이용금액'] = df2['총이용금액'] / df2['총이용건수']\n"
     ]
    }
   ],
   "source": [
    "## 건당 평균 금액 컬럼 생성 \n",
    "df2['건당이용금액'] = df2['총이용금액'] / df2['총이용건수']"
   ]
  },
  {
   "cell_type": "code",
   "execution_count": 81,
   "metadata": {},
   "outputs": [
    {
     "data": {
      "text/html": [
       "<div>\n",
       "<style scoped>\n",
       "    .dataframe tbody tr th:only-of-type {\n",
       "        vertical-align: middle;\n",
       "    }\n",
       "\n",
       "    .dataframe tbody tr th {\n",
       "        vertical-align: top;\n",
       "    }\n",
       "\n",
       "    .dataframe thead th {\n",
       "        text-align: right;\n",
       "    }\n",
       "</style>\n",
       "<table border=\"1\" class=\"dataframe\">\n",
       "  <thead>\n",
       "    <tr style=\"text-align: right;\">\n",
       "      <th>성별</th>\n",
       "      <th>남자</th>\n",
       "      <th>여자</th>\n",
       "    </tr>\n",
       "    <tr>\n",
       "      <th>연도</th>\n",
       "      <th></th>\n",
       "      <th></th>\n",
       "    </tr>\n",
       "  </thead>\n",
       "  <tbody>\n",
       "    <tr>\n",
       "      <th>2019</th>\n",
       "      <td>39670.894902</td>\n",
       "      <td>37936.085012</td>\n",
       "    </tr>\n",
       "    <tr>\n",
       "      <th>2020</th>\n",
       "      <td>45283.490754</td>\n",
       "      <td>42269.743826</td>\n",
       "    </tr>\n",
       "    <tr>\n",
       "      <th>2021</th>\n",
       "      <td>48623.260587</td>\n",
       "      <td>44866.351576</td>\n",
       "    </tr>\n",
       "  </tbody>\n",
       "</table>\n",
       "</div>"
      ],
      "text/plain": [
       "성별              남자            여자\n",
       "연도                              \n",
       "2019  39670.894902  37936.085012\n",
       "2020  45283.490754  42269.743826\n",
       "2021  48623.260587  44866.351576"
      ]
     },
     "execution_count": 81,
     "metadata": {},
     "output_type": "execute_result"
    }
   ],
   "source": [
    "pivot = pd.pivot_table(df2, \n",
    "                       index = '연도', \n",
    "                       columns = '성별', \n",
    "                       aggfunc = 'mean',\n",
    "                       values = '건당이용금액')\n",
    "\n",
    "pivot"
   ]
  },
  {
   "cell_type": "code",
   "execution_count": 83,
   "metadata": {},
   "outputs": [
    {
     "data": {
      "text/plain": [
       "<AxesSubplot: xlabel='연도'>"
      ]
     },
     "execution_count": 83,
     "metadata": {},
     "output_type": "execute_result"
    },
    {
     "name": "stderr",
     "output_type": "stream",
     "text": [
      "C:\\Users\\intco\\AppData\\Roaming\\Python\\Python311\\site-packages\\IPython\\core\\events.py:89: UserWarning: Glyph 50672 (\\N{HANGUL SYLLABLE YEON}) missing from current font.\n",
      "  func(*args, **kwargs)\n",
      "C:\\Users\\intco\\AppData\\Roaming\\Python\\Python311\\site-packages\\IPython\\core\\events.py:89: UserWarning: Glyph 46020 (\\N{HANGUL SYLLABLE DO}) missing from current font.\n",
      "  func(*args, **kwargs)\n",
      "C:\\Users\\intco\\AppData\\Roaming\\Python\\Python311\\site-packages\\IPython\\core\\events.py:89: UserWarning: Glyph 49457 (\\N{HANGUL SYLLABLE SEONG}) missing from current font.\n",
      "  func(*args, **kwargs)\n",
      "C:\\Users\\intco\\AppData\\Roaming\\Python\\Python311\\site-packages\\IPython\\core\\events.py:89: UserWarning: Glyph 48324 (\\N{HANGUL SYLLABLE BYEOL}) missing from current font.\n",
      "  func(*args, **kwargs)\n",
      "C:\\Users\\intco\\AppData\\Roaming\\Python\\Python311\\site-packages\\IPython\\core\\events.py:89: UserWarning: Glyph 45224 (\\N{HANGUL SYLLABLE NAM}) missing from current font.\n",
      "  func(*args, **kwargs)\n",
      "C:\\Users\\intco\\AppData\\Roaming\\Python\\Python311\\site-packages\\IPython\\core\\events.py:89: UserWarning: Glyph 51088 (\\N{HANGUL SYLLABLE JA}) missing from current font.\n",
      "  func(*args, **kwargs)\n",
      "C:\\Users\\intco\\AppData\\Roaming\\Python\\Python311\\site-packages\\IPython\\core\\events.py:89: UserWarning: Glyph 50668 (\\N{HANGUL SYLLABLE YEO}) missing from current font.\n",
      "  func(*args, **kwargs)\n",
      "C:\\Users\\intco\\AppData\\Roaming\\Python\\Python311\\site-packages\\IPython\\core\\pylabtools.py:152: UserWarning: Glyph 50672 (\\N{HANGUL SYLLABLE YEON}) missing from current font.\n",
      "  fig.canvas.print_figure(bytes_io, **kw)\n",
      "C:\\Users\\intco\\AppData\\Roaming\\Python\\Python311\\site-packages\\IPython\\core\\pylabtools.py:152: UserWarning: Glyph 46020 (\\N{HANGUL SYLLABLE DO}) missing from current font.\n",
      "  fig.canvas.print_figure(bytes_io, **kw)\n",
      "C:\\Users\\intco\\AppData\\Roaming\\Python\\Python311\\site-packages\\IPython\\core\\pylabtools.py:152: UserWarning: Glyph 49457 (\\N{HANGUL SYLLABLE SEONG}) missing from current font.\n",
      "  fig.canvas.print_figure(bytes_io, **kw)\n",
      "C:\\Users\\intco\\AppData\\Roaming\\Python\\Python311\\site-packages\\IPython\\core\\pylabtools.py:152: UserWarning: Glyph 48324 (\\N{HANGUL SYLLABLE BYEOL}) missing from current font.\n",
      "  fig.canvas.print_figure(bytes_io, **kw)\n",
      "C:\\Users\\intco\\AppData\\Roaming\\Python\\Python311\\site-packages\\IPython\\core\\pylabtools.py:152: UserWarning: Glyph 45224 (\\N{HANGUL SYLLABLE NAM}) missing from current font.\n",
      "  fig.canvas.print_figure(bytes_io, **kw)\n",
      "C:\\Users\\intco\\AppData\\Roaming\\Python\\Python311\\site-packages\\IPython\\core\\pylabtools.py:152: UserWarning: Glyph 51088 (\\N{HANGUL SYLLABLE JA}) missing from current font.\n",
      "  fig.canvas.print_figure(bytes_io, **kw)\n",
      "C:\\Users\\intco\\AppData\\Roaming\\Python\\Python311\\site-packages\\IPython\\core\\pylabtools.py:152: UserWarning: Glyph 50668 (\\N{HANGUL SYLLABLE YEO}) missing from current font.\n",
      "  fig.canvas.print_figure(bytes_io, **kw)\n"
     ]
    },
    {
     "data": {
      "image/png": "[encoded data removed]",
      "text/plain": [
       "<Figure size 640x480 with 1 Axes>"
      ]
     },
     "metadata": {},
     "output_type": "display_data"
    }
   ],
   "source": [
    "pivot.plot.bar()"
   ]
  },
  {
   "cell_type": "code",
   "execution_count": 84,
   "metadata": {},
   "outputs": [],
   "source": [
    "## 한글 깨짐 방지\n",
    "import matplotlib.pyplot as plt\n",
    "import platform\n",
    "\n",
    "if platform.system() == 'Darwin': #MAC인 경우\n",
    "    plt.rc('font', family = 'AppleGothic')\n",
    "else:\n",
    "    plt.rc('font', family = 'Malgun Gothic')"
   ]
  },
  {
   "cell_type": "code",
   "execution_count": 85,
   "metadata": {},
   "outputs": [
    {
     "data": {
      "text/plain": [
       "<AxesSubplot: xlabel='연도'>"
      ]
     },
     "execution_count": 85,
     "metadata": {},
     "output_type": "execute_result"
    },
    {
     "data": {
      "image/png": "[encoded data removed]",
      "text/plain": [
       "<Figure size 640x480 with 1 Axes>"
      ]
     },
     "metadata": {},
     "output_type": "display_data"
    }
   ],
   "source": [
    "pivot.plot.bar()"
   ]
  },
  {
   "cell_type": "code",
   "execution_count": 86,
   "metadata": {},
   "outputs": [
    {
     "data": {
      "text/html": [
       "<div>\n",
       "<style scoped>\n",
       "    .dataframe tbody tr th:only-of-type {\n",
       "        vertical-align: middle;\n",
       "    }\n",
       "\n",
       "    .dataframe tbody tr th {\n",
       "        vertical-align: top;\n",
       "    }\n",
       "\n",
       "    .dataframe thead th {\n",
       "        text-align: right;\n",
       "    }\n",
       "</style>\n",
       "<table border=\"1\" class=\"dataframe\">\n",
       "  <thead>\n",
       "    <tr style=\"text-align: right;\">\n",
       "      <th></th>\n",
       "      <th>업종</th>\n",
       "      <th>성별</th>\n",
       "      <th>연령대</th>\n",
       "      <th>총이용건수</th>\n",
       "      <th>총이용금액</th>\n",
       "    </tr>\n",
       "    <tr>\n",
       "      <th>기준년월</th>\n",
       "      <th></th>\n",
       "      <th></th>\n",
       "      <th></th>\n",
       "      <th></th>\n",
       "      <th></th>\n",
       "    </tr>\n",
       "  </thead>\n",
       "  <tbody>\n",
       "    <tr>\n",
       "      <th>2019-01-01</th>\n",
       "      <td>백화점</td>\n",
       "      <td>1</td>\n",
       "      <td>1</td>\n",
       "      <td>1</td>\n",
       "      <td>7.600000e+03</td>\n",
       "    </tr>\n",
       "    <tr>\n",
       "      <th>2019-01-01</th>\n",
       "      <td>백화점</td>\n",
       "      <td>1</td>\n",
       "      <td>10</td>\n",
       "      <td>379</td>\n",
       "      <td>1.945872e+07</td>\n",
       "    </tr>\n",
       "    <tr>\n",
       "      <th>2019-01-01</th>\n",
       "      <td>백화점</td>\n",
       "      <td>1</td>\n",
       "      <td>20</td>\n",
       "      <td>45173</td>\n",
       "      <td>4.747711e+09</td>\n",
       "    </tr>\n",
       "    <tr>\n",
       "      <th>2019-01-01</th>\n",
       "      <td>백화점</td>\n",
       "      <td>1</td>\n",
       "      <td>30</td>\n",
       "      <td>271858</td>\n",
       "      <td>2.791826e+10</td>\n",
       "    </tr>\n",
       "    <tr>\n",
       "      <th>2019-01-01</th>\n",
       "      <td>백화점</td>\n",
       "      <td>1</td>\n",
       "      <td>40</td>\n",
       "      <td>391109</td>\n",
       "      <td>3.791149e+10</td>\n",
       "    </tr>\n",
       "  </tbody>\n",
       "</table>\n",
       "</div>"
      ],
      "text/plain": [
       "             업종  성별  연령대   총이용건수         총이용금액\n",
       "기준년월                                          \n",
       "2019-01-01  백화점   1    1       1  7.600000e+03\n",
       "2019-01-01  백화점   1   10     379  1.945872e+07\n",
       "2019-01-01  백화점   1   20   45173  4.747711e+09\n",
       "2019-01-01  백화점   1   30  271858  2.791826e+10\n",
       "2019-01-01  백화점   1   40  391109  3.791149e+10"
      ]
     },
     "execution_count": 86,
     "metadata": {},
     "output_type": "execute_result"
    }
   ],
   "source": [
    "df.head()"
   ]
  },
  {
   "cell_type": "code",
   "execution_count": 89,
   "metadata": {},
   "outputs": [
    {
     "name": "stderr",
     "output_type": "stream",
     "text": [
      "C:\\Users\\intco\\AppData\\Local\\Temp\\ipykernel_57252\\3491170992.py:2: FutureWarning: The default value of numeric_only in DataFrameGroupBy.sum is deprecated. In a future version, numeric_only will default to False. Either specify numeric_only or select only columns which should be valid for the function.\n",
      "  group_df = df.groupby(df.index).sum()['총이용금액']\n"
     ]
    },
    {
     "data": {
      "text/plain": [
       "기준년월\n",
       "2019-01-01    8.717640e+11\n",
       "2019-02-01    7.755979e+11\n",
       "2019-03-01    9.027603e+11\n",
       "2019-04-01    8.850403e+11\n",
       "2019-05-01    9.427953e+11\n",
       "2019-06-01    8.651183e+11\n",
       "2019-07-01    8.757622e+11\n",
       "2019-08-01    8.504003e+11\n",
       "2019-09-01    9.243550e+11\n",
       "2019-10-01    9.305846e+11\n",
       "2019-11-01    9.497879e+11\n",
       "2019-12-01    9.788397e+11\n",
       "2020-01-01    8.988784e+11\n",
       "2020-02-01    7.081442e+11\n",
       "2020-03-01    7.232449e+11\n",
       "2020-04-01    7.884697e+11\n",
       "2020-05-01    8.671502e+11\n",
       "2020-06-01    8.476832e+11\n",
       "2020-07-01    7.958824e+11\n",
       "2020-08-01    8.421567e+11\n",
       "2020-09-01    8.638192e+11\n",
       "2020-10-01    9.075381e+11\n",
       "2020-11-01    9.155520e+11\n",
       "2020-12-01    8.032242e+11\n",
       "2021-01-01    8.091200e+11\n",
       "2021-02-01    7.698808e+11\n",
       "2021-03-01    8.747389e+11\n",
       "2021-04-01    8.403269e+11\n",
       "2021-05-01    9.169530e+11\n",
       "2021-06-01    8.168673e+11\n",
       "2021-07-01    7.840346e+11\n",
       "2021-08-01    8.560545e+11\n",
       "2021-09-01    8.163331e+11\n",
       "Name: 총이용금액, dtype: float64"
      ]
     },
     "execution_count": 89,
     "metadata": {},
     "output_type": "execute_result"
    }
   ],
   "source": [
    "## 인덱스를 기준으로 그룹화 총이용금액의 합계\n",
    "group_df = df.groupby(df.index).sum()['총이용금액']\n",
    "group_df"
   ]
  },
  {
   "attachments": {},
   "cell_type": "markdown",
   "metadata": {},
   "source": [
    "## 온라인 카드 매출과 오프라인 카드매출을 월별로 비교\n",
    "1. 오프라인 데이터 df를 월별로 그룹화 총이용금액의 합계\n",
    "    - 기준년월을 시계열데이터 변경\n",
    "    - 기준년월 인덱스로 변경\n",
    "    - 인덱스를 기준으로 그룹화 -> 총이용금액의 합계\n",
    "2. 온라인 데이터 df_online도 월별로 그룹화 총이용금액의 합계\n",
    "    - 기준년월을 시계열데이터 변경\n",
    "    - 기준년월 인덱스로 변경\n",
    "    - 인덱스를 기준으로 그룹화 -> 총이용금액의 합계\n",
    "3. 1,2번과정에서 나온 데이터를 plot 그래프를 그려서 차이를 확인\n",
    "4. 2개의 데이터프레임을 단순한 행 결합\n",
    "    - df_online에 업종 파생 변수 생성 값은 \"온라인\"\n",
    "    - df와 df_online 데이터프레임을 행 결합\n",
    "    - 월별, 업종별로 총 이용 금액을 pivot_table을 이용하여 그래프 시각화"
   ]
  },
  {
   "cell_type": "code",
   "execution_count": 92,
   "metadata": {},
   "outputs": [],
   "source": [
    "df_online = pd.read_csv('./test_csv/온라인+카드소비트렌드+데이터_1901_2109.csv',\n",
    "                        encoding='euc-kr')"
   ]
  },
  {
   "cell_type": "code",
   "execution_count": 95,
   "metadata": {},
   "outputs": [
    {
     "data": {
      "text/html": [
       "<div>\n",
       "<style scoped>\n",
       "    .dataframe tbody tr th:only-of-type {\n",
       "        vertical-align: middle;\n",
       "    }\n",
       "\n",
       "    .dataframe tbody tr th {\n",
       "        vertical-align: top;\n",
       "    }\n",
       "\n",
       "    .dataframe thead th {\n",
       "        text-align: right;\n",
       "    }\n",
       "</style>\n",
       "<table border=\"1\" class=\"dataframe\">\n",
       "  <thead>\n",
       "    <tr style=\"text-align: right;\">\n",
       "      <th></th>\n",
       "      <th>crym</th>\n",
       "      <th>ma_fem_dc</th>\n",
       "      <th>agegrp_dc</th>\n",
       "      <th>tco_btc_u_ct</th>\n",
       "      <th>tco_btc_u_am</th>\n",
       "    </tr>\n",
       "  </thead>\n",
       "  <tbody>\n",
       "    <tr>\n",
       "      <th>0</th>\n",
       "      <td>201901</td>\n",
       "      <td>1</td>\n",
       "      <td>1</td>\n",
       "      <td>1</td>\n",
       "      <td>110685</td>\n",
       "    </tr>\n",
       "  </tbody>\n",
       "</table>\n",
       "</div>"
      ],
      "text/plain": [
       "     crym  ma_fem_dc  agegrp_dc  tco_btc_u_ct  tco_btc_u_am\n",
       "0  201901          1          1             1        110685"
      ]
     },
     "execution_count": 95,
     "metadata": {},
     "output_type": "execute_result"
    }
   ],
   "source": [
    "df_online.head(1)"
   ]
  },
  {
   "cell_type": "code",
   "execution_count": 98,
   "metadata": {},
   "outputs": [
    {
     "data": {
      "text/html": [
       "<div>\n",
       "<style scoped>\n",
       "    .dataframe tbody tr th:only-of-type {\n",
       "        vertical-align: middle;\n",
       "    }\n",
       "\n",
       "    .dataframe tbody tr th {\n",
       "        vertical-align: top;\n",
       "    }\n",
       "\n",
       "    .dataframe thead th {\n",
       "        text-align: right;\n",
       "    }\n",
       "</style>\n",
       "<table border=\"1\" class=\"dataframe\">\n",
       "  <thead>\n",
       "    <tr style=\"text-align: right;\">\n",
       "      <th></th>\n",
       "      <th>기준년월</th>\n",
       "      <th>성별</th>\n",
       "      <th>연령대</th>\n",
       "      <th>총이용건수</th>\n",
       "      <th>총이용금액</th>\n",
       "    </tr>\n",
       "  </thead>\n",
       "  <tbody>\n",
       "    <tr>\n",
       "      <th>0</th>\n",
       "      <td>201901</td>\n",
       "      <td>1</td>\n",
       "      <td>1</td>\n",
       "      <td>1</td>\n",
       "      <td>110685</td>\n",
       "    </tr>\n",
       "  </tbody>\n",
       "</table>\n",
       "</div>"
      ],
      "text/plain": [
       "     기준년월  성별  연령대  총이용건수   총이용금액\n",
       "0  201901   1    1      1  110685"
      ]
     },
     "execution_count": 98,
     "metadata": {},
     "output_type": "execute_result"
    }
   ],
   "source": [
    "## 컬럼의 이름을 변경\n",
    "df_online.columns = ['기준년월', \n",
    "                     '성별', \n",
    "                     '연령대', \n",
    "                     '총이용건수', \n",
    "                     '총이용금액']\n",
    "df_online.head(1)"
   ]
  },
  {
   "cell_type": "code",
   "execution_count": 99,
   "metadata": {},
   "outputs": [],
   "source": [
    "## 시계열로 데이터 변환\n",
    "df_online['기준년월'] = pd.to_datetime(df_online['기준년월'], format = '%Y%m')\n"
   ]
  },
  {
   "cell_type": "code",
   "execution_count": 100,
   "metadata": {},
   "outputs": [],
   "source": [
    "## 기준년월 컬럼을\n",
    "df_online.set_index('기준년월', inplace = True)"
   ]
  },
  {
   "cell_type": "code",
   "execution_count": 101,
   "metadata": {},
   "outputs": [
    {
     "data": {
      "text/plain": [
       "기준년월\n",
       "2019-01-01     778281658966\n",
       "2019-02-01     669627559900\n",
       "2019-03-01     769982635445\n",
       "2019-04-01     769343707461\n",
       "2019-05-01     785876486705\n",
       "2019-06-01     736634786418\n",
       "2019-07-01     789419422650\n",
       "2019-08-01     773942892864\n",
       "2019-09-01     789228722869\n",
       "2019-10-01     845586167863\n",
       "2019-11-01     882579790957\n",
       "2019-12-01     910066757909\n",
       "2020-01-01     899703509382\n",
       "2020-02-01     912763625832\n",
       "2020-03-01     965611011227\n",
       "2020-04-01     931307970792\n",
       "2020-05-01     950802396484\n",
       "2020-06-01     995605134056\n",
       "2020-07-01    1017431624983\n",
       "2020-08-01    1009749120540\n",
       "2020-09-01    1060918790262\n",
       "2020-10-01    1031688353884\n",
       "2020-11-01    1069901508390\n",
       "2020-12-01    1161292914339\n",
       "2021-01-01    1148184458420\n",
       "2021-02-01    1061306176199\n",
       "2021-03-01    1196784931389\n",
       "2021-04-01    1185710549372\n",
       "2021-05-01    1205281302978\n",
       "2021-06-01    1193365244882\n",
       "2021-07-01    1217713253921\n",
       "2021-08-01    1254467251455\n",
       "2021-09-01    1195275255905\n",
       "Name: 총이용금액, dtype: int64"
      ]
     },
     "execution_count": 101,
     "metadata": {},
     "output_type": "execute_result"
    }
   ],
   "source": [
    "group_df_online = df_online.groupby(df_online.index).sum()['총이용금액']\n",
    "group_df_online"
   ]
  },
  {
   "cell_type": "code",
   "execution_count": 105,
   "metadata": {},
   "outputs": [
    {
     "data": {
      "image/png": "[encoded data removed]",
      "text/plain": [
       "<Figure size 1400x600 with 1 Axes>"
      ]
     },
     "metadata": {},
     "output_type": "display_data"
    }
   ],
   "source": [
    "## 두개의 그룹화 데이터를 시각화\n",
    "plt.figure(figsize = (14, 6))\n",
    "plt.grid(True, axis = 'y')\n",
    "plt.plot(group_df, label = '오프라인')\n",
    "plt.plot(group_df_online, label = '온라인')\n",
    "plt.legend()\n",
    "plt.show()"
   ]
  },
  {
   "cell_type": "code",
   "execution_count": 103,
   "metadata": {},
   "outputs": [],
   "source": [
    "## 두개의 데이터프레임 결합\n",
    "## onlone 데이터에는 업종 컬럼이 존재하지 않는다\n",
    "df_online['업종'] = '온라인'"
   ]
  },
  {
   "cell_type": "code",
   "execution_count": 104,
   "metadata": {},
   "outputs": [],
   "source": [
    "## 데이터프레임의 단순한 행 결합\n",
    "total_df = pd.concat([df, df_online], axis = 0)"
   ]
  },
  {
   "cell_type": "code",
   "execution_count": 112,
   "metadata": {},
   "outputs": [
    {
     "data": {
      "text/html": [
       "<div>\n",
       "<style scoped>\n",
       "    .dataframe tbody tr th:only-of-type {\n",
       "        vertical-align: middle;\n",
       "    }\n",
       "\n",
       "    .dataframe tbody tr th {\n",
       "        vertical-align: top;\n",
       "    }\n",
       "\n",
       "    .dataframe thead th {\n",
       "        text-align: right;\n",
       "    }\n",
       "</style>\n",
       "<table border=\"1\" class=\"dataframe\">\n",
       "  <thead>\n",
       "    <tr style=\"text-align: right;\">\n",
       "      <th>업종</th>\n",
       "      <th>백화점</th>\n",
       "      <th>슈퍼마켓</th>\n",
       "      <th>온라인</th>\n",
       "      <th>편의점</th>\n",
       "      <th>할인점</th>\n",
       "    </tr>\n",
       "    <tr>\n",
       "      <th>기준년월</th>\n",
       "      <th></th>\n",
       "      <th></th>\n",
       "      <th></th>\n",
       "      <th></th>\n",
       "      <th></th>\n",
       "    </tr>\n",
       "  </thead>\n",
       "  <tbody>\n",
       "    <tr>\n",
       "      <th>2019-01-01</th>\n",
       "      <td>455895539087.000000</td>\n",
       "      <td>173613089088.000000</td>\n",
       "      <td>778281658966.000000</td>\n",
       "      <td>44083584621.000000</td>\n",
       "      <td>198171780041.000000</td>\n",
       "    </tr>\n",
       "    <tr>\n",
       "      <th>2019-02-01</th>\n",
       "      <td>401191621441.000000</td>\n",
       "      <td>154639049561.000000</td>\n",
       "      <td>669627559900.000000</td>\n",
       "      <td>40196820908.000000</td>\n",
       "      <td>179570386603.000000</td>\n",
       "    </tr>\n",
       "    <tr>\n",
       "      <th>2019-03-01</th>\n",
       "      <td>488652119604.000000</td>\n",
       "      <td>171793017241.000000</td>\n",
       "      <td>769982635445.000000</td>\n",
       "      <td>46346861161.000000</td>\n",
       "      <td>195968338413.000000</td>\n",
       "    </tr>\n",
       "    <tr>\n",
       "      <th>2019-04-01</th>\n",
       "      <td>453672286027.000000</td>\n",
       "      <td>174178319781.000000</td>\n",
       "      <td>769343707461.000000</td>\n",
       "      <td>50935845149.000000</td>\n",
       "      <td>206253864397.000000</td>\n",
       "    </tr>\n",
       "    <tr>\n",
       "      <th>2019-05-01</th>\n",
       "      <td>489003572924.000000</td>\n",
       "      <td>184689508776.000000</td>\n",
       "      <td>785876486705.000000</td>\n",
       "      <td>55691270613.000000</td>\n",
       "      <td>213410907627.000000</td>\n",
       "    </tr>\n",
       "    <tr>\n",
       "      <th>2019-06-01</th>\n",
       "      <td>432509893802.000000</td>\n",
       "      <td>187423849425.000000</td>\n",
       "      <td>736634786418.000000</td>\n",
       "      <td>55593119763.000000</td>\n",
       "      <td>189591408279.000000</td>\n",
       "    </tr>\n",
       "    <tr>\n",
       "      <th>2019-07-01</th>\n",
       "      <td>411344032847.000000</td>\n",
       "      <td>191281681184.000000</td>\n",
       "      <td>789419422650.000000</td>\n",
       "      <td>61483146955.000000</td>\n",
       "      <td>211653341788.000000</td>\n",
       "    </tr>\n",
       "    <tr>\n",
       "      <th>2019-08-01</th>\n",
       "      <td>393982708640.000000</td>\n",
       "      <td>198311508288.000000</td>\n",
       "      <td>773942892864.000000</td>\n",
       "      <td>61406245686.000000</td>\n",
       "      <td>196699817054.000000</td>\n",
       "    </tr>\n",
       "    <tr>\n",
       "      <th>2019-09-01</th>\n",
       "      <td>455074741069.000000</td>\n",
       "      <td>190870551327.000000</td>\n",
       "      <td>789228722869.000000</td>\n",
       "      <td>60421294611.000000</td>\n",
       "      <td>217988445163.000000</td>\n",
       "    </tr>\n",
       "    <tr>\n",
       "      <th>2019-10-01</th>\n",
       "      <td>485196661135.000000</td>\n",
       "      <td>185976048647.000000</td>\n",
       "      <td>845586167863.000000</td>\n",
       "      <td>60811843586.000000</td>\n",
       "      <td>198600049490.000000</td>\n",
       "    </tr>\n",
       "    <tr>\n",
       "      <th>2019-11-01</th>\n",
       "      <td>513126500303.000000</td>\n",
       "      <td>180231334740.000000</td>\n",
       "      <td>882579790957.000000</td>\n",
       "      <td>56251646952.000000</td>\n",
       "      <td>200178439260.000000</td>\n",
       "    </tr>\n",
       "    <tr>\n",
       "      <th>2019-12-01</th>\n",
       "      <td>520498946488.000000</td>\n",
       "      <td>184778256991.000000</td>\n",
       "      <td>910066757909.000000</td>\n",
       "      <td>57473389836.000000</td>\n",
       "      <td>216089122472.000000</td>\n",
       "    </tr>\n",
       "    <tr>\n",
       "      <th>2020-01-01</th>\n",
       "      <td>427782225182.000000</td>\n",
       "      <td>200680945881.000000</td>\n",
       "      <td>899703509382.000000</td>\n",
       "      <td>56689012449.000000</td>\n",
       "      <td>213726260445.000000</td>\n",
       "    </tr>\n",
       "    <tr>\n",
       "      <th>2020-02-01</th>\n",
       "      <td>298773204111.000000</td>\n",
       "      <td>199428728285.000000</td>\n",
       "      <td>912763625832.000000</td>\n",
       "      <td>52225148774.000000</td>\n",
       "      <td>157717123099.000000</td>\n",
       "    </tr>\n",
       "    <tr>\n",
       "      <th>2020-03-01</th>\n",
       "      <td>264880579440.000000</td>\n",
       "      <td>223360090347.000000</td>\n",
       "      <td>965611011227.000000</td>\n",
       "      <td>56172164291.000000</td>\n",
       "      <td>178832103582.000000</td>\n",
       "    </tr>\n",
       "    <tr>\n",
       "      <th>2020-04-01</th>\n",
       "      <td>349265288491.000000</td>\n",
       "      <td>205894250837.000000</td>\n",
       "      <td>931307970792.000000</td>\n",
       "      <td>55097081241.000000</td>\n",
       "      <td>178213059825.000000</td>\n",
       "    </tr>\n",
       "    <tr>\n",
       "      <th>2020-05-01</th>\n",
       "      <td>435850693373.000000</td>\n",
       "      <td>181968023986.000000</td>\n",
       "      <td>950802396484.000000</td>\n",
       "      <td>57216477381.000000</td>\n",
       "      <td>192115027315.000000</td>\n",
       "    </tr>\n",
       "    <tr>\n",
       "      <th>2020-06-01</th>\n",
       "      <td>416471348288.000000</td>\n",
       "      <td>172211471224.000000</td>\n",
       "      <td>995605134056.000000</td>\n",
       "      <td>61474548813.000000</td>\n",
       "      <td>197525810946.000000</td>\n",
       "    </tr>\n",
       "    <tr>\n",
       "      <th>2020-07-01</th>\n",
       "      <td>361102079614.000000</td>\n",
       "      <td>185876064531.000000</td>\n",
       "      <td>1017431624983.000000</td>\n",
       "      <td>64142777871.000000</td>\n",
       "      <td>184761448037.000000</td>\n",
       "    </tr>\n",
       "    <tr>\n",
       "      <th>2020-08-01</th>\n",
       "      <td>365710085294.000000</td>\n",
       "      <td>208308835595.000000</td>\n",
       "      <td>1009749120540.000000</td>\n",
       "      <td>67152161892.000000</td>\n",
       "      <td>200985591888.000000</td>\n",
       "    </tr>\n",
       "    <tr>\n",
       "      <th>2020-09-01</th>\n",
       "      <td>390854908754.000000</td>\n",
       "      <td>214733667545.000000</td>\n",
       "      <td>1060918790262.000000</td>\n",
       "      <td>64233707620.000000</td>\n",
       "      <td>193996878844.000000</td>\n",
       "    </tr>\n",
       "    <tr>\n",
       "      <th>2020-10-01</th>\n",
       "      <td>473029063812.000000</td>\n",
       "      <td>180449365580.000000</td>\n",
       "      <td>1031688353884.000000</td>\n",
       "      <td>63375901852.000000</td>\n",
       "      <td>190683726663.000000</td>\n",
       "    </tr>\n",
       "    <tr>\n",
       "      <th>2020-11-01</th>\n",
       "      <td>489248058111.000000</td>\n",
       "      <td>181410761583.000000</td>\n",
       "      <td>1069901508390.000000</td>\n",
       "      <td>60574263564.000000</td>\n",
       "      <td>184318888700.000000</td>\n",
       "    </tr>\n",
       "    <tr>\n",
       "      <th>2020-12-01</th>\n",
       "      <td>355929238231.000000</td>\n",
       "      <td>201271394798.000000</td>\n",
       "      <td>1161292914339.000000</td>\n",
       "      <td>58611876511.000000</td>\n",
       "      <td>187411726642.000000</td>\n",
       "    </tr>\n",
       "    <tr>\n",
       "      <th>2021-01-01</th>\n",
       "      <td>375289787327.000000</td>\n",
       "      <td>203250858907.000000</td>\n",
       "      <td>1148184458420.000000</td>\n",
       "      <td>56659234449.000000</td>\n",
       "      <td>173920113315.000000</td>\n",
       "    </tr>\n",
       "    <tr>\n",
       "      <th>2021-02-01</th>\n",
       "      <td>372677544170.000000</td>\n",
       "      <td>173030038311.000000</td>\n",
       "      <td>1061306176199.000000</td>\n",
       "      <td>52164187302.000000</td>\n",
       "      <td>172008997709.000000</td>\n",
       "    </tr>\n",
       "    <tr>\n",
       "      <th>2021-03-01</th>\n",
       "      <td>452166791152.000000</td>\n",
       "      <td>179388448498.000000</td>\n",
       "      <td>1196784931389.000000</td>\n",
       "      <td>60999224729.000000</td>\n",
       "      <td>182184472032.000000</td>\n",
       "    </tr>\n",
       "    <tr>\n",
       "      <th>2021-04-01</th>\n",
       "      <td>427212635545.000000</td>\n",
       "      <td>180259562245.000000</td>\n",
       "      <td>1185710549372.000000</td>\n",
       "      <td>61226818605.000000</td>\n",
       "      <td>171627864592.000000</td>\n",
       "    </tr>\n",
       "    <tr>\n",
       "      <th>2021-05-01</th>\n",
       "      <td>472143647103.000000</td>\n",
       "      <td>191211786035.000000</td>\n",
       "      <td>1205281302978.000000</td>\n",
       "      <td>65684194339.000000</td>\n",
       "      <td>187913420060.000000</td>\n",
       "    </tr>\n",
       "    <tr>\n",
       "      <th>2021-06-01</th>\n",
       "      <td>395823153165.000000</td>\n",
       "      <td>184724342500.000000</td>\n",
       "      <td>1193365244882.000000</td>\n",
       "      <td>66657209797.000000</td>\n",
       "      <td>169662622443.000000</td>\n",
       "    </tr>\n",
       "    <tr>\n",
       "      <th>2021-07-01</th>\n",
       "      <td>357700699386.000000</td>\n",
       "      <td>188482312321.000000</td>\n",
       "      <td>1217713253921.000000</td>\n",
       "      <td>67183954525.000000</td>\n",
       "      <td>170667594780.000000</td>\n",
       "    </tr>\n",
       "    <tr>\n",
       "      <th>2021-08-01</th>\n",
       "      <td>388967756935.000000</td>\n",
       "      <td>206468450346.000000</td>\n",
       "      <td>1254467251455.000000</td>\n",
       "      <td>72188734225.000000</td>\n",
       "      <td>188429570418.000000</td>\n",
       "    </tr>\n",
       "    <tr>\n",
       "      <th>2021-09-01</th>\n",
       "      <td>422081236462.000000</td>\n",
       "      <td>181809468875.000000</td>\n",
       "      <td>1195275255905.000000</td>\n",
       "      <td>61362822910.000000</td>\n",
       "      <td>151079584433.000000</td>\n",
       "    </tr>\n",
       "  </tbody>\n",
       "</table>\n",
       "</div>"
      ],
      "text/plain": [
       "업종                         백화점                슈퍼마켓                  온라인  \\\n",
       "기준년월                                                                      \n",
       "2019-01-01 455895539087.000000 173613089088.000000  778281658966.000000   \n",
       "2019-02-01 401191621441.000000 154639049561.000000  669627559900.000000   \n",
       "2019-03-01 488652119604.000000 171793017241.000000  769982635445.000000   \n",
       "2019-04-01 453672286027.000000 174178319781.000000  769343707461.000000   \n",
       "2019-05-01 489003572924.000000 184689508776.000000  785876486705.000000   \n",
       "2019-06-01 432509893802.000000 187423849425.000000  736634786418.000000   \n",
       "2019-07-01 411344032847.000000 191281681184.000000  789419422650.000000   \n",
       "2019-08-01 393982708640.000000 198311508288.000000  773942892864.000000   \n",
       "2019-09-01 455074741069.000000 190870551327.000000  789228722869.000000   \n",
       "2019-10-01 485196661135.000000 185976048647.000000  845586167863.000000   \n",
       "2019-11-01 513126500303.000000 180231334740.000000  882579790957.000000   \n",
       "2019-12-01 520498946488.000000 184778256991.000000  910066757909.000000   \n",
       "2020-01-01 427782225182.000000 200680945881.000000  899703509382.000000   \n",
       "2020-02-01 298773204111.000000 199428728285.000000  912763625832.000000   \n",
       "2020-03-01 264880579440.000000 223360090347.000000  965611011227.000000   \n",
       "2020-04-01 349265288491.000000 205894250837.000000  931307970792.000000   \n",
       "2020-05-01 435850693373.000000 181968023986.000000  950802396484.000000   \n",
       "2020-06-01 416471348288.000000 172211471224.000000  995605134056.000000   \n",
       "2020-07-01 361102079614.000000 185876064531.000000 1017431624983.000000   \n",
       "2020-08-01 365710085294.000000 208308835595.000000 1009749120540.000000   \n",
       "2020-09-01 390854908754.000000 214733667545.000000 1060918790262.000000   \n",
       "2020-10-01 473029063812.000000 180449365580.000000 1031688353884.000000   \n",
       "2020-11-01 489248058111.000000 181410761583.000000 1069901508390.000000   \n",
       "2020-12-01 355929238231.000000 201271394798.000000 1161292914339.000000   \n",
       "2021-01-01 375289787327.000000 203250858907.000000 1148184458420.000000   \n",
       "2021-02-01 372677544170.000000 173030038311.000000 1061306176199.000000   \n",
       "2021-03-01 452166791152.000000 179388448498.000000 1196784931389.000000   \n",
       "2021-04-01 427212635545.000000 180259562245.000000 1185710549372.000000   \n",
       "2021-05-01 472143647103.000000 191211786035.000000 1205281302978.000000   \n",
       "2021-06-01 395823153165.000000 184724342500.000000 1193365244882.000000   \n",
       "2021-07-01 357700699386.000000 188482312321.000000 1217713253921.000000   \n",
       "2021-08-01 388967756935.000000 206468450346.000000 1254467251455.000000   \n",
       "2021-09-01 422081236462.000000 181809468875.000000 1195275255905.000000   \n",
       "\n",
       "업종                        편의점                 할인점  \n",
       "기준년월                                               \n",
       "2019-01-01 44083584621.000000 198171780041.000000  \n",
       "2019-02-01 40196820908.000000 179570386603.000000  \n",
       "2019-03-01 46346861161.000000 195968338413.000000  \n",
       "2019-04-01 50935845149.000000 206253864397.000000  \n",
       "2019-05-01 55691270613.000000 213410907627.000000  \n",
       "2019-06-01 55593119763.000000 189591408279.000000  \n",
       "2019-07-01 61483146955.000000 211653341788.000000  \n",
       "2019-08-01 61406245686.000000 196699817054.000000  \n",
       "2019-09-01 60421294611.000000 217988445163.000000  \n",
       "2019-10-01 60811843586.000000 198600049490.000000  \n",
       "2019-11-01 56251646952.000000 200178439260.000000  \n",
       "2019-12-01 57473389836.000000 216089122472.000000  \n",
       "2020-01-01 56689012449.000000 213726260445.000000  \n",
       "2020-02-01 52225148774.000000 157717123099.000000  \n",
       "2020-03-01 56172164291.000000 178832103582.000000  \n",
       "2020-04-01 55097081241.000000 178213059825.000000  \n",
       "2020-05-01 57216477381.000000 192115027315.000000  \n",
       "2020-06-01 61474548813.000000 197525810946.000000  \n",
       "2020-07-01 64142777871.000000 184761448037.000000  \n",
       "2020-08-01 67152161892.000000 200985591888.000000  \n",
       "2020-09-01 64233707620.000000 193996878844.000000  \n",
       "2020-10-01 63375901852.000000 190683726663.000000  \n",
       "2020-11-01 60574263564.000000 184318888700.000000  \n",
       "2020-12-01 58611876511.000000 187411726642.000000  \n",
       "2021-01-01 56659234449.000000 173920113315.000000  \n",
       "2021-02-01 52164187302.000000 172008997709.000000  \n",
       "2021-03-01 60999224729.000000 182184472032.000000  \n",
       "2021-04-01 61226818605.000000 171627864592.000000  \n",
       "2021-05-01 65684194339.000000 187913420060.000000  \n",
       "2021-06-01 66657209797.000000 169662622443.000000  \n",
       "2021-07-01 67183954525.000000 170667594780.000000  \n",
       "2021-08-01 72188734225.000000 188429570418.000000  \n",
       "2021-09-01 61362822910.000000 151079584433.000000  "
      ]
     },
     "execution_count": 112,
     "metadata": {},
     "output_type": "execute_result"
    }
   ],
   "source": [
    "pivot_table = pd.pivot_table(total_df,\n",
    "                             index = total_df.index,\n",
    "                             columns = '업종',\n",
    "                             aggfunc = 'sum',\n",
    "                             values = '총이용금액')\n",
    "\n",
    "pivot_table"
   ]
  },
  {
   "cell_type": "code",
   "execution_count": null,
   "metadata": {},
   "outputs": [
    {
     "data": {
      "text/plain": [
       "<AxesSubplot: xlabel='기준년월'>"
      ]
     },
     "metadata": {},
     "output_type": "display_data"
    },
    {
     "data": {
      "image/png": "[encoded data removed]",
      "text/plain": [
       "<Figure size 640x480 with 1 Axes>"
      ]
     },
     "metadata": {},
     "output_type": "display_data"
    }
   ],
   "source": [
    "pivot_table.plot()"
   ]
  },
  {
   "cell_type": "code",
   "execution_count": 111,
   "metadata": {},
   "outputs": [],
   "source": [
    "## 지수 표현 없이 출력 세팅\n",
    "pd.options.display.float_format = '{:2f}'.format"
   ]
  }
 ],
 "metadata": {
  "kernelspec": {
   "display_name": "Python 3",
   "language": "python",
   "name": "python3"
  },
  "language_info": {
   "codemirror_mode": {
    "name": "ipython",
    "version": 3
   },
   "file_extension": ".py",
   "mimetype": "text/x-python",
   "name": "python",
   "nbconvert_exporter": "python",
   "pygments_lexer": "ipython3",
   "version": "3.11.1"
  },
  "orig_nbformat": 4,
  "vscode": {
   "interpreter": {
    "hash": "afffc98ef2e14478aefd6c9936db4a8482b7a0abefe81264c0b83ced56e60f5e"
   }
  }
 },
 "nbformat": 4,
 "nbformat_minor": 2
}
