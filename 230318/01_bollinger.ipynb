{
 "cells": [
  {
   "attachments": {},
   "cell_type": "markdown",
   "metadata": {},
   "source": [
    "### 블린저 밴드 투자전략\n",
    "\n",
    "1. 파일 로드\n",
    "2. 결측치와 이상치를 확인 및 제거\n",
    "3. 시간과 종가만의 데이터를 가지고 데이터프레임 생성\n",
    "4. 이동 평균선 : 데이터 20개의 평균을 구해서 새로운 파생변수 생성\n",
    "5. 상단 밴드 : 이동 평균선 + (2 * 데이터 20개의 표준편차)\n",
    "6. 하단 밴드 : 이동 평균선 - (2 * 데이터 20개의 표준편차)\n",
    "7. 구매 상태를 확인하는 파생변수 생성\n",
    "8. 구매 상태를 입력\n",
    "9. 수익률 계산"
   ]
  },
  {
   "cell_type": "code",
   "execution_count": 190,
   "metadata": {},
   "outputs": [],
   "source": [
    "import pandas as pd\n",
    "import numpy as np\n",
    "import matplotlib.pyplot as plt"
   ]
  },
  {
   "attachments": {},
   "cell_type": "markdown",
   "metadata": {},
   "source": [
    "##### 파일 로드"
   ]
  },
  {
   "cell_type": "code",
   "execution_count": 191,
   "metadata": {},
   "outputs": [
    {
     "data": {
      "text/html": [
       "<div>\n",
       "<style scoped>\n",
       "    .dataframe tbody tr th:only-of-type {\n",
       "        vertical-align: middle;\n",
       "    }\n",
       "\n",
       "    .dataframe tbody tr th {\n",
       "        vertical-align: top;\n",
       "    }\n",
       "\n",
       "    .dataframe thead th {\n",
       "        text-align: right;\n",
       "    }\n",
       "</style>\n",
       "<table border=\"1\" class=\"dataframe\">\n",
       "  <thead>\n",
       "    <tr style=\"text-align: right;\">\n",
       "      <th></th>\n",
       "      <th>Open</th>\n",
       "      <th>High</th>\n",
       "      <th>Low</th>\n",
       "      <th>Close</th>\n",
       "      <th>Adj Close</th>\n",
       "      <th>Volume</th>\n",
       "    </tr>\n",
       "    <tr>\n",
       "      <th>Date</th>\n",
       "      <th></th>\n",
       "      <th></th>\n",
       "      <th></th>\n",
       "      <th></th>\n",
       "      <th></th>\n",
       "      <th></th>\n",
       "    </tr>\n",
       "  </thead>\n",
       "  <tbody>\n",
       "    <tr>\n",
       "      <th>1997-05-15</th>\n",
       "      <td>2.437500</td>\n",
       "      <td>2.500000</td>\n",
       "      <td>1.927083</td>\n",
       "      <td>1.958333</td>\n",
       "      <td>1.958333</td>\n",
       "      <td>72156000</td>\n",
       "    </tr>\n",
       "    <tr>\n",
       "      <th>1997-05-16</th>\n",
       "      <td>1.968750</td>\n",
       "      <td>1.979167</td>\n",
       "      <td>1.708333</td>\n",
       "      <td>1.729167</td>\n",
       "      <td>1.729167</td>\n",
       "      <td>14700000</td>\n",
       "    </tr>\n",
       "    <tr>\n",
       "      <th>1997-05-19</th>\n",
       "      <td>1.760417</td>\n",
       "      <td>1.770833</td>\n",
       "      <td>1.625000</td>\n",
       "      <td>1.708333</td>\n",
       "      <td>1.708333</td>\n",
       "      <td>6106800</td>\n",
       "    </tr>\n",
       "    <tr>\n",
       "      <th>1997-05-20</th>\n",
       "      <td>1.729167</td>\n",
       "      <td>1.750000</td>\n",
       "      <td>1.635417</td>\n",
       "      <td>1.635417</td>\n",
       "      <td>1.635417</td>\n",
       "      <td>5467200</td>\n",
       "    </tr>\n",
       "    <tr>\n",
       "      <th>1997-05-21</th>\n",
       "      <td>1.635417</td>\n",
       "      <td>1.645833</td>\n",
       "      <td>1.375000</td>\n",
       "      <td>1.427083</td>\n",
       "      <td>1.427083</td>\n",
       "      <td>18853200</td>\n",
       "    </tr>\n",
       "  </tbody>\n",
       "</table>\n",
       "</div>"
      ],
      "text/plain": [
       "                Open      High       Low     Close  Adj Close    Volume\n",
       "Date                                                                   \n",
       "1997-05-15  2.437500  2.500000  1.927083  1.958333   1.958333  72156000\n",
       "1997-05-16  1.968750  1.979167  1.708333  1.729167   1.729167  14700000\n",
       "1997-05-19  1.760417  1.770833  1.625000  1.708333   1.708333   6106800\n",
       "1997-05-20  1.729167  1.750000  1.635417  1.635417   1.635417   5467200\n",
       "1997-05-21  1.635417  1.645833  1.375000  1.427083   1.427083  18853200"
      ]
     },
     "execution_count": 191,
     "metadata": {},
     "output_type": "execute_result"
    }
   ],
   "source": [
    "df = pd.read_csv(\"../csv/AMZN.csv\", index_col = 'Date')\n",
    "df.head()"
   ]
  },
  {
   "attachments": {},
   "cell_type": "markdown",
   "metadata": {},
   "source": [
    "##### 결측치와 이상치를 확인 및 제거"
   ]
  },
  {
   "cell_type": "code",
   "execution_count": 192,
   "metadata": {},
   "outputs": [
    {
     "data": {
      "text/html": [
       "<div>\n",
       "<style scoped>\n",
       "    .dataframe tbody tr th:only-of-type {\n",
       "        vertical-align: middle;\n",
       "    }\n",
       "\n",
       "    .dataframe tbody tr th {\n",
       "        vertical-align: top;\n",
       "    }\n",
       "\n",
       "    .dataframe thead th {\n",
       "        text-align: right;\n",
       "    }\n",
       "</style>\n",
       "<table border=\"1\" class=\"dataframe\">\n",
       "  <thead>\n",
       "    <tr style=\"text-align: right;\">\n",
       "      <th></th>\n",
       "      <th>Open</th>\n",
       "      <th>High</th>\n",
       "      <th>Low</th>\n",
       "      <th>Close</th>\n",
       "      <th>Adj Close</th>\n",
       "      <th>Volume</th>\n",
       "    </tr>\n",
       "    <tr>\n",
       "      <th>Date</th>\n",
       "      <th></th>\n",
       "      <th></th>\n",
       "      <th></th>\n",
       "      <th></th>\n",
       "      <th></th>\n",
       "      <th></th>\n",
       "    </tr>\n",
       "  </thead>\n",
       "  <tbody>\n",
       "    <tr>\n",
       "      <th>1997-05-15</th>\n",
       "      <td>False</td>\n",
       "      <td>False</td>\n",
       "      <td>False</td>\n",
       "      <td>False</td>\n",
       "      <td>False</td>\n",
       "      <td>False</td>\n",
       "    </tr>\n",
       "    <tr>\n",
       "      <th>1997-05-16</th>\n",
       "      <td>False</td>\n",
       "      <td>False</td>\n",
       "      <td>False</td>\n",
       "      <td>False</td>\n",
       "      <td>False</td>\n",
       "      <td>False</td>\n",
       "    </tr>\n",
       "    <tr>\n",
       "      <th>1997-05-19</th>\n",
       "      <td>False</td>\n",
       "      <td>False</td>\n",
       "      <td>False</td>\n",
       "      <td>False</td>\n",
       "      <td>False</td>\n",
       "      <td>False</td>\n",
       "    </tr>\n",
       "    <tr>\n",
       "      <th>1997-05-20</th>\n",
       "      <td>False</td>\n",
       "      <td>False</td>\n",
       "      <td>False</td>\n",
       "      <td>False</td>\n",
       "      <td>False</td>\n",
       "      <td>False</td>\n",
       "    </tr>\n",
       "    <tr>\n",
       "      <th>1997-05-21</th>\n",
       "      <td>False</td>\n",
       "      <td>False</td>\n",
       "      <td>False</td>\n",
       "      <td>False</td>\n",
       "      <td>False</td>\n",
       "      <td>False</td>\n",
       "    </tr>\n",
       "    <tr>\n",
       "      <th>...</th>\n",
       "      <td>...</td>\n",
       "      <td>...</td>\n",
       "      <td>...</td>\n",
       "      <td>...</td>\n",
       "      <td>...</td>\n",
       "      <td>...</td>\n",
       "    </tr>\n",
       "    <tr>\n",
       "      <th>2019-06-18</th>\n",
       "      <td>False</td>\n",
       "      <td>False</td>\n",
       "      <td>False</td>\n",
       "      <td>False</td>\n",
       "      <td>False</td>\n",
       "      <td>False</td>\n",
       "    </tr>\n",
       "    <tr>\n",
       "      <th>2019-06-19</th>\n",
       "      <td>False</td>\n",
       "      <td>False</td>\n",
       "      <td>False</td>\n",
       "      <td>False</td>\n",
       "      <td>False</td>\n",
       "      <td>False</td>\n",
       "    </tr>\n",
       "    <tr>\n",
       "      <th>2019-06-20</th>\n",
       "      <td>False</td>\n",
       "      <td>False</td>\n",
       "      <td>False</td>\n",
       "      <td>False</td>\n",
       "      <td>False</td>\n",
       "      <td>False</td>\n",
       "    </tr>\n",
       "    <tr>\n",
       "      <th>2019-06-21</th>\n",
       "      <td>False</td>\n",
       "      <td>False</td>\n",
       "      <td>False</td>\n",
       "      <td>False</td>\n",
       "      <td>False</td>\n",
       "      <td>False</td>\n",
       "    </tr>\n",
       "    <tr>\n",
       "      <th>2019-06-24</th>\n",
       "      <td>False</td>\n",
       "      <td>False</td>\n",
       "      <td>False</td>\n",
       "      <td>False</td>\n",
       "      <td>False</td>\n",
       "      <td>False</td>\n",
       "    </tr>\n",
       "  </tbody>\n",
       "</table>\n",
       "<p>5563 rows × 6 columns</p>\n",
       "</div>"
      ],
      "text/plain": [
       "             Open   High    Low  Close  Adj Close  Volume\n",
       "Date                                                     \n",
       "1997-05-15  False  False  False  False      False   False\n",
       "1997-05-16  False  False  False  False      False   False\n",
       "1997-05-19  False  False  False  False      False   False\n",
       "1997-05-20  False  False  False  False      False   False\n",
       "1997-05-21  False  False  False  False      False   False\n",
       "...           ...    ...    ...    ...        ...     ...\n",
       "2019-06-18  False  False  False  False      False   False\n",
       "2019-06-19  False  False  False  False      False   False\n",
       "2019-06-20  False  False  False  False      False   False\n",
       "2019-06-21  False  False  False  False      False   False\n",
       "2019-06-24  False  False  False  False      False   False\n",
       "\n",
       "[5563 rows x 6 columns]"
      ]
     },
     "execution_count": 192,
     "metadata": {},
     "output_type": "execute_result"
    }
   ],
   "source": [
    "df.isna()"
   ]
  },
  {
   "cell_type": "code",
   "execution_count": 193,
   "metadata": {},
   "outputs": [
    {
     "data": {
      "text/plain": [
       "Open         0\n",
       "High         0\n",
       "Low          0\n",
       "Close        0\n",
       "Adj Close    0\n",
       "Volume       0\n",
       "dtype: int64"
      ]
     },
     "execution_count": 193,
     "metadata": {},
     "output_type": "execute_result"
    }
   ],
   "source": [
    "df.isna().sum()"
   ]
  },
  {
   "cell_type": "code",
   "execution_count": 194,
   "metadata": {},
   "outputs": [
    {
     "data": {
      "text/html": [
       "<div>\n",
       "<style scoped>\n",
       "    .dataframe tbody tr th:only-of-type {\n",
       "        vertical-align: middle;\n",
       "    }\n",
       "\n",
       "    .dataframe tbody tr th {\n",
       "        vertical-align: top;\n",
       "    }\n",
       "\n",
       "    .dataframe thead th {\n",
       "        text-align: right;\n",
       "    }\n",
       "</style>\n",
       "<table border=\"1\" class=\"dataframe\">\n",
       "  <thead>\n",
       "    <tr style=\"text-align: right;\">\n",
       "      <th></th>\n",
       "      <th>Open</th>\n",
       "      <th>High</th>\n",
       "      <th>Low</th>\n",
       "      <th>Close</th>\n",
       "      <th>Adj Close</th>\n",
       "      <th>Volume</th>\n",
       "    </tr>\n",
       "    <tr>\n",
       "      <th>Date</th>\n",
       "      <th></th>\n",
       "      <th></th>\n",
       "      <th></th>\n",
       "      <th></th>\n",
       "      <th></th>\n",
       "      <th></th>\n",
       "    </tr>\n",
       "  </thead>\n",
       "  <tbody>\n",
       "    <tr>\n",
       "      <th>1997-05-15</th>\n",
       "      <td>False</td>\n",
       "      <td>False</td>\n",
       "      <td>False</td>\n",
       "      <td>False</td>\n",
       "      <td>False</td>\n",
       "      <td>False</td>\n",
       "    </tr>\n",
       "    <tr>\n",
       "      <th>1997-05-16</th>\n",
       "      <td>False</td>\n",
       "      <td>False</td>\n",
       "      <td>False</td>\n",
       "      <td>False</td>\n",
       "      <td>False</td>\n",
       "      <td>False</td>\n",
       "    </tr>\n",
       "    <tr>\n",
       "      <th>1997-05-19</th>\n",
       "      <td>False</td>\n",
       "      <td>False</td>\n",
       "      <td>False</td>\n",
       "      <td>False</td>\n",
       "      <td>False</td>\n",
       "      <td>False</td>\n",
       "    </tr>\n",
       "    <tr>\n",
       "      <th>1997-05-20</th>\n",
       "      <td>False</td>\n",
       "      <td>False</td>\n",
       "      <td>False</td>\n",
       "      <td>False</td>\n",
       "      <td>False</td>\n",
       "      <td>False</td>\n",
       "    </tr>\n",
       "    <tr>\n",
       "      <th>1997-05-21</th>\n",
       "      <td>False</td>\n",
       "      <td>False</td>\n",
       "      <td>False</td>\n",
       "      <td>False</td>\n",
       "      <td>False</td>\n",
       "      <td>False</td>\n",
       "    </tr>\n",
       "    <tr>\n",
       "      <th>...</th>\n",
       "      <td>...</td>\n",
       "      <td>...</td>\n",
       "      <td>...</td>\n",
       "      <td>...</td>\n",
       "      <td>...</td>\n",
       "      <td>...</td>\n",
       "    </tr>\n",
       "    <tr>\n",
       "      <th>2019-06-18</th>\n",
       "      <td>False</td>\n",
       "      <td>False</td>\n",
       "      <td>False</td>\n",
       "      <td>False</td>\n",
       "      <td>False</td>\n",
       "      <td>False</td>\n",
       "    </tr>\n",
       "    <tr>\n",
       "      <th>2019-06-19</th>\n",
       "      <td>False</td>\n",
       "      <td>False</td>\n",
       "      <td>False</td>\n",
       "      <td>False</td>\n",
       "      <td>False</td>\n",
       "      <td>False</td>\n",
       "    </tr>\n",
       "    <tr>\n",
       "      <th>2019-06-20</th>\n",
       "      <td>False</td>\n",
       "      <td>False</td>\n",
       "      <td>False</td>\n",
       "      <td>False</td>\n",
       "      <td>False</td>\n",
       "      <td>False</td>\n",
       "    </tr>\n",
       "    <tr>\n",
       "      <th>2019-06-21</th>\n",
       "      <td>False</td>\n",
       "      <td>False</td>\n",
       "      <td>False</td>\n",
       "      <td>False</td>\n",
       "      <td>False</td>\n",
       "      <td>False</td>\n",
       "    </tr>\n",
       "    <tr>\n",
       "      <th>2019-06-24</th>\n",
       "      <td>False</td>\n",
       "      <td>False</td>\n",
       "      <td>False</td>\n",
       "      <td>False</td>\n",
       "      <td>False</td>\n",
       "      <td>False</td>\n",
       "    </tr>\n",
       "  </tbody>\n",
       "</table>\n",
       "<p>5563 rows × 6 columns</p>\n",
       "</div>"
      ],
      "text/plain": [
       "             Open   High    Low  Close  Adj Close  Volume\n",
       "Date                                                     \n",
       "1997-05-15  False  False  False  False      False   False\n",
       "1997-05-16  False  False  False  False      False   False\n",
       "1997-05-19  False  False  False  False      False   False\n",
       "1997-05-20  False  False  False  False      False   False\n",
       "1997-05-21  False  False  False  False      False   False\n",
       "...           ...    ...    ...    ...        ...     ...\n",
       "2019-06-18  False  False  False  False      False   False\n",
       "2019-06-19  False  False  False  False      False   False\n",
       "2019-06-20  False  False  False  False      False   False\n",
       "2019-06-21  False  False  False  False      False   False\n",
       "2019-06-24  False  False  False  False      False   False\n",
       "\n",
       "[5563 rows x 6 columns]"
      ]
     },
     "execution_count": 194,
     "metadata": {},
     "output_type": "execute_result"
    }
   ],
   "source": [
    "## 결측치와 이상치를 확인\n",
    "df.isin([np.nan, np.inf, -np.inf])"
   ]
  },
  {
   "cell_type": "code",
   "execution_count": 195,
   "metadata": {},
   "outputs": [
    {
     "data": {
      "text/plain": [
       "Open         0\n",
       "High         0\n",
       "Low          0\n",
       "Close        0\n",
       "Adj Close    0\n",
       "Volume       0\n",
       "dtype: int64"
      ]
     },
     "execution_count": 195,
     "metadata": {},
     "output_type": "execute_result"
    }
   ],
   "source": [
    "df.isin([np.nan, np.inf, -np.inf]).sum()"
   ]
  },
  {
   "cell_type": "code",
   "execution_count": 196,
   "metadata": {},
   "outputs": [
    {
     "name": "stderr",
     "output_type": "stream",
     "text": [
      "C:\\Users\\intco\\AppData\\Local\\Temp\\ipykernel_44636\\871819357.py:1: FutureWarning: In a future version of pandas all arguments of DataFrame.any and Series.any will be keyword-only.\n",
      "  df.isin([np.nan, np.inf, -np.inf]).any(1)\n"
     ]
    },
    {
     "data": {
      "text/plain": [
       "Date\n",
       "1997-05-15    False\n",
       "1997-05-16    False\n",
       "1997-05-19    False\n",
       "1997-05-20    False\n",
       "1997-05-21    False\n",
       "              ...  \n",
       "2019-06-18    False\n",
       "2019-06-19    False\n",
       "2019-06-20    False\n",
       "2019-06-21    False\n",
       "2019-06-24    False\n",
       "Length: 5563, dtype: bool"
      ]
     },
     "execution_count": 196,
     "metadata": {},
     "output_type": "execute_result"
    }
   ],
   "source": [
    "df.isin([np.nan, np.inf, -np.inf]).any(1)"
   ]
  },
  {
   "cell_type": "code",
   "execution_count": 197,
   "metadata": {},
   "outputs": [
    {
     "name": "stderr",
     "output_type": "stream",
     "text": [
      "C:\\Users\\intco\\AppData\\Local\\Temp\\ipykernel_44636\\3688904342.py:1: FutureWarning: In a future version of pandas all arguments of DataFrame.any and Series.any will be keyword-only.\n",
      "  df[df.isin([np.nan, np.inf, -np.inf]).any(1)]\n"
     ]
    },
    {
     "data": {
      "text/html": [
       "<div>\n",
       "<style scoped>\n",
       "    .dataframe tbody tr th:only-of-type {\n",
       "        vertical-align: middle;\n",
       "    }\n",
       "\n",
       "    .dataframe tbody tr th {\n",
       "        vertical-align: top;\n",
       "    }\n",
       "\n",
       "    .dataframe thead th {\n",
       "        text-align: right;\n",
       "    }\n",
       "</style>\n",
       "<table border=\"1\" class=\"dataframe\">\n",
       "  <thead>\n",
       "    <tr style=\"text-align: right;\">\n",
       "      <th></th>\n",
       "      <th>Open</th>\n",
       "      <th>High</th>\n",
       "      <th>Low</th>\n",
       "      <th>Close</th>\n",
       "      <th>Adj Close</th>\n",
       "      <th>Volume</th>\n",
       "    </tr>\n",
       "    <tr>\n",
       "      <th>Date</th>\n",
       "      <th></th>\n",
       "      <th></th>\n",
       "      <th></th>\n",
       "      <th></th>\n",
       "      <th></th>\n",
       "      <th></th>\n",
       "    </tr>\n",
       "  </thead>\n",
       "  <tbody>\n",
       "  </tbody>\n",
       "</table>\n",
       "</div>"
      ],
      "text/plain": [
       "Empty DataFrame\n",
       "Columns: [Open, High, Low, Close, Adj Close, Volume]\n",
       "Index: []"
      ]
     },
     "execution_count": 197,
     "metadata": {},
     "output_type": "execute_result"
    }
   ],
   "source": [
    "df[df.isin([np.nan, np.inf, -np.inf]).any(1)]"
   ]
  },
  {
   "cell_type": "code",
   "execution_count": 198,
   "metadata": {},
   "outputs": [
    {
     "name": "stderr",
     "output_type": "stream",
     "text": [
      "C:\\Users\\intco\\AppData\\Local\\Temp\\ipykernel_44636\\482443695.py:2: FutureWarning: In a future version of pandas all arguments of DataFrame.any and Series.any will be keyword-only.\n",
      "  df = df[~df.isin([np.nan, np.inf, -np.inf]).any(1)]\n"
     ]
    }
   ],
   "source": [
    "# 결측치와 이상치를 제외한 데이터프레임을 생성\n",
    "df = df[~df.isin([np.nan, np.inf, -np.inf]).any(1)]"
   ]
  },
  {
   "attachments": {},
   "cell_type": "markdown",
   "metadata": {},
   "source": [
    "##### 시간과 종가만의 데이터를 가지고 데이터프레임 생성"
   ]
  },
  {
   "cell_type": "code",
   "execution_count": 199,
   "metadata": {},
   "outputs": [],
   "source": [
    "## case1 \n",
    "df[['Adj Close']]\n",
    "\n",
    "## case2 \n",
    "price_df = df.loc[:, ['Adj Close']]"
   ]
  },
  {
   "attachments": {},
   "cell_type": "markdown",
   "metadata": {},
   "source": [
    "##### 이동 평균선 : 데이터 20개의 평균을 구해서 새로운 파생변수 생성"
   ]
  },
  {
   "cell_type": "code",
   "execution_count": 200,
   "metadata": {},
   "outputs": [],
   "source": [
    "## 이동 평균선\n",
    "## 데이터 20개의 평균의 값\n",
    "## 현재 날짜에서 과거 20일치의 데이터의 평균\n",
    "\n",
    "price_df['center'] = price_df['Adj Close'].rolling(20).mean()"
   ]
  },
  {
   "cell_type": "code",
   "execution_count": 201,
   "metadata": {},
   "outputs": [
    {
     "data": {
      "text/html": [
       "<div>\n",
       "<style scoped>\n",
       "    .dataframe tbody tr th:only-of-type {\n",
       "        vertical-align: middle;\n",
       "    }\n",
       "\n",
       "    .dataframe tbody tr th {\n",
       "        vertical-align: top;\n",
       "    }\n",
       "\n",
       "    .dataframe thead th {\n",
       "        text-align: right;\n",
       "    }\n",
       "</style>\n",
       "<table border=\"1\" class=\"dataframe\">\n",
       "  <thead>\n",
       "    <tr style=\"text-align: right;\">\n",
       "      <th></th>\n",
       "      <th>Adj Close</th>\n",
       "      <th>center</th>\n",
       "    </tr>\n",
       "    <tr>\n",
       "      <th>Date</th>\n",
       "      <th></th>\n",
       "      <th></th>\n",
       "    </tr>\n",
       "  </thead>\n",
       "  <tbody>\n",
       "    <tr>\n",
       "      <th>1997-05-15</th>\n",
       "      <td>1.958333</td>\n",
       "      <td>NaN</td>\n",
       "    </tr>\n",
       "    <tr>\n",
       "      <th>1997-05-16</th>\n",
       "      <td>1.729167</td>\n",
       "      <td>NaN</td>\n",
       "    </tr>\n",
       "    <tr>\n",
       "      <th>1997-05-19</th>\n",
       "      <td>1.708333</td>\n",
       "      <td>NaN</td>\n",
       "    </tr>\n",
       "    <tr>\n",
       "      <th>1997-05-20</th>\n",
       "      <td>1.635417</td>\n",
       "      <td>NaN</td>\n",
       "    </tr>\n",
       "    <tr>\n",
       "      <th>1997-05-21</th>\n",
       "      <td>1.427083</td>\n",
       "      <td>NaN</td>\n",
       "    </tr>\n",
       "  </tbody>\n",
       "</table>\n",
       "</div>"
      ],
      "text/plain": [
       "            Adj Close  center\n",
       "Date                         \n",
       "1997-05-15   1.958333     NaN\n",
       "1997-05-16   1.729167     NaN\n",
       "1997-05-19   1.708333     NaN\n",
       "1997-05-20   1.635417     NaN\n",
       "1997-05-21   1.427083     NaN"
      ]
     },
     "execution_count": 201,
     "metadata": {},
     "output_type": "execute_result"
    }
   ],
   "source": [
    "price_df.head()"
   ]
  },
  {
   "cell_type": "code",
   "execution_count": 202,
   "metadata": {},
   "outputs": [
    {
     "data": {
      "text/html": [
       "<div>\n",
       "<style scoped>\n",
       "    .dataframe tbody tr th:only-of-type {\n",
       "        vertical-align: middle;\n",
       "    }\n",
       "\n",
       "    .dataframe tbody tr th {\n",
       "        vertical-align: top;\n",
       "    }\n",
       "\n",
       "    .dataframe thead th {\n",
       "        text-align: right;\n",
       "    }\n",
       "</style>\n",
       "<table border=\"1\" class=\"dataframe\">\n",
       "  <thead>\n",
       "    <tr style=\"text-align: right;\">\n",
       "      <th></th>\n",
       "      <th>Adj Close</th>\n",
       "      <th>center</th>\n",
       "    </tr>\n",
       "    <tr>\n",
       "      <th>Date</th>\n",
       "      <th></th>\n",
       "      <th></th>\n",
       "    </tr>\n",
       "  </thead>\n",
       "  <tbody>\n",
       "    <tr>\n",
       "      <th>1997-06-11</th>\n",
       "      <td>1.541667</td>\n",
       "      <td>NaN</td>\n",
       "    </tr>\n",
       "    <tr>\n",
       "      <th>1997-06-12</th>\n",
       "      <td>1.604167</td>\n",
       "      <td>1.574740</td>\n",
       "    </tr>\n",
       "    <tr>\n",
       "      <th>1997-06-13</th>\n",
       "      <td>1.583333</td>\n",
       "      <td>1.555990</td>\n",
       "    </tr>\n",
       "    <tr>\n",
       "      <th>1997-06-16</th>\n",
       "      <td>1.572917</td>\n",
       "      <td>1.548177</td>\n",
       "    </tr>\n",
       "    <tr>\n",
       "      <th>1997-06-17</th>\n",
       "      <td>1.505208</td>\n",
       "      <td>1.538021</td>\n",
       "    </tr>\n",
       "    <tr>\n",
       "      <th>1997-06-18</th>\n",
       "      <td>1.510417</td>\n",
       "      <td>1.531771</td>\n",
       "    </tr>\n",
       "    <tr>\n",
       "      <th>1997-06-19</th>\n",
       "      <td>1.510417</td>\n",
       "      <td>1.535938</td>\n",
       "    </tr>\n",
       "  </tbody>\n",
       "</table>\n",
       "</div>"
      ],
      "text/plain": [
       "            Adj Close    center\n",
       "Date                           \n",
       "1997-06-11   1.541667       NaN\n",
       "1997-06-12   1.604167  1.574740\n",
       "1997-06-13   1.583333  1.555990\n",
       "1997-06-16   1.572917  1.548177\n",
       "1997-06-17   1.505208  1.538021\n",
       "1997-06-18   1.510417  1.531771\n",
       "1997-06-19   1.510417  1.535938"
      ]
     },
     "execution_count": 202,
     "metadata": {},
     "output_type": "execute_result"
    }
   ],
   "source": [
    "price_df.iloc[18:25]"
   ]
  },
  {
   "attachments": {},
   "cell_type": "markdown",
   "metadata": {},
   "source": [
    "##### 상단 밴드 : 이동 평균선 + (2 * 데이터 20개의 표준편차)"
   ]
  },
  {
   "cell_type": "code",
   "execution_count": 203,
   "metadata": {},
   "outputs": [],
   "source": [
    "## 상단 밴드 생성\n",
    "## ub : 이동평균선 + (2 * 종가 데이터 20개의 표준편차(std()))\n",
    "price_df['ub'] = \\\n",
    "    price_df['center'] + (2 * price_df['Adj Close'].rolling(20).std())"
   ]
  },
  {
   "attachments": {},
   "cell_type": "markdown",
   "metadata": {},
   "source": [
    "##### 하단 밴드 : 이동 평균선 - (2 * 데이터 20개의 표준편차)"
   ]
  },
  {
   "cell_type": "code",
   "execution_count": 204,
   "metadata": {},
   "outputs": [],
   "source": [
    "## 하단 밴드 생성\n",
    "## db : 이동평균선 - (2 * 종가 데이터 20개의 표준편차(std()))\n",
    "price_df['lb'] = \\\n",
    "    price_df['center'] - (2 * price_df['Adj Close'].rolling(20).std())"
   ]
  },
  {
   "cell_type": "code",
   "execution_count": 205,
   "metadata": {},
   "outputs": [
    {
     "data": {
      "text/html": [
       "<div>\n",
       "<style scoped>\n",
       "    .dataframe tbody tr th:only-of-type {\n",
       "        vertical-align: middle;\n",
       "    }\n",
       "\n",
       "    .dataframe tbody tr th {\n",
       "        vertical-align: top;\n",
       "    }\n",
       "\n",
       "    .dataframe thead th {\n",
       "        text-align: right;\n",
       "    }\n",
       "</style>\n",
       "<table border=\"1\" class=\"dataframe\">\n",
       "  <thead>\n",
       "    <tr style=\"text-align: right;\">\n",
       "      <th></th>\n",
       "      <th>Adj Close</th>\n",
       "      <th>center</th>\n",
       "      <th>ub</th>\n",
       "      <th>lb</th>\n",
       "    </tr>\n",
       "    <tr>\n",
       "      <th>Date</th>\n",
       "      <th></th>\n",
       "      <th></th>\n",
       "      <th></th>\n",
       "      <th></th>\n",
       "    </tr>\n",
       "  </thead>\n",
       "  <tbody>\n",
       "    <tr>\n",
       "      <th>1997-06-11</th>\n",
       "      <td>1.541667</td>\n",
       "      <td>NaN</td>\n",
       "      <td>NaN</td>\n",
       "      <td>NaN</td>\n",
       "    </tr>\n",
       "    <tr>\n",
       "      <th>1997-06-12</th>\n",
       "      <td>1.604167</td>\n",
       "      <td>1.574740</td>\n",
       "      <td>1.836333</td>\n",
       "      <td>1.313146</td>\n",
       "    </tr>\n",
       "    <tr>\n",
       "      <th>1997-06-13</th>\n",
       "      <td>1.583333</td>\n",
       "      <td>1.555990</td>\n",
       "      <td>1.745696</td>\n",
       "      <td>1.366283</td>\n",
       "    </tr>\n",
       "    <tr>\n",
       "      <th>1997-06-16</th>\n",
       "      <td>1.572917</td>\n",
       "      <td>1.548177</td>\n",
       "      <td>1.719869</td>\n",
       "      <td>1.376485</td>\n",
       "    </tr>\n",
       "    <tr>\n",
       "      <th>1997-06-17</th>\n",
       "      <td>1.505208</td>\n",
       "      <td>1.538021</td>\n",
       "      <td>1.693045</td>\n",
       "      <td>1.382996</td>\n",
       "    </tr>\n",
       "    <tr>\n",
       "      <th>1997-06-18</th>\n",
       "      <td>1.510417</td>\n",
       "      <td>1.531771</td>\n",
       "      <td>1.680201</td>\n",
       "      <td>1.383341</td>\n",
       "    </tr>\n",
       "    <tr>\n",
       "      <th>1997-06-19</th>\n",
       "      <td>1.510417</td>\n",
       "      <td>1.535938</td>\n",
       "      <td>1.676462</td>\n",
       "      <td>1.395413</td>\n",
       "    </tr>\n",
       "  </tbody>\n",
       "</table>\n",
       "</div>"
      ],
      "text/plain": [
       "            Adj Close    center        ub        lb\n",
       "Date                                               \n",
       "1997-06-11   1.541667       NaN       NaN       NaN\n",
       "1997-06-12   1.604167  1.574740  1.836333  1.313146\n",
       "1997-06-13   1.583333  1.555990  1.745696  1.366283\n",
       "1997-06-16   1.572917  1.548177  1.719869  1.376485\n",
       "1997-06-17   1.505208  1.538021  1.693045  1.382996\n",
       "1997-06-18   1.510417  1.531771  1.680201  1.383341\n",
       "1997-06-19   1.510417  1.535938  1.676462  1.395413"
      ]
     },
     "execution_count": 205,
     "metadata": {},
     "output_type": "execute_result"
    }
   ],
   "source": [
    "price_df.iloc[18:25]"
   ]
  },
  {
   "cell_type": "code",
   "execution_count": 206,
   "metadata": {},
   "outputs": [],
   "source": [
    "## 시작시간 생성\n",
    "start_time = '2010-01-02'\n",
    "price_df2 = price_df.loc[start_time:]"
   ]
  },
  {
   "attachments": {},
   "cell_type": "markdown",
   "metadata": {},
   "source": [
    "##### 구매 상태를 확인하는 파생변수 생성"
   ]
  },
  {
   "cell_type": "code",
   "execution_count": 207,
   "metadata": {},
   "outputs": [
    {
     "name": "stderr",
     "output_type": "stream",
     "text": [
      "C:\\Users\\intco\\AppData\\Local\\Temp\\ipykernel_44636\\1791127303.py:3: SettingWithCopyWarning: \n",
      "A value is trying to be set on a copy of a slice from a DataFrame.\n",
      "Try using .loc[row_indexer,col_indexer] = value instead\n",
      "\n",
      "See the caveats in the documentation: https://pandas.pydata.org/pandas-docs/stable/user_guide/indexing.html#returning-a-view-versus-a-copy\n",
      "  price_df2['trade'] = \"\"\n"
     ]
    },
    {
     "data": {
      "text/html": [
       "<div>\n",
       "<style scoped>\n",
       "    .dataframe tbody tr th:only-of-type {\n",
       "        vertical-align: middle;\n",
       "    }\n",
       "\n",
       "    .dataframe tbody tr th {\n",
       "        vertical-align: top;\n",
       "    }\n",
       "\n",
       "    .dataframe thead th {\n",
       "        text-align: right;\n",
       "    }\n",
       "</style>\n",
       "<table border=\"1\" class=\"dataframe\">\n",
       "  <thead>\n",
       "    <tr style=\"text-align: right;\">\n",
       "      <th></th>\n",
       "      <th>Adj Close</th>\n",
       "      <th>center</th>\n",
       "      <th>ub</th>\n",
       "      <th>lb</th>\n",
       "      <th>trade</th>\n",
       "    </tr>\n",
       "    <tr>\n",
       "      <th>Date</th>\n",
       "      <th></th>\n",
       "      <th></th>\n",
       "      <th></th>\n",
       "      <th></th>\n",
       "      <th></th>\n",
       "    </tr>\n",
       "  </thead>\n",
       "  <tbody>\n",
       "    <tr>\n",
       "      <th>2010-01-04</th>\n",
       "      <td>133.899994</td>\n",
       "      <td>133.984001</td>\n",
       "      <td>141.460445</td>\n",
       "      <td>126.507556</td>\n",
       "      <td></td>\n",
       "    </tr>\n",
       "    <tr>\n",
       "      <th>2010-01-05</th>\n",
       "      <td>134.690002</td>\n",
       "      <td>133.839500</td>\n",
       "      <td>141.132776</td>\n",
       "      <td>126.546225</td>\n",
       "      <td></td>\n",
       "    </tr>\n",
       "    <tr>\n",
       "      <th>2010-01-06</th>\n",
       "      <td>132.250000</td>\n",
       "      <td>133.741500</td>\n",
       "      <td>141.066419</td>\n",
       "      <td>126.416581</td>\n",
       "      <td></td>\n",
       "    </tr>\n",
       "    <tr>\n",
       "      <th>2010-01-07</th>\n",
       "      <td>130.000000</td>\n",
       "      <td>133.536000</td>\n",
       "      <td>141.045671</td>\n",
       "      <td>126.026329</td>\n",
       "      <td></td>\n",
       "    </tr>\n",
       "    <tr>\n",
       "      <th>2010-01-08</th>\n",
       "      <td>133.520004</td>\n",
       "      <td>133.646500</td>\n",
       "      <td>141.082939</td>\n",
       "      <td>126.210062</td>\n",
       "      <td></td>\n",
       "    </tr>\n",
       "  </tbody>\n",
       "</table>\n",
       "</div>"
      ],
      "text/plain": [
       "             Adj Close      center          ub          lb trade\n",
       "Date                                                            \n",
       "2010-01-04  133.899994  133.984001  141.460445  126.507556      \n",
       "2010-01-05  134.690002  133.839500  141.132776  126.546225      \n",
       "2010-01-06  132.250000  133.741500  141.066419  126.416581      \n",
       "2010-01-07  130.000000  133.536000  141.045671  126.026329      \n",
       "2010-01-08  133.520004  133.646500  141.082939  126.210062      "
      ]
     },
     "execution_count": 207,
     "metadata": {},
     "output_type": "execute_result"
    }
   ],
   "source": [
    "## 거래 내역 파생변수 생성\n",
    "## 비어있는 값\n",
    "price_df2['trade'] = \"\"\n",
    "price_df2.head()"
   ]
  },
  {
   "attachments": {},
   "cell_type": "markdown",
   "metadata": {},
   "source": [
    "##### 구매 상태를 입력"
   ]
  },
  {
   "attachments": {},
   "cell_type": "markdown",
   "metadata": {},
   "source": [
    "##### 구매내역 추가\n",
    "\n",
    "- 조건\n",
    "    1. 상단 밴드보다 종가가 높은 경우\n",
    "        - 현재 구매 상태인 경우 (trade = \"buy\")\n",
    "            - 매도 (trade = \"\")\n",
    "        - 현재 구매 상태가 아닌 경우 (trade = \"\")\n",
    "            - 아무 행동도 하지 않는다 (trade = \"\")\n",
    "\n",
    "    2. 하단 밴드보다 종가가 낮은 경우\n",
    "        - 현재 구매 상태인 경우 (trade = \"buy\")\n",
    "                - 아무 행동도 하지 않는다 (trade = \"buy\")\n",
    "        - 현재 구매 상태가 아닌 경우 (trade = \"\")\n",
    "                - 매수 (trade = \"buy\")\n",
    "\n",
    "    3. 하단 밴드와 상단 밴드 사이에 종가가 존재하는 경우\n",
    "        - 현재 구매 상태인 경우 (trade = \"buy\")\n",
    "            - 아무 행동도 하지 않는다 (trade = \"buy\")\n",
    "        - 현재 구매 상태가 아닌 경우 (trade = \"\")\n",
    "            - 아무 행동도 하지 않는다 (trade = \"\")\n",
    "                "
   ]
  },
  {
   "cell_type": "code",
   "execution_count": 208,
   "metadata": {},
   "outputs": [
    {
     "data": {
      "text/plain": [
       "Index(['2010-01-04', '2010-01-05', '2010-01-06', '2010-01-07', '2010-01-08',\n",
       "       '2010-01-11', '2010-01-12', '2010-01-13', '2010-01-14', '2010-01-15',\n",
       "       ...\n",
       "       '2019-06-11', '2019-06-12', '2019-06-13', '2019-06-14', '2019-06-17',\n",
       "       '2019-06-18', '2019-06-19', '2019-06-20', '2019-06-21', '2019-06-24'],\n",
       "      dtype='object', name='Date', length=2384)"
      ]
     },
     "execution_count": 208,
     "metadata": {},
     "output_type": "execute_result"
    }
   ],
   "source": [
    "## price_df2의 인덱스 값을 출력\n",
    "price_df2.index"
   ]
  },
  {
   "cell_type": "code",
   "execution_count": 209,
   "metadata": {},
   "outputs": [],
   "source": [
    "## 반복문\n",
    "## for i in range(0, len(price_df2), 1):\n",
    "for i in price_df2.index:\n",
    "    ## 상단 밴드보다 종가가 높은 경우\n",
    "    if price_df2.loc[i, 'Adj Close'] > price_df2.loc[i, 'ub']:\n",
    "        ## 현재 구매 상태인 경우 (전 날의 trade = 'buy')\n",
    "        if price_df2.shift(1).loc[i, 'trade'] == 'buy':\n",
    "            ## 매도\n",
    "            price_df2.loc[i, 'trade'] = \"\"\n",
    "        else:\n",
    "            price_df2.loc[i, 'trade'] == \"\"\n",
    "    ## 하단 밴드보다 종가가 낮은 경우\n",
    "    elif price_df2.loc[i, 'Adj Close'] < price_df2.loc[i, 'lb']:\n",
    "        ## 현재 구매 상태인 경우\n",
    "        if price_df2.shift(1).loc[i, 'trade'] == 'buy':\n",
    "            ## 현 상태를 유지\n",
    "            price_df2.loc[i, 'trade'] = \"buy\"\n",
    "        else:\n",
    "            price_df2.loc[i, 'trade'] = \"buy\"\n",
    "    ## 현재 종가가 상단 밴드와 하단 밴드 사이에 존재하는 경우\n",
    "    elif price_df2.loc[i, 'Adj Close'] >= price_df2.loc[i, 'lb'] and \\\n",
    "        price_df2.loc[i, 'Adj Close'] <= price_df2.loc[i, 'ub']:\n",
    "        ## 현재 구매 상태인 경우\n",
    "        if price_df2.shift(1).loc[i, 'trade'] == 'buy':\n",
    "            ## 현 상태를 유지\n",
    "            price_df2.loc[i, 'trade'] = \"buy\"\n",
    "        else:\n",
    "            price_df2.loc[i, 'trade'] == \"\""
   ]
  },
  {
   "cell_type": "code",
   "execution_count": 210,
   "metadata": {},
   "outputs": [
    {
     "data": {
      "text/plain": [
       "       1521\n",
       "buy     863\n",
       "Name: trade, dtype: int64"
      ]
     },
     "execution_count": 210,
     "metadata": {},
     "output_type": "execute_result"
    }
   ],
   "source": [
    "price_df2['trade'].value_counts()"
   ]
  },
  {
   "cell_type": "code",
   "execution_count": 211,
   "metadata": {},
   "outputs": [
    {
     "name": "stdout",
     "output_type": "stream",
     "text": [
      "Date\n",
      "2010-01-04     133.899994\n",
      "2010-01-05     134.690002\n",
      "2010-01-06     132.250000\n",
      "2010-01-07     130.000000\n",
      "2010-01-08     133.520004\n",
      "                 ...     \n",
      "2019-06-18    1901.369995\n",
      "2019-06-19    1908.790039\n",
      "2019-06-20    1918.189941\n",
      "2019-06-21    1911.300049\n",
      "2019-06-24    1907.953857\n",
      "Name: Adj Close, Length: 2384, dtype: float64\n",
      "Date\n",
      "2010-01-04     141.460445\n",
      "2010-01-05     141.132776\n",
      "2010-01-06     141.066419\n",
      "2010-01-07     141.045671\n",
      "2010-01-08     141.082939\n",
      "                 ...     \n",
      "2019-06-18    1935.384678\n",
      "2019-06-19    1943.535145\n",
      "2019-06-20    1952.830613\n",
      "2019-06-21    1962.964470\n",
      "2019-06-24    1971.444249\n",
      "Name: ub, Length: 2384, dtype: float64\n",
      "Date\n",
      "2010-01-04     126.507556\n",
      "2010-01-05     126.546225\n",
      "2010-01-06     126.416581\n",
      "2010-01-07     126.026329\n",
      "2010-01-08     126.210062\n",
      "                 ...     \n",
      "2019-06-18    1707.528322\n",
      "2019-06-19    1704.504858\n",
      "2019-06-20    1701.060378\n",
      "2019-06-21    1700.508528\n",
      "2019-06-24    1700.496132\n",
      "Name: lb, Length: 2384, dtype: float64\n"
     ]
    },
    {
     "data": {
      "text/plain": [
       "Adj Close    None\n",
       "ub           None\n",
       "lb           None\n",
       "dtype: object"
      ]
     },
     "execution_count": 211,
     "metadata": {},
     "output_type": "execute_result"
    }
   ],
   "source": [
    "## apply를 이용하여 구매 내역 추가\n",
    "def bol(x):\n",
    "    print(x)\n",
    "price_df2[['Adj Close', 'ub', 'lb']].apply(bol)"
   ]
  },
  {
   "cell_type": "code",
   "execution_count": 212,
   "metadata": {},
   "outputs": [
    {
     "name": "stdout",
     "output_type": "stream",
     "text": [
      "133.899994\n",
      "141.46044489303628\n",
      "126.50755610696373\n"
     ]
    },
    {
     "data": {
      "text/plain": [
       "Adj Close    None\n",
       "ub           None\n",
       "lb           None\n",
       "dtype: object"
      ]
     },
     "execution_count": 212,
     "metadata": {},
     "output_type": "execute_result"
    }
   ],
   "source": [
    "def bol(x):\n",
    "    print(x[0])\n",
    "price_df2[['Adj Close', 'ub', 'lb']].apply(bol)"
   ]
  },
  {
   "cell_type": "code",
   "execution_count": 213,
   "metadata": {},
   "outputs": [
    {
     "data": {
      "text/plain": [
       "       1521\n",
       "buy     863\n",
       "dtype: int64"
      ]
     },
     "execution_count": 213,
     "metadata": {},
     "output_type": "execute_result"
    }
   ],
   "source": [
    "def bol(x):\n",
    "    close = x[0]\n",
    "    ub = x[1]\n",
    "    lb = x[2]\n",
    "    trade = price_df2.shift(1)[(price_df2['Adj Close'] == close) &\n",
    "                               (price_df2['ub'] == ub)  &\n",
    "                               (price_df2['lb'] == lb)]['trade'].values\n",
    "    if close > ub:\n",
    "        if trade == 'buy':\n",
    "            return ''\n",
    "        else:\n",
    "            return ''\n",
    "        return ''\n",
    "    elif close < lb :\n",
    "        return 'buy'\n",
    "    else:\n",
    "        if trade == 'buy':\n",
    "            return 'buy'\n",
    "        else:\n",
    "            return ''\n",
    "\n",
    "\n",
    "price_df2[['Adj Close', 'ub', 'lb']].apply(bol, axis = 1, raw = 1).value_counts()"
   ]
  },
  {
   "attachments": {},
   "cell_type": "markdown",
   "metadata": {},
   "source": [
    "##### 수익률 계산"
   ]
  },
  {
   "attachments": {},
   "cell_type": "markdown",
   "metadata": {},
   "source": [
    "- 구매한 날의 종가\n",
    "    - trade 컬럼에서 전 행의 trade가 \"\" 현재 행의 trade가 'buy'인 날의 종가 = 구매 가격\n",
    "- 판매한 날의 종가\n",
    "    - 전 행의 trade가 'buy'이고 현재 행의 trade가 ''인 날의 종가 = 판매 가격\n",
    "- 수익율 계산\n",
    "    - (판매 가격 - 구매 가격) / 구매 가격 + 1\n",
    "- 구매 가격과 판매 가격 초기화\n",
    "- 여러 개의 수익율 발생\n",
    "- 누적 수익율\n",
    "    - 수익율 누적으로 곱"
   ]
  },
  {
   "cell_type": "code",
   "execution_count": 214,
   "metadata": {},
   "outputs": [
    {
     "name": "stderr",
     "output_type": "stream",
     "text": [
      "C:\\Users\\intco\\AppData\\Local\\Temp\\ipykernel_44636\\2861907067.py:3: SettingWithCopyWarning: \n",
      "A value is trying to be set on a copy of a slice from a DataFrame.\n",
      "Try using .loc[row_indexer,col_indexer] = value instead\n",
      "\n",
      "See the caveats in the documentation: https://pandas.pydata.org/pandas-docs/stable/user_guide/indexing.html#returning-a-view-versus-a-copy\n",
      "  price_df2['return'] = 1\n"
     ]
    },
    {
     "name": "stdout",
     "output_type": "stream",
     "text": [
      "구매 일 : 2010-05-04 구매가격 : 129.830002\n",
      "판매일 : 2010-08-04 판매 가격 : 127.580002 수익율 : 0.9827\n",
      "구매 일 : 2010-11-16 구매가격 : 157.779999\n",
      "판매일 : 2010-11-24 판매 가격 : 177.25 수익율 : 1.1234\n",
      "구매 일 : 2011-01-21 구매가격 : 177.419998\n",
      "판매일 : 2011-03-30 판매 가격 : 179.419998 수익율 : 1.0113\n",
      "구매 일 : 2011-06-06 구매가격 : 185.690002\n",
      "판매일 : 2011-06-27 판매 가격 : 201.25 수익율 : 1.0838\n",
      "구매 일 : 2011-08-04 구매가격 : 201.479996\n",
      "판매일 : 2011-10-14 판매 가격 : 246.710007 수익율 : 1.2245\n",
      "구매 일 : 2011-10-26 구매가격 : 198.399994\n",
      "판매일 : 2012-01-18 판매 가격 : 189.440002 수익율 : 0.9548\n",
      "구매 일 : 2012-10-10 구매가격 : 244.990005\n",
      "판매일 : 2012-11-29 판매 가격 : 251.270004 수익율 : 1.0256\n",
      "구매 일 : 2013-04-29 구매가격 : 249.740005\n",
      "판매일 : 2013-06-07 판매 가격 : 276.869995 수익율 : 1.1086\n",
      "구매 일 : 2013-08-14 구매가격 : 291.339996\n",
      "판매일 : 2013-09-18 판매 가격 : 312.029999 수익율 : 1.071\n",
      "구매 일 : 2014-01-24 구매가격 : 387.600006\n",
      "판매일 : 2014-03-05 판매 가격 : 372.369995 수익율 : 0.9607\n",
      "구매 일 : 2014-03-24 구매가격 : 351.850006\n",
      "판매일 : 2014-06-05 판매 가격 : 323.570007 수익율 : 0.9196\n",
      "구매 일 : 2014-09-15 구매가격 : 323.890015\n",
      "판매일 : 2014-11-14 판매 가격 : 327.820007 수익율 : 1.0121\n",
      "구매 일 : 2015-01-15 구매가격 : 286.950012\n",
      "판매일 : 2015-01-30 판매 가격 : 354.529999 수익율 : 1.2355\n",
      "구매 일 : 2015-03-10 구매가격 : 369.51001\n",
      "판매일 : 2015-04-08 판매 가격 : 381.200012 수익율 : 1.0316\n",
      "구매 일 : 2015-08-20 구매가격 : 515.780029\n",
      "판매일 : 2015-10-23 판매 가격 : 599.030029 수익율 : 1.1614\n",
      "구매 일 : 2015-12-11 구매가격 : 640.150024\n",
      "판매일 : 2015-12-29 판매 가격 : 693.969971 수익율 : 1.0841\n",
      "구매 일 : 2016-01-04 구매가격 : 636.98999\n",
      "판매일 : 2016-03-29 판매 가격 : 593.859985 수익율 : 0.9323\n",
      "구매 일 : 2016-06-24 구매가격 : 698.960022\n",
      "판매일 : 2016-07-06 판매 가격 : 737.609985 수익율 : 1.0553\n",
      "구매 일 : 2016-10-28 구매가격 : 776.320007\n",
      "판매일 : 2017-01-06 판매 가격 : 795.98999 수익율 : 1.0253\n",
      "구매 일 : 2017-08-10 구매가격 : 956.919983\n",
      "판매일 : 2017-09-13 판매 가격 : 999.599976 수익율 : 1.0446\n",
      "구매 일 : 2017-09-25 구매가격 : 939.789978\n",
      "판매일 : 2017-10-27 판매 가격 : 1100.949951 수익율 : 1.1715\n",
      "구매 일 : 2018-03-28 구매가격 : 1431.420044\n",
      "판매일 : 2018-06-01 판매 가격 : 1641.540039 수익율 : 1.1468\n",
      "구매 일 : 2018-10-08 구매가격 : 1864.420044\n",
      "판매일 : 2019-03-01 판매 가격 : 1671.72998 수익율 : 0.8966\n",
      "구매 일 : 2019-05-13 구매가격 : 1822.680054\n"
     ]
    }
   ],
   "source": [
    "## 손익 계산\n",
    "rtn = 1.0\n",
    "price_df2['return'] = 1\n",
    "\n",
    "## 구매 가격과 판매 가격 변수 생성\n",
    "buy = 0.0\n",
    "sell = 0.0\n",
    "\n",
    "for i in price_df2.index:\n",
    "    ## 구매 가격 확인\n",
    "    if price_df2.shift(1).loc[i, 'trade'] == \"\" and \\\n",
    "        price_df2.loc[i, 'trade'] == \"buy\":\n",
    "        buy = price_df2.loc[i, 'Adj Close']\n",
    "        print('구매 일 :', i, '구매가격 :', buy)\n",
    "    ## 판매 가격 확인\n",
    "    elif price_df2.shift(1).loc[i, 'trade'] == \"buy\" and \\\n",
    "        price_df2.loc[i, 'trade' ] == \"\":\n",
    "        sell = price_df2.loc[i, 'Adj Close']\n",
    "        ## 수익율 계산\n",
    "        rtn = (sell - buy) / buy + 1\n",
    "        ## 수익율을 return 컬럼에 대입\n",
    "        price_df2.loc[i, 'return'] = rtn\n",
    "        print('판매일 :', i, '판매 가격 :', sell, '수익율 :', round(rtn, 4))\n",
    "\n",
    "    ## 구매가격과 판매 가격을 초기화\n",
    "    if price_df2.loc[i, 'trade'] == \"\":\n",
    "        buy = 0.0\n",
    "        sell = 0.0\n"
   ]
  },
  {
   "cell_type": "code",
   "execution_count": 215,
   "metadata": {},
   "outputs": [
    {
     "data": {
      "text/plain": [
       "Adj Close    127.580002\n",
       "center          119.719\n",
       "ub           125.445332\n",
       "lb           113.992669\n",
       "trade                  \n",
       "return          0.98267\n",
       "Name: 2010-08-04, dtype: object"
      ]
     },
     "execution_count": 215,
     "metadata": {},
     "output_type": "execute_result"
    }
   ],
   "source": [
    "price_df2.loc['2010-08-04']"
   ]
  },
  {
   "cell_type": "code",
   "execution_count": 216,
   "metadata": {},
   "outputs": [
    {
     "name": "stdout",
     "output_type": "stream",
     "text": [
      "누적 수익율 : 3.1381\n"
     ]
    },
    {
     "name": "stderr",
     "output_type": "stream",
     "text": [
      "C:\\Users\\intco\\AppData\\Local\\Temp\\ipykernel_44636\\950467886.py:10: SettingWithCopyWarning: \n",
      "A value is trying to be set on a copy of a slice from a DataFrame.\n",
      "Try using .loc[row_indexer,col_indexer] = value instead\n",
      "\n",
      "See the caveats in the documentation: https://pandas.pydata.org/pandas-docs/stable/user_guide/indexing.html#returning-a-view-versus-a-copy\n",
      "  price_df2['acc_rtn'] = acc_rtn\n"
     ]
    }
   ],
   "source": [
    "## 누적 수익율\n",
    "\n",
    "## 수익율 변수 생성\n",
    "acc_rtn = 1.0\n",
    "\n",
    "for i in price_df2.index:\n",
    "    rtn = price_df2.loc[i, 'return']\n",
    "    ## acc_rtn = acc_rtn * rtn\n",
    "    acc_rtn *= rtn\n",
    "    price_df2['acc_rtn'] = acc_rtn\n",
    "\n",
    "print('누적 수익율 :', round(acc_rtn, 4))"
   ]
  },
  {
   "cell_type": "code",
   "execution_count": 217,
   "metadata": {},
   "outputs": [],
   "source": [
    "## 데이터프레임의 첫번째 인덱스 출력\n",
    "buy = price_df2.iloc[0, 0]"
   ]
  },
  {
   "cell_type": "code",
   "execution_count": 218,
   "metadata": {},
   "outputs": [],
   "source": [
    "## 데이터프레임의 마지막 인덱스 출력\n",
    "sell = price_df2.iloc[-1, 0]"
   ]
  },
  {
   "cell_type": "code",
   "execution_count": 219,
   "metadata": {},
   "outputs": [
    {
     "data": {
      "text/plain": [
       "14.249095911087197"
      ]
     },
     "execution_count": 219,
     "metadata": {},
     "output_type": "execute_result"
    }
   ],
   "source": [
    "(sell - buy) / buy + 1"
   ]
  },
  {
   "attachments": {},
   "cell_type": "markdown",
   "metadata": {},
   "source": [
    "### 블린저 밴드를 함수화\n",
    "- 1번 함수 생성\n",
    "    - 매개변수는 데이터프레임, 기준이 되는 컬럼, 시작 시간\n",
    "    - 데이터프레임의 결측치와 이상치를 제거\n",
    "    - 기준이 되는 컬럼을 제외하고 나머지 컬럼을 삭제\n",
    "    - 이동 평균선, 상단 밴드, 하단 밴드 파생 변수 생성\n",
    "    - 시작 시간부터 마지막 시간까지의 데이터프레임을 필터링 한 뒤 데이터프레임을 리턴\n",
    "- 2번 함수 생성\n",
    "    - 매개변수 데이터프레임\n",
    "    - trade 컬럼을 생성 -> \"\"\n",
    "    - 구매내역을 trade 컬럼에 대입 후 데이터프레임 리턴\n",
    "- 3번 함수 생성\n",
    "    - 매개변수 데이터프레임\n",
    "    - return 컬럼을 생성 -> 1\n",
    "    - 손익 계산을 하여 return 컬럼에 대입\n",
    "    - 누적 수익율 acc_rtn 컬럼을 생성하고 누적 수익을 대입\n",
    "    - 누적 수입을 리턴"
   ]
  },
  {
   "attachments": {},
   "cell_type": "markdown",
   "metadata": {},
   "source": [
    "##### 1번 함수 생성"
   ]
  },
  {
   "cell_type": "code",
   "execution_count": 248,
   "metadata": {},
   "outputs": [],
   "source": [
    "## 1번 함수 생성\n",
    "def first(_df, _col, _time):\n",
    "    ## 결측치와 이상치를 제거\n",
    "    result = _df[~_df.isin([np.nan, np.inf, -np.inf]).any(1)]\n",
    "    ## 기준이 되는 컬럼을 제외한 나머지 컬럼을 삭제\n",
    "    result = result.loc[:, [_col]]\n",
    "    ## 이동 평균선, 상단 밴드, 하단 밴드 생성\n",
    "    result['center'] = result[_col].rolling(20).mean()\n",
    "    result['ub'] = result['center'] + (2 * result[_col].rolling(20).std())\n",
    "    result['lb'] = result['center'] - (2 * result[_col].rolling(20).std())\n",
    "\n",
    "    ## 시작 시간부터 마지막 데이터까지 필터링\n",
    "    result = result.loc[_time:]\n",
    "\n",
    "    ## 결과를 리턴\n",
    "    return result"
   ]
  },
  {
   "cell_type": "code",
   "execution_count": 249,
   "metadata": {},
   "outputs": [],
   "source": [
    "df = pd.read_csv(\"../csv/AAPL.csv\", index_col = 'Date')"
   ]
  },
  {
   "cell_type": "code",
   "execution_count": 250,
   "metadata": {},
   "outputs": [
    {
     "name": "stderr",
     "output_type": "stream",
     "text": [
      "C:\\Users\\intco\\AppData\\Local\\Temp\\ipykernel_44636\\1847812394.py:4: FutureWarning: In a future version of pandas all arguments of DataFrame.any and Series.any will be keyword-only.\n",
      "  result = _df[~_df.isin([np.nan, np.inf, -np.inf]).any(1)]\n"
     ]
    }
   ],
   "source": [
    "df = first(df, 'Close', '2013-01-01')"
   ]
  },
  {
   "attachments": {},
   "cell_type": "markdown",
   "metadata": {},
   "source": [
    "##### 2번 함수 생성"
   ]
  },
  {
   "cell_type": "code",
   "execution_count": 251,
   "metadata": {},
   "outputs": [],
   "source": [
    "## 2번 함수 생성\n",
    "## 거래 내역을 추가 하는 함수\n",
    "def second(_df):\n",
    "    ## trade 컬럼을 생성 -> 값은 \"\"\n",
    "    result = _df\n",
    "    result['trade'] = \"\"\n",
    "    ## 기준이 되는 컬럼의 이름은 가변\n",
    "    ## 위치는 변하지 않기 때문에\n",
    "    ## 기준이 되는 컬럼은 첫번째\n",
    "    col = result.columns[0]\n",
    "\n",
    "    ## trade 내역 추가\n",
    "    for i in result.index:\n",
    "        ## 기준이 되는 컬럼이 상단 밴드보다 큰 경우\n",
    "        if result.loc[i, col] > result.loc[i, 'ub']:\n",
    "            if result.shift(1).loc[i, 'trade'] == 'buy':\n",
    "                result.loc[i, 'trade'] = \"\"\n",
    "            else:\n",
    "                result.loc[i, 'trade'] = \"\"\n",
    "        ## 기준이 되는 컬럼이 상단 밴드보다 큰 경우\n",
    "        elif result.loc[i, col] < result.loc[i, 'lb']:\n",
    "            if result.shift(1).loc[i, 'trade'] == 'buy':\n",
    "                result.loc[i, 'trade'] = 'buy'\n",
    "            else:\n",
    "                result.loc[i, 'trade'] = 'buy'\n",
    "        ## 기준이 되는 컬럼이 하단 밴드와 상단 밴드 사이에 존재하는 경우\n",
    "        elif result.loc[i, col] >= result.loc[i, 'lb'] and \\\n",
    "            result.loc[i, col] <= result.loc[i, 'ub']:\n",
    "            if result.shift(1).loc[i, 'trade'] == 'buy':\n",
    "                result.loc[i, 'trade'] = 'buy'\n",
    "            else:\n",
    "                result.loc[i, 'trade'] = \"\"\n",
    "    return result"
   ]
  },
  {
   "cell_type": "code",
   "execution_count": 253,
   "metadata": {},
   "outputs": [
    {
     "data": {
      "text/plain": [
       "       933\n",
       "buy    697\n",
       "Name: trade, dtype: int64"
      ]
     },
     "execution_count": 253,
     "metadata": {},
     "output_type": "execute_result"
    }
   ],
   "source": [
    "second(df)['trade'].value_counts()"
   ]
  },
  {
   "cell_type": "code",
   "execution_count": 254,
   "metadata": {},
   "outputs": [],
   "source": [
    "df2 = second(df)"
   ]
  },
  {
   "attachments": {},
   "cell_type": "markdown",
   "metadata": {},
   "source": [
    "##### 3번 함수 생성"
   ]
  },
  {
   "cell_type": "code",
   "execution_count": 255,
   "metadata": {},
   "outputs": [],
   "source": [
    "## 3번 함수 생성\n",
    "def third(_df):\n",
    "    result = _df\n",
    "    ## return 컬럼을 생성 -> 값 1\n",
    "    result['return'] = 1\n",
    "    ## 기준이 되는 컬럼은 columns[0]\n",
    "    col = result.columns[0]\n",
    "    ## 수익율, 구매 가격, 판매 가격 변수 생성\n",
    "    rtn = 1.0\n",
    "    buy = 0.0\n",
    "    sell = 0.0\n",
    "\n",
    "    ## 수익을 계산하는 반복문\n",
    "    for i in result.index:\n",
    "        ## 구매 가격을 출력\n",
    "        if result.shift(1).loc[i, 'trade'] == ''and \\\n",
    "            result.loc[i, 'trade'] == 'buy':\n",
    "            buy = result.loc[i, col]\n",
    "            print('구매 일자 :', i, '구매 가격 :', buy)\n",
    "        elif result.shift(1).loc[i, 'trade'] == 'buy' and \\\n",
    "            result.loc[i, 'trade'] == '':\n",
    "            sell = result.loc[i, col]\n",
    "            rtn = (sell - buy) / buy + 1\n",
    "            result.loc[i, 'return'] = rtn\n",
    "            print('판매 일자 :', i, '판매 가격 :', sell, '수익율 :', round(rtn, 4))\n",
    "        ## buy, sell 값을 초기화\n",
    "        if result.loc[i, 'trade'] == '':\n",
    "            buy = 0.0\n",
    "            sell = 0.0\n",
    "\n",
    "    ## 누적 수익율 계산\n",
    "    acc_rtn = 1.0\n",
    "\n",
    "    for i in result.index:\n",
    "        rtn = result.loc[i, 'return']\n",
    "        acc_rtn *= rtn\n",
    "        result.loc[i, 'acc_rtn'] = acc_rtn\n",
    "\n",
    "    print(\"누적 수익율 :\", round(acc_rtn, 4))\n",
    "\n",
    "    return result"
   ]
  },
  {
   "cell_type": "code",
   "execution_count": 256,
   "metadata": {},
   "outputs": [
    {
     "name": "stdout",
     "output_type": "stream",
     "text": [
      "구매 일자 : 2013-01-15 구매 가격 : 69.417145\n",
      "판매 일자 : 2013-07-29 판매 가격 : 63.970001 수익율 : 0.9215\n",
      "구매 일자 : 2013-09-11 구매 가격 : 66.815712\n",
      "판매 일자 : 2013-10-18 판매 가격 : 72.69857 수익율 : 1.088\n",
      "구매 일자 : 2014-01-03 구매 가격 : 77.28286\n",
      "판매 일자 : 2014-03-25 판매 가격 : 77.855713 수익율 : 1.0074\n",
      "구매 일자 : 2014-10-15 구매 가격 : 97.540001\n",
      "판매 일자 : 2014-10-23 판매 가격 : 104.830002 수익율 : 1.0747\n",
      "구매 일자 : 2014-12-12 구매 가격 : 109.730003\n",
      "판매 일자 : 2015-01-28 판매 가격 : 115.309998 수익율 : 1.0509\n",
      "구매 일자 : 2015-03-11 구매 가격 : 122.239998\n",
      "판매 일자 : 2015-04-23 판매 가격 : 129.669998 수익율 : 1.0608\n",
      "구매 일자 : 2015-06-29 구매 가격 : 124.529999\n",
      "판매 일자 : 2015-07-20 판매 가격 : 132.070007 수익율 : 1.0605\n",
      "구매 일자 : 2015-08-04 구매 가격 : 114.639999\n",
      "판매 일자 : 2015-10-22 판매 가격 : 115.5 수익율 : 1.0075\n",
      "구매 일자 : 2015-12-14 구매 가격 : 112.480003\n",
      "판매 일자 : 2016-03-01 판매 가격 : 100.529999 수익율 : 0.8938\n",
      "구매 일자 : 2016-04-27 구매 가격 : 97.82\n",
      "판매 일자 : 2016-05-25 판매 가격 : 99.620003 수익율 : 1.0184\n",
      "구매 일자 : 2016-06-20 구매 가격 : 95.099998\n",
      "판매 일자 : 2016-07-18 판매 가격 : 99.830002 수익율 : 1.0497\n",
      "구매 일자 : 2016-09-09 구매 가격 : 103.129997\n",
      "판매 일자 : 2016-09-14 판매 가격 : 111.769997 수익율 : 1.0838\n",
      "구매 일자 : 2016-11-01 구매 가격 : 111.489998\n",
      "판매 일자 : 2016-12-13 판매 가격 : 115.190002 수익율 : 1.0332\n",
      "구매 일자 : 2017-06-09 구매 가격 : 148.979996\n",
      "판매 일자 : 2017-07-13 판매 가격 : 147.770004 수익율 : 0.9919\n",
      "구매 일자 : 2017-09-20 구매 가격 : 156.070007\n",
      "판매 일자 : 2017-10-16 판매 가격 : 159.880005 수익율 : 1.0244\n",
      "구매 일자 : 2018-01-29 구매 가격 : 167.960007\n",
      "판매 일자 : 2018-05-04 판매 가격 : 183.830002 수익율 : 1.0945\n",
      "구매 일자 : 2018-06-25 구매 가격 : 182.169998\n",
      "판매 일자 : 2018-08-01 판매 가격 : 201.5 수익율 : 1.1061\n",
      "구매 일자 : 2018-11-02 구매 가격 : 207.479996\n",
      "판매 일자 : 2019-01-30 판매 가격 : 165.25 수익율 : 0.7965\n",
      "구매 일자 : 2019-05-13 구매 가격 : 185.720001\n",
      "누적 수익율 : 1.3554\n"
     ]
    },
    {
     "data": {
      "text/html": [
       "<div>\n",
       "<style scoped>\n",
       "    .dataframe tbody tr th:only-of-type {\n",
       "        vertical-align: middle;\n",
       "    }\n",
       "\n",
       "    .dataframe tbody tr th {\n",
       "        vertical-align: top;\n",
       "    }\n",
       "\n",
       "    .dataframe thead th {\n",
       "        text-align: right;\n",
       "    }\n",
       "</style>\n",
       "<table border=\"1\" class=\"dataframe\">\n",
       "  <thead>\n",
       "    <tr style=\"text-align: right;\">\n",
       "      <th></th>\n",
       "      <th>Close</th>\n",
       "      <th>center</th>\n",
       "      <th>ub</th>\n",
       "      <th>lb</th>\n",
       "      <th>trade</th>\n",
       "      <th>return</th>\n",
       "      <th>acc_rtn</th>\n",
       "    </tr>\n",
       "    <tr>\n",
       "      <th>Date</th>\n",
       "      <th></th>\n",
       "      <th></th>\n",
       "      <th></th>\n",
       "      <th></th>\n",
       "      <th></th>\n",
       "      <th></th>\n",
       "      <th></th>\n",
       "    </tr>\n",
       "  </thead>\n",
       "  <tbody>\n",
       "    <tr>\n",
       "      <th>2013-01-02</th>\n",
       "      <td>78.432854</td>\n",
       "      <td>75.742428</td>\n",
       "      <td>80.299680</td>\n",
       "      <td>71.185175</td>\n",
       "      <td></td>\n",
       "      <td>1.0</td>\n",
       "      <td>1.000000</td>\n",
       "    </tr>\n",
       "    <tr>\n",
       "      <th>2013-01-03</th>\n",
       "      <td>77.442856</td>\n",
       "      <td>75.501356</td>\n",
       "      <td>78.991046</td>\n",
       "      <td>72.011667</td>\n",
       "      <td></td>\n",
       "      <td>1.0</td>\n",
       "      <td>1.000000</td>\n",
       "    </tr>\n",
       "    <tr>\n",
       "      <th>2013-01-04</th>\n",
       "      <td>75.285713</td>\n",
       "      <td>75.417142</td>\n",
       "      <td>78.838220</td>\n",
       "      <td>71.996064</td>\n",
       "      <td></td>\n",
       "      <td>1.0</td>\n",
       "      <td>1.000000</td>\n",
       "    </tr>\n",
       "    <tr>\n",
       "      <th>2013-01-07</th>\n",
       "      <td>74.842857</td>\n",
       "      <td>75.250428</td>\n",
       "      <td>78.420993</td>\n",
       "      <td>72.079863</td>\n",
       "      <td></td>\n",
       "      <td>1.0</td>\n",
       "      <td>1.000000</td>\n",
       "    </tr>\n",
       "    <tr>\n",
       "      <th>2013-01-08</th>\n",
       "      <td>75.044289</td>\n",
       "      <td>75.193714</td>\n",
       "      <td>78.334816</td>\n",
       "      <td>72.052611</td>\n",
       "      <td></td>\n",
       "      <td>1.0</td>\n",
       "      <td>1.000000</td>\n",
       "    </tr>\n",
       "    <tr>\n",
       "      <th>...</th>\n",
       "      <td>...</td>\n",
       "      <td>...</td>\n",
       "      <td>...</td>\n",
       "      <td>...</td>\n",
       "      <td>...</td>\n",
       "      <td>...</td>\n",
       "      <td>...</td>\n",
       "    </tr>\n",
       "    <tr>\n",
       "      <th>2019-06-18</th>\n",
       "      <td>198.449997</td>\n",
       "      <td>185.432500</td>\n",
       "      <td>201.032574</td>\n",
       "      <td>169.832427</td>\n",
       "      <td>buy</td>\n",
       "      <td>1.0</td>\n",
       "      <td>1.355366</td>\n",
       "    </tr>\n",
       "    <tr>\n",
       "      <th>2019-06-19</th>\n",
       "      <td>197.869995</td>\n",
       "      <td>185.996000</td>\n",
       "      <td>202.558154</td>\n",
       "      <td>169.433846</td>\n",
       "      <td>buy</td>\n",
       "      <td>1.0</td>\n",
       "      <td>1.355366</td>\n",
       "    </tr>\n",
       "    <tr>\n",
       "      <th>2019-06-20</th>\n",
       "      <td>199.460007</td>\n",
       "      <td>186.830000</td>\n",
       "      <td>204.361771</td>\n",
       "      <td>169.298229</td>\n",
       "      <td>buy</td>\n",
       "      <td>1.0</td>\n",
       "      <td>1.355366</td>\n",
       "    </tr>\n",
       "    <tr>\n",
       "      <th>2019-06-21</th>\n",
       "      <td>198.779999</td>\n",
       "      <td>187.786000</td>\n",
       "      <td>205.751400</td>\n",
       "      <td>169.820600</td>\n",
       "      <td>buy</td>\n",
       "      <td>1.0</td>\n",
       "      <td>1.355366</td>\n",
       "    </tr>\n",
       "    <tr>\n",
       "      <th>2019-06-24</th>\n",
       "      <td>199.169998</td>\n",
       "      <td>188.796000</td>\n",
       "      <td>206.944862</td>\n",
       "      <td>170.647138</td>\n",
       "      <td>buy</td>\n",
       "      <td>1.0</td>\n",
       "      <td>1.355366</td>\n",
       "    </tr>\n",
       "  </tbody>\n",
       "</table>\n",
       "<p>1630 rows × 7 columns</p>\n",
       "</div>"
      ],
      "text/plain": [
       "                 Close      center          ub          lb trade  return  \\\n",
       "Date                                                                       \n",
       "2013-01-02   78.432854   75.742428   80.299680   71.185175           1.0   \n",
       "2013-01-03   77.442856   75.501356   78.991046   72.011667           1.0   \n",
       "2013-01-04   75.285713   75.417142   78.838220   71.996064           1.0   \n",
       "2013-01-07   74.842857   75.250428   78.420993   72.079863           1.0   \n",
       "2013-01-08   75.044289   75.193714   78.334816   72.052611           1.0   \n",
       "...                ...         ...         ...         ...   ...     ...   \n",
       "2019-06-18  198.449997  185.432500  201.032574  169.832427   buy     1.0   \n",
       "2019-06-19  197.869995  185.996000  202.558154  169.433846   buy     1.0   \n",
       "2019-06-20  199.460007  186.830000  204.361771  169.298229   buy     1.0   \n",
       "2019-06-21  198.779999  187.786000  205.751400  169.820600   buy     1.0   \n",
       "2019-06-24  199.169998  188.796000  206.944862  170.647138   buy     1.0   \n",
       "\n",
       "             acc_rtn  \n",
       "Date                  \n",
       "2013-01-02  1.000000  \n",
       "2013-01-03  1.000000  \n",
       "2013-01-04  1.000000  \n",
       "2013-01-07  1.000000  \n",
       "2013-01-08  1.000000  \n",
       "...              ...  \n",
       "2019-06-18  1.355366  \n",
       "2019-06-19  1.355366  \n",
       "2019-06-20  1.355366  \n",
       "2019-06-21  1.355366  \n",
       "2019-06-24  1.355366  \n",
       "\n",
       "[1630 rows x 7 columns]"
      ]
     },
     "execution_count": 256,
     "metadata": {},
     "output_type": "execute_result"
    }
   ],
   "source": [
    "third(df)"
   ]
  },
  {
   "cell_type": "code",
   "execution_count": 262,
   "metadata": {},
   "outputs": [
    {
     "data": {
      "text/plain": [
       "<module 'bollinger' from 'c:\\\\Users\\\\intco\\\\Documents\\\\GitHub\\\\python\\\\230318\\\\bollinger\\\\__init__.py'>"
      ]
     },
     "execution_count": 262,
     "metadata": {},
     "output_type": "execute_result"
    }
   ],
   "source": [
    "import bollinger as bb\n",
    "import imp\n",
    "imp.reload(bb)"
   ]
  },
  {
   "cell_type": "code",
   "execution_count": 263,
   "metadata": {},
   "outputs": [
    {
     "data": {
      "text/html": [
       "<div>\n",
       "<style scoped>\n",
       "    .dataframe tbody tr th:only-of-type {\n",
       "        vertical-align: middle;\n",
       "    }\n",
       "\n",
       "    .dataframe tbody tr th {\n",
       "        vertical-align: top;\n",
       "    }\n",
       "\n",
       "    .dataframe thead th {\n",
       "        text-align: right;\n",
       "    }\n",
       "</style>\n",
       "<table border=\"1\" class=\"dataframe\">\n",
       "  <thead>\n",
       "    <tr style=\"text-align: right;\">\n",
       "      <th></th>\n",
       "      <th>Open</th>\n",
       "      <th>High</th>\n",
       "      <th>Low</th>\n",
       "      <th>Close</th>\n",
       "      <th>Adj Close</th>\n",
       "      <th>Volume</th>\n",
       "    </tr>\n",
       "    <tr>\n",
       "      <th>Date</th>\n",
       "      <th></th>\n",
       "      <th></th>\n",
       "      <th></th>\n",
       "      <th></th>\n",
       "      <th></th>\n",
       "      <th></th>\n",
       "    </tr>\n",
       "  </thead>\n",
       "  <tbody>\n",
       "    <tr>\n",
       "      <th>2007-04-10</th>\n",
       "      <td>75.070000</td>\n",
       "      <td>75.260002</td>\n",
       "      <td>75.000000</td>\n",
       "      <td>75.239998</td>\n",
       "      <td>51.523693</td>\n",
       "      <td>35000</td>\n",
       "    </tr>\n",
       "    <tr>\n",
       "      <th>2007-04-11</th>\n",
       "      <td>75.160004</td>\n",
       "      <td>75.290001</td>\n",
       "      <td>75.029999</td>\n",
       "      <td>75.040001</td>\n",
       "      <td>51.386742</td>\n",
       "      <td>87700</td>\n",
       "    </tr>\n",
       "    <tr>\n",
       "      <th>2007-04-12</th>\n",
       "      <td>75.059998</td>\n",
       "      <td>75.080002</td>\n",
       "      <td>74.959999</td>\n",
       "      <td>75.029999</td>\n",
       "      <td>51.379879</td>\n",
       "      <td>78100</td>\n",
       "    </tr>\n",
       "    <tr>\n",
       "      <th>2007-04-13</th>\n",
       "      <td>75.040001</td>\n",
       "      <td>75.070000</td>\n",
       "      <td>74.849998</td>\n",
       "      <td>74.910004</td>\n",
       "      <td>51.297688</td>\n",
       "      <td>18000</td>\n",
       "    </tr>\n",
       "    <tr>\n",
       "      <th>2007-04-16</th>\n",
       "      <td>74.989998</td>\n",
       "      <td>74.989998</td>\n",
       "      <td>74.940002</td>\n",
       "      <td>74.980003</td>\n",
       "      <td>51.345627</td>\n",
       "      <td>52700</td>\n",
       "    </tr>\n",
       "  </tbody>\n",
       "</table>\n",
       "</div>"
      ],
      "text/plain": [
       "                 Open       High        Low      Close  Adj Close  Volume\n",
       "Date                                                                     \n",
       "2007-04-10  75.070000  75.260002  75.000000  75.239998  51.523693   35000\n",
       "2007-04-11  75.160004  75.290001  75.029999  75.040001  51.386742   87700\n",
       "2007-04-12  75.059998  75.080002  74.959999  75.029999  51.379879   78100\n",
       "2007-04-13  75.040001  75.070000  74.849998  74.910004  51.297688   18000\n",
       "2007-04-16  74.989998  74.989998  74.940002  74.980003  51.345627   52700"
      ]
     },
     "execution_count": 263,
     "metadata": {},
     "output_type": "execute_result"
    }
   ],
   "source": [
    "df = pd.read_csv('../csv/BND.csv', index_col = 'Date')\n",
    "df.head()"
   ]
  },
  {
   "cell_type": "code",
   "execution_count": 264,
   "metadata": {},
   "outputs": [
    {
     "name": "stderr",
     "output_type": "stream",
     "text": [
      "c:\\Users\\intco\\Documents\\GitHub\\python\\230318\\bollinger\\__init__.py:8: FutureWarning: In a future version of pandas all arguments of DataFrame.any and Series.any will be keyword-only.\n",
      "  result = _df[~df.isin([np.nan, np.inf, -np.inf]).any(1)]\n"
     ]
    },
    {
     "data": {
      "text/html": [
       "<div>\n",
       "<style scoped>\n",
       "    .dataframe tbody tr th:only-of-type {\n",
       "        vertical-align: middle;\n",
       "    }\n",
       "\n",
       "    .dataframe tbody tr th {\n",
       "        vertical-align: top;\n",
       "    }\n",
       "\n",
       "    .dataframe thead th {\n",
       "        text-align: right;\n",
       "    }\n",
       "</style>\n",
       "<table border=\"1\" class=\"dataframe\">\n",
       "  <thead>\n",
       "    <tr style=\"text-align: right;\">\n",
       "      <th></th>\n",
       "      <th>Adj Close</th>\n",
       "      <th>center</th>\n",
       "      <th>ub</th>\n",
       "      <th>lb</th>\n",
       "    </tr>\n",
       "    <tr>\n",
       "      <th>Date</th>\n",
       "      <th></th>\n",
       "      <th></th>\n",
       "      <th></th>\n",
       "      <th></th>\n",
       "    </tr>\n",
       "  </thead>\n",
       "  <tbody>\n",
       "    <tr>\n",
       "      <th>2011-01-03</th>\n",
       "      <td>64.215347</td>\n",
       "      <td>64.013149</td>\n",
       "      <td>64.616070</td>\n",
       "      <td>63.410227</td>\n",
       "    </tr>\n",
       "    <tr>\n",
       "      <th>2011-01-04</th>\n",
       "      <td>64.223389</td>\n",
       "      <td>63.983159</td>\n",
       "      <td>64.463678</td>\n",
       "      <td>63.502641</td>\n",
       "    </tr>\n",
       "    <tr>\n",
       "      <th>2011-01-05</th>\n",
       "      <td>63.943043</td>\n",
       "      <td>63.962609</td>\n",
       "      <td>64.410380</td>\n",
       "      <td>63.514838</td>\n",
       "    </tr>\n",
       "    <tr>\n",
       "      <th>2011-01-06</th>\n",
       "      <td>63.999104</td>\n",
       "      <td>63.961561</td>\n",
       "      <td>64.408864</td>\n",
       "      <td>63.514259</td>\n",
       "    </tr>\n",
       "    <tr>\n",
       "      <th>2011-01-07</th>\n",
       "      <td>64.239395</td>\n",
       "      <td>63.969743</td>\n",
       "      <td>64.431591</td>\n",
       "      <td>63.507896</td>\n",
       "    </tr>\n",
       "  </tbody>\n",
       "</table>\n",
       "</div>"
      ],
      "text/plain": [
       "            Adj Close     center         ub         lb\n",
       "Date                                                  \n",
       "2011-01-03  64.215347  64.013149  64.616070  63.410227\n",
       "2011-01-04  64.223389  63.983159  64.463678  63.502641\n",
       "2011-01-05  63.943043  63.962609  64.410380  63.514838\n",
       "2011-01-06  63.999104  63.961561  64.408864  63.514259\n",
       "2011-01-07  64.239395  63.969743  64.431591  63.507896"
      ]
     },
     "execution_count": 264,
     "metadata": {},
     "output_type": "execute_result"
    }
   ],
   "source": [
    "df = bb.first(df, 'Adj Close', ('2011-01-01'))\n",
    "df.head()"
   ]
  },
  {
   "cell_type": "code",
   "execution_count": 265,
   "metadata": {},
   "outputs": [
    {
     "data": {
      "text/html": [
       "<div>\n",
       "<style scoped>\n",
       "    .dataframe tbody tr th:only-of-type {\n",
       "        vertical-align: middle;\n",
       "    }\n",
       "\n",
       "    .dataframe tbody tr th {\n",
       "        vertical-align: top;\n",
       "    }\n",
       "\n",
       "    .dataframe thead th {\n",
       "        text-align: right;\n",
       "    }\n",
       "</style>\n",
       "<table border=\"1\" class=\"dataframe\">\n",
       "  <thead>\n",
       "    <tr style=\"text-align: right;\">\n",
       "      <th></th>\n",
       "      <th>Adj Close</th>\n",
       "      <th>center</th>\n",
       "      <th>ub</th>\n",
       "      <th>lb</th>\n",
       "      <th>trade</th>\n",
       "    </tr>\n",
       "    <tr>\n",
       "      <th>Date</th>\n",
       "      <th></th>\n",
       "      <th></th>\n",
       "      <th></th>\n",
       "      <th></th>\n",
       "      <th></th>\n",
       "    </tr>\n",
       "  </thead>\n",
       "  <tbody>\n",
       "    <tr>\n",
       "      <th>2011-01-03</th>\n",
       "      <td>64.215347</td>\n",
       "      <td>64.013149</td>\n",
       "      <td>64.616070</td>\n",
       "      <td>63.410227</td>\n",
       "      <td></td>\n",
       "    </tr>\n",
       "    <tr>\n",
       "      <th>2011-01-04</th>\n",
       "      <td>64.223389</td>\n",
       "      <td>63.983159</td>\n",
       "      <td>64.463678</td>\n",
       "      <td>63.502641</td>\n",
       "      <td></td>\n",
       "    </tr>\n",
       "    <tr>\n",
       "      <th>2011-01-05</th>\n",
       "      <td>63.943043</td>\n",
       "      <td>63.962609</td>\n",
       "      <td>64.410380</td>\n",
       "      <td>63.514838</td>\n",
       "      <td></td>\n",
       "    </tr>\n",
       "    <tr>\n",
       "      <th>2011-01-06</th>\n",
       "      <td>63.999104</td>\n",
       "      <td>63.961561</td>\n",
       "      <td>64.408864</td>\n",
       "      <td>63.514259</td>\n",
       "      <td></td>\n",
       "    </tr>\n",
       "    <tr>\n",
       "      <th>2011-01-07</th>\n",
       "      <td>64.239395</td>\n",
       "      <td>63.969743</td>\n",
       "      <td>64.431591</td>\n",
       "      <td>63.507896</td>\n",
       "      <td></td>\n",
       "    </tr>\n",
       "  </tbody>\n",
       "</table>\n",
       "</div>"
      ],
      "text/plain": [
       "            Adj Close     center         ub         lb trade\n",
       "Date                                                        \n",
       "2011-01-03  64.215347  64.013149  64.616070  63.410227      \n",
       "2011-01-04  64.223389  63.983159  64.463678  63.502641      \n",
       "2011-01-05  63.943043  63.962609  64.410380  63.514838      \n",
       "2011-01-06  63.999104  63.961561  64.408864  63.514259      \n",
       "2011-01-07  64.239395  63.969743  64.431591  63.507896      "
      ]
     },
     "execution_count": 265,
     "metadata": {},
     "output_type": "execute_result"
    }
   ],
   "source": [
    "df = bb.second(df)\n",
    "df.head()"
   ]
  },
  {
   "cell_type": "code",
   "execution_count": 266,
   "metadata": {},
   "outputs": [
    {
     "name": "stdout",
     "output_type": "stream",
     "text": [
      "구매 일자 : 2011-02-03 구매 가격 : 63.937851\n",
      "판매 일자 : 2011-03-16 판매 가격 : 65.105652 수익율 : 1.0183\n",
      "구매 일자 : 2011-06-29 구매 가격 : 66.049957\n",
      "판매 일자 : 2011-08-01 판매 가격 : 67.197464 수익율 : 1.0174\n",
      "구매 일자 : 2011-11-30 구매 가격 : 68.584297\n",
      "판매 일자 : 2011-12-13 판매 가격 : 69.032143 수익율 : 1.0065\n",
      "구매 일자 : 2012-03-14 구매 가격 : 69.140411\n",
      "판매 일자 : 2012-04-10 판매 가격 : 70.015167 수익율 : 1.0127\n",
      "구매 일자 : 2012-08-15 구매 가격 : 71.121567\n",
      "판매 일자 : 2013-02-25 판매 가격 : 71.270378 수익율 : 1.0021\n",
      "구매 일자 : 2013-05-10 구매 가격 : 71.452927\n",
      "판매 일자 : 2013-09-18 판매 가격 : 69.627502 수익율 : 0.9745\n",
      "구매 일자 : 2013-12-24 구매 가격 : 69.648918\n",
      "판매 일자 : 2014-02-03 판매 가격 : 70.937912 수익율 : 1.0185\n",
      "구매 일자 : 2014-09-10 구매 가격 : 72.17923\n",
      "판매 일자 : 2014-10-01 판매 가격 : 72.65773 수익율 : 1.0066\n",
      "구매 일자 : 2015-02-17 구매 가격 : 73.605263\n",
      "판매 일자 : 2015-03-18 판매 가격 : 74.53598 수익율 : 1.0126\n",
      "구매 일자 : 2015-04-28 구매 가격 : 74.316902\n",
      "판매 일자 : 2015-07-08 판매 가격 : 73.50975 수익율 : 0.9891\n",
      "구매 일자 : 2015-10-29 구매 가격 : 73.890236\n",
      "판매 일자 : 2015-12-01 판매 가격 : 74.04142 수익율 : 1.002\n",
      "구매 일자 : 2016-09-09 구매 가격 : 77.30217\n",
      "판매 일자 : 2017-01-05 판매 가격 : 75.613007 수익율 : 0.9781\n",
      "구매 일자 : 2017-03-08 구매 가격 : 75.011765\n",
      "판매 일자 : 2017-04-13 판매 가격 : 76.464966 수익율 : 1.0194\n",
      "구매 일자 : 2017-10-26 구매 가격 : 77.53038\n",
      "판매 일자 : 2018-03-14 판매 가격 : 76.601967 수익율 : 0.988\n",
      "구매 일자 : 2018-04-20 구매 가격 : 76.244148\n",
      "판매 일자 : 2018-05-29 판매 가격 : 77.054466 수익율 : 1.0106\n",
      "구매 일자 : 2018-09-11 구매 가격 : 76.900856\n",
      "판매 일자 : 2018-12-04 판매 가격 : 76.951714 수익율 : 1.0007\n",
      "구매 일자 : 2019-03-01 구매 가격 : 78.634193\n",
      "판매 일자 : 2019-03-08 판매 가격 : 79.258186 수익율 : 1.0079\n",
      "누적 수익율 : 1.0655\n"
     ]
    },
    {
     "data": {
      "text/html": [
       "<div>\n",
       "<style scoped>\n",
       "    .dataframe tbody tr th:only-of-type {\n",
       "        vertical-align: middle;\n",
       "    }\n",
       "\n",
       "    .dataframe tbody tr th {\n",
       "        vertical-align: top;\n",
       "    }\n",
       "\n",
       "    .dataframe thead th {\n",
       "        text-align: right;\n",
       "    }\n",
       "</style>\n",
       "<table border=\"1\" class=\"dataframe\">\n",
       "  <thead>\n",
       "    <tr style=\"text-align: right;\">\n",
       "      <th></th>\n",
       "      <th>Adj Close</th>\n",
       "      <th>center</th>\n",
       "      <th>ub</th>\n",
       "      <th>lb</th>\n",
       "      <th>trade</th>\n",
       "      <th>return</th>\n",
       "      <th>acc_rtn</th>\n",
       "    </tr>\n",
       "    <tr>\n",
       "      <th>Date</th>\n",
       "      <th></th>\n",
       "      <th></th>\n",
       "      <th></th>\n",
       "      <th></th>\n",
       "      <th></th>\n",
       "      <th></th>\n",
       "      <th></th>\n",
       "    </tr>\n",
       "  </thead>\n",
       "  <tbody>\n",
       "    <tr>\n",
       "      <th>2011-01-03</th>\n",
       "      <td>64.215347</td>\n",
       "      <td>64.013149</td>\n",
       "      <td>64.616070</td>\n",
       "      <td>63.410227</td>\n",
       "      <td></td>\n",
       "      <td>1.0</td>\n",
       "      <td>1.0</td>\n",
       "    </tr>\n",
       "    <tr>\n",
       "      <th>2011-01-04</th>\n",
       "      <td>64.223389</td>\n",
       "      <td>63.983159</td>\n",
       "      <td>64.463678</td>\n",
       "      <td>63.502641</td>\n",
       "      <td></td>\n",
       "      <td>1.0</td>\n",
       "      <td>1.0</td>\n",
       "    </tr>\n",
       "    <tr>\n",
       "      <th>2011-01-05</th>\n",
       "      <td>63.943043</td>\n",
       "      <td>63.962609</td>\n",
       "      <td>64.410380</td>\n",
       "      <td>63.514838</td>\n",
       "      <td></td>\n",
       "      <td>1.0</td>\n",
       "      <td>1.0</td>\n",
       "    </tr>\n",
       "    <tr>\n",
       "      <th>2011-01-06</th>\n",
       "      <td>63.999104</td>\n",
       "      <td>63.961561</td>\n",
       "      <td>64.408864</td>\n",
       "      <td>63.514259</td>\n",
       "      <td></td>\n",
       "      <td>1.0</td>\n",
       "      <td>1.0</td>\n",
       "    </tr>\n",
       "    <tr>\n",
       "      <th>2011-01-07</th>\n",
       "      <td>64.239395</td>\n",
       "      <td>63.969743</td>\n",
       "      <td>64.431591</td>\n",
       "      <td>63.507896</td>\n",
       "      <td></td>\n",
       "      <td>1.0</td>\n",
       "      <td>1.0</td>\n",
       "    </tr>\n",
       "  </tbody>\n",
       "</table>\n",
       "</div>"
      ],
      "text/plain": [
       "            Adj Close     center         ub         lb trade  return  acc_rtn\n",
       "Date                                                                         \n",
       "2011-01-03  64.215347  64.013149  64.616070  63.410227           1.0      1.0\n",
       "2011-01-04  64.223389  63.983159  64.463678  63.502641           1.0      1.0\n",
       "2011-01-05  63.943043  63.962609  64.410380  63.514838           1.0      1.0\n",
       "2011-01-06  63.999104  63.961561  64.408864  63.514259           1.0      1.0\n",
       "2011-01-07  64.239395  63.969743  64.431591  63.507896           1.0      1.0"
      ]
     },
     "execution_count": 266,
     "metadata": {},
     "output_type": "execute_result"
    }
   ],
   "source": [
    "df = bb.third(df)\n",
    "df.head()"
   ]
  },
  {
   "cell_type": "code",
   "execution_count": null,
   "metadata": {},
   "outputs": [],
   "source": []
  }
 ],
 "metadata": {
  "kernelspec": {
   "display_name": "Python 3",
   "language": "python",
   "name": "python3"
  },
  "language_info": {
   "codemirror_mode": {
    "name": "ipython",
    "version": 3
   },
   "file_extension": ".py",
   "mimetype": "text/x-python",
   "name": "python",
   "nbconvert_exporter": "python",
   "pygments_lexer": "ipython3",
   "version": "3.11.1 (tags/v3.11.1:a7a450f, Dec  6 2022, 19:58:39) [MSC v.1934 64 bit (AMD64)]"
  },
  "orig_nbformat": 4,
  "vscode": {
   "interpreter": {
    "hash": "afffc98ef2e14478aefd6c9936db4a8482b7a0abefe81264c0b83ced56e60f5e"
   }
  }
 },
 "nbformat": 4,
 "nbformat_minor": 2
}
